{
 "cells": [
  {
   "cell_type": "markdown",
   "id": "de70737f",
   "metadata": {},
   "source": [
    "# This script is to reproduce the plots in the appendix when quotes from Trump are removed. Otherwise it is the same as the \"Regression - R script.ipynb\" notebook"
   ]
  },
  {
   "cell_type": "markdown",
   "id": "87b73502",
   "metadata": {},
   "source": [
    "# Import all libraries "
   ]
  },
  {
   "cell_type": "code",
   "execution_count": 2,
   "id": "f74d1559",
   "metadata": {
    "scrolled": true
   },
   "outputs": [
    {
     "name": "stderr",
     "output_type": "stream",
     "text": [
      "Loading required package: zoo\n",
      "\n",
      "\n",
      "Attaching package: 'zoo'\n",
      "\n",
      "\n",
      "The following objects are masked from 'package:base':\n",
      "\n",
      "    as.Date, as.Date.numeric\n",
      "\n",
      "\n",
      "\n",
      "Attaching package: 'dplyr'\n",
      "\n",
      "\n",
      "The following objects are masked from 'package:data.table':\n",
      "\n",
      "    between, first, last\n",
      "\n",
      "\n",
      "The following objects are masked from 'package:stats':\n",
      "\n",
      "    filter, lag\n",
      "\n",
      "\n",
      "The following objects are masked from 'package:base':\n",
      "\n",
      "    intersect, setdiff, setequal, union\n",
      "\n",
      "\n"
     ]
    }
   ],
   "source": [
    "library(\"data.table\")\n",
    "library(\"emmeans\")\n",
    "library(\"lmtest\")\n",
    "library(\"sandwich\")\n",
    "library(\"dplyr\")\n",
    "\n"
   ]
  },
  {
   "cell_type": "markdown",
   "id": "e0f4ba6c",
   "metadata": {},
   "source": [
    "# Load data in "
   ]
  },
  {
   "cell_type": "code",
   "execution_count": 3,
   "id": "3e27dc6a",
   "metadata": {},
   "outputs": [],
   "source": [
    "dF <- fread('zstdcat quote_centric_regression.zst')\n"
   ]
  },
  {
   "cell_type": "code",
   "execution_count": 11,
   "id": "c2b3e03e",
   "metadata": {
    "scrolled": false
   },
   "outputs": [],
   "source": [
    "# use a compressed version to perform regression to save RAM\n",
    "df_shrunk <- select(dF, verb,cluster_assignment,domain, party, professional_verb,unprofessional_verb,outlet_category,outlet_category_binary,relative_time,speaker_verbosity_weight,yearmonth,top_speaker,domain_proxy)\n"
   ]
  },
  {
   "cell_type": "code",
   "execution_count": 12,
   "id": "2f3bbcb4",
   "metadata": {},
   "outputs": [],
   "source": [
    "df_shrunk <- df_shrunk[df_shrunk$verb != 'opine']\n",
    "df_shrunk <- df_shrunk[df_shrunk$verb != 'pen']\n",
    "df_shrunk <- df_shrunk[df_shrunk$verb != 'utter']\n"
   ]
  },
  {
   "cell_type": "code",
   "execution_count": 13,
   "id": "cc77026f",
   "metadata": {},
   "outputs": [],
   "source": [
    "# Remove Trump\n",
    "df_shrunk <- filter(df_shrunk, top_speaker != 'Q22686')\n"
   ]
  },
  {
   "cell_type": "markdown",
   "id": "307bcb7a",
   "metadata": {},
   "source": [
    "# Model 1 (Equation 1), temporal trend of unobjective verb: "
   ]
  },
  {
   "cell_type": "code",
   "execution_count": 16,
   "id": "69a53ac3",
   "metadata": {},
   "outputs": [],
   "source": [
    "model1=lm(unprofessional_verb ~ domain_proxy+factor(outlet_category)+ factor(outlet_category):relative_time, data = df_shrunk)\n"
   ]
  },
  {
   "cell_type": "code",
   "execution_count": 17,
   "id": "b8ba847e",
   "metadata": {},
   "outputs": [],
   "source": [
    "cl_vcov_mat1 <- vcovCL(model1,cluster = factor(df_shrunk$domain))\n"
   ]
  },
  {
   "cell_type": "code",
   "execution_count": 18,
   "id": "f8cb4935",
   "metadata": {},
   "outputs": [
    {
     "data": {
      "text/html": [
       "<dl>\n",
       "\t<dt>$emtrends</dt>\n",
       "\t\t<dd><table class=\"dataframe\">\n",
       "<caption>A summary_emm: 5 × 6</caption>\n",
       "<thead>\n",
       "\t<tr><th></th><th scope=col>outlet_category</th><th scope=col>relative_time.trend</th><th scope=col>SE</th><th scope=col>df</th><th scope=col>t.ratio</th><th scope=col>p.value</th></tr>\n",
       "\t<tr><th></th><th scope=col>&lt;fct&gt;</th><th scope=col>&lt;dbl&gt;</th><th scope=col>&lt;dbl&gt;</th><th scope=col>&lt;dbl&gt;</th><th scope=col>&lt;dbl&gt;</th><th scope=col>&lt;dbl&gt;</th></tr>\n",
       "</thead>\n",
       "<tbody>\n",
       "\t<tr><th scope=row>1</th><td>left_center_media </td><td>-2.304280e-05</td><td>1.263179e-05</td><td>5672089</td><td>-1.824192</td><td>0.0681231597</td></tr>\n",
       "\t<tr><th scope=row>2</th><td>left_media        </td><td>-1.885862e-04</td><td>5.283533e-05</td><td>5672089</td><td>-3.569320</td><td>0.0003579127</td></tr>\n",
       "\t<tr><th scope=row>3</th><td>mainstream        </td><td>-2.082080e-05</td><td>1.222875e-05</td><td>5672089</td><td>-1.702610</td><td>0.0886410869</td></tr>\n",
       "\t<tr><th scope=row>4</th><td>right_center_media</td><td>-5.749133e-06</td><td>1.851030e-05</td><td>5672089</td><td>-0.310591</td><td>0.7561115634</td></tr>\n",
       "\t<tr><th scope=row>5</th><td>right_media       </td><td> 2.395092e-05</td><td>7.826920e-05</td><td>5672089</td><td> 0.306007</td><td>0.7595993570</td></tr>\n",
       "</tbody>\n",
       "</table>\n",
       "</dd>\n",
       "\t<dt>$contrasts</dt>\n",
       "\t\t<dd><table class=\"dataframe\">\n",
       "<caption>A summary_emm: 10 × 6</caption>\n",
       "<thead>\n",
       "\t<tr><th></th><th scope=col>contrast</th><th scope=col>estimate</th><th scope=col>SE</th><th scope=col>df</th><th scope=col>t.ratio</th><th scope=col>p.value</th></tr>\n",
       "\t<tr><th></th><th scope=col>&lt;fct&gt;</th><th scope=col>&lt;dbl&gt;</th><th scope=col>&lt;dbl&gt;</th><th scope=col>&lt;dbl&gt;</th><th scope=col>&lt;dbl&gt;</th><th scope=col>&lt;dbl&gt;</th></tr>\n",
       "</thead>\n",
       "<tbody>\n",
       "\t<tr><th scope=row>1</th><td>left_center_media - left_media        </td><td> 1.655434e-04</td><td>5.431854e-05</td><td>5672089</td><td> 3.0476406</td><td>0.019554136</td></tr>\n",
       "\t<tr><th scope=row>2</th><td>left_center_media - mainstream        </td><td>-2.222004e-06</td><td>1.758177e-05</td><td>5672089</td><td>-0.1263811</td><td>0.999942631</td></tr>\n",
       "\t<tr><th scope=row>3</th><td>left_center_media - right_center_media</td><td>-1.729367e-05</td><td>2.240876e-05</td><td>5672089</td><td>-0.7717372</td><td>0.938765956</td></tr>\n",
       "\t<tr><th scope=row>4</th><td>left_center_media - right_media       </td><td>-4.699372e-05</td><td>7.926814e-05</td><td>5672089</td><td>-0.5928450</td><td>0.976196747</td></tr>\n",
       "\t<tr><th scope=row>5</th><td>left_media - mainstream               </td><td>-1.677654e-04</td><td>5.423551e-05</td><td>5672089</td><td>-3.0932757</td><td>0.016938019</td></tr>\n",
       "\t<tr><th scope=row>6</th><td>left_media - right_center_media       </td><td>-1.828371e-04</td><td>5.597362e-05</td><td>5672089</td><td>-3.2664860</td><td>0.009611016</td></tr>\n",
       "\t<tr><th scope=row>7</th><td>left_media - right_media              </td><td>-2.125371e-04</td><td>9.418324e-05</td><td>5672089</td><td>-2.2566340</td><td>0.159208728</td></tr>\n",
       "\t<tr><th scope=row>8</th><td>mainstream - right_center_media       </td><td>-1.507167e-05</td><td>2.218544e-05</td><td>5672089</td><td>-0.6793495</td><td>0.960951385</td></tr>\n",
       "\t<tr><th scope=row>9</th><td>mainstream - right_media              </td><td>-4.477172e-05</td><td>7.922776e-05</td><td>5672089</td><td>-0.5651014</td><td>0.980059870</td></tr>\n",
       "\t<tr><th scope=row>10</th><td>right_center_media - right_media      </td><td>-2.970005e-05</td><td>8.039754e-05</td><td>5672089</td><td>-0.3694149</td><td>0.996039741</td></tr>\n",
       "</tbody>\n",
       "</table>\n",
       "</dd>\n",
       "</dl>\n"
      ],
      "text/latex": [
       "\\begin{description}\n",
       "\\item[\\$emtrends] A summary\\_emm: 5 × 6\n",
       "\\begin{tabular}{r|llllll}\n",
       "  & outlet\\_category & relative\\_time.trend & SE & df & t.ratio & p.value\\\\\n",
       "  & <fct> & <dbl> & <dbl> & <dbl> & <dbl> & <dbl>\\\\\n",
       "\\hline\n",
       "\t1 & left\\_center\\_media  & -2.304280e-05 & 1.263179e-05 & 5672089 & -1.824192 & 0.0681231597\\\\\n",
       "\t2 & left\\_media         & -1.885862e-04 & 5.283533e-05 & 5672089 & -3.569320 & 0.0003579127\\\\\n",
       "\t3 & mainstream         & -2.082080e-05 & 1.222875e-05 & 5672089 & -1.702610 & 0.0886410869\\\\\n",
       "\t4 & right\\_center\\_media & -5.749133e-06 & 1.851030e-05 & 5672089 & -0.310591 & 0.7561115634\\\\\n",
       "\t5 & right\\_media        &  2.395092e-05 & 7.826920e-05 & 5672089 &  0.306007 & 0.7595993570\\\\\n",
       "\\end{tabular}\n",
       "\n",
       "\\item[\\$contrasts] A summary\\_emm: 10 × 6\n",
       "\\begin{tabular}{r|llllll}\n",
       "  & contrast & estimate & SE & df & t.ratio & p.value\\\\\n",
       "  & <fct> & <dbl> & <dbl> & <dbl> & <dbl> & <dbl>\\\\\n",
       "\\hline\n",
       "\t1 & left\\_center\\_media - left\\_media         &  1.655434e-04 & 5.431854e-05 & 5672089 &  3.0476406 & 0.019554136\\\\\n",
       "\t2 & left\\_center\\_media - mainstream         & -2.222004e-06 & 1.758177e-05 & 5672089 & -0.1263811 & 0.999942631\\\\\n",
       "\t3 & left\\_center\\_media - right\\_center\\_media & -1.729367e-05 & 2.240876e-05 & 5672089 & -0.7717372 & 0.938765956\\\\\n",
       "\t4 & left\\_center\\_media - right\\_media        & -4.699372e-05 & 7.926814e-05 & 5672089 & -0.5928450 & 0.976196747\\\\\n",
       "\t5 & left\\_media - mainstream                & -1.677654e-04 & 5.423551e-05 & 5672089 & -3.0932757 & 0.016938019\\\\\n",
       "\t6 & left\\_media - right\\_center\\_media        & -1.828371e-04 & 5.597362e-05 & 5672089 & -3.2664860 & 0.009611016\\\\\n",
       "\t7 & left\\_media - right\\_media               & -2.125371e-04 & 9.418324e-05 & 5672089 & -2.2566340 & 0.159208728\\\\\n",
       "\t8 & mainstream - right\\_center\\_media        & -1.507167e-05 & 2.218544e-05 & 5672089 & -0.6793495 & 0.960951385\\\\\n",
       "\t9 & mainstream - right\\_media               & -4.477172e-05 & 7.922776e-05 & 5672089 & -0.5651014 & 0.980059870\\\\\n",
       "\t10 & right\\_center\\_media - right\\_media       & -2.970005e-05 & 8.039754e-05 & 5672089 & -0.3694149 & 0.996039741\\\\\n",
       "\\end{tabular}\n",
       "\n",
       "\\end{description}\n"
      ],
      "text/markdown": [
       "$emtrends\n",
       ":   \n",
       "A summary_emm: 5 × 6\n",
       "\n",
       "| <!--/--> | outlet_category &lt;fct&gt; | relative_time.trend &lt;dbl&gt; | SE &lt;dbl&gt; | df &lt;dbl&gt; | t.ratio &lt;dbl&gt; | p.value &lt;dbl&gt; |\n",
       "|---|---|---|---|---|---|---|\n",
       "| 1 | left_center_media  | -2.304280e-05 | 1.263179e-05 | 5672089 | -1.824192 | 0.0681231597 |\n",
       "| 2 | left_media         | -1.885862e-04 | 5.283533e-05 | 5672089 | -3.569320 | 0.0003579127 |\n",
       "| 3 | mainstream         | -2.082080e-05 | 1.222875e-05 | 5672089 | -1.702610 | 0.0886410869 |\n",
       "| 4 | right_center_media | -5.749133e-06 | 1.851030e-05 | 5672089 | -0.310591 | 0.7561115634 |\n",
       "| 5 | right_media        |  2.395092e-05 | 7.826920e-05 | 5672089 |  0.306007 | 0.7595993570 |\n",
       "\n",
       "\n",
       "$contrasts\n",
       ":   \n",
       "A summary_emm: 10 × 6\n",
       "\n",
       "| <!--/--> | contrast &lt;fct&gt; | estimate &lt;dbl&gt; | SE &lt;dbl&gt; | df &lt;dbl&gt; | t.ratio &lt;dbl&gt; | p.value &lt;dbl&gt; |\n",
       "|---|---|---|---|---|---|---|\n",
       "| 1 | left_center_media - left_media         |  1.655434e-04 | 5.431854e-05 | 5672089 |  3.0476406 | 0.019554136 |\n",
       "| 2 | left_center_media - mainstream         | -2.222004e-06 | 1.758177e-05 | 5672089 | -0.1263811 | 0.999942631 |\n",
       "| 3 | left_center_media - right_center_media | -1.729367e-05 | 2.240876e-05 | 5672089 | -0.7717372 | 0.938765956 |\n",
       "| 4 | left_center_media - right_media        | -4.699372e-05 | 7.926814e-05 | 5672089 | -0.5928450 | 0.976196747 |\n",
       "| 5 | left_media - mainstream                | -1.677654e-04 | 5.423551e-05 | 5672089 | -3.0932757 | 0.016938019 |\n",
       "| 6 | left_media - right_center_media        | -1.828371e-04 | 5.597362e-05 | 5672089 | -3.2664860 | 0.009611016 |\n",
       "| 7 | left_media - right_media               | -2.125371e-04 | 9.418324e-05 | 5672089 | -2.2566340 | 0.159208728 |\n",
       "| 8 | mainstream - right_center_media        | -1.507167e-05 | 2.218544e-05 | 5672089 | -0.6793495 | 0.960951385 |\n",
       "| 9 | mainstream - right_media               | -4.477172e-05 | 7.922776e-05 | 5672089 | -0.5651014 | 0.980059870 |\n",
       "| 10 | right_center_media - right_media       | -2.970005e-05 | 8.039754e-05 | 5672089 | -0.3694149 | 0.996039741 |\n",
       "\n",
       "\n",
       "\n",
       "\n"
      ],
      "text/plain": [
       "$emtrends\n",
       " outlet_category    relative_time.trend       SE      df t.ratio p.value\n",
       " left_center_media            -2.30e-05 1.26e-05 5672089  -1.824  0.0681\n",
       " left_media                   -1.89e-04 5.28e-05 5672089  -3.569  0.0004\n",
       " mainstream                   -2.08e-05 1.22e-05 5672089  -1.703  0.0886\n",
       " right_center_media           -5.75e-06 1.85e-05 5672089  -0.311  0.7561\n",
       " right_media                   2.40e-05 7.83e-05 5672089   0.306  0.7596\n",
       "\n",
       "\n",
       "$contrasts\n",
       " contrast                                estimate       SE      df t.ratio\n",
       " left_center_media - left_media          1.66e-04 5.43e-05 5672089   3.048\n",
       " left_center_media - mainstream         -2.22e-06 1.76e-05 5672089  -0.126\n",
       " left_center_media - right_center_media -1.73e-05 2.24e-05 5672089  -0.772\n",
       " left_center_media - right_media        -4.70e-05 7.93e-05 5672089  -0.593\n",
       " left_media - mainstream                -1.68e-04 5.42e-05 5672089  -3.093\n",
       " left_media - right_center_media        -1.83e-04 5.60e-05 5672089  -3.266\n",
       " left_media - right_media               -2.13e-04 9.42e-05 5672089  -2.257\n",
       " mainstream - right_center_media        -1.51e-05 2.22e-05 5672089  -0.679\n",
       " mainstream - right_media               -4.48e-05 7.92e-05 5672089  -0.565\n",
       " right_center_media - right_media       -2.97e-05 8.04e-05 5672089  -0.369\n",
       " p.value\n",
       "  0.0196\n",
       "  0.9999\n",
       "  0.9388\n",
       "  0.9762\n",
       "  0.0169\n",
       "  0.0096\n",
       "  0.1592\n",
       "  0.9610\n",
       "  0.9801\n",
       "  0.9960\n",
       "\n",
       "P value adjustment: tukey method for comparing a family of 5 estimates \n"
      ]
     },
     "metadata": {},
     "output_type": "display_data"
    }
   ],
   "source": [
    "test(emtrends(model1, specs = pairwise ~ outlet_category,var = 'relative_time',vcov = as.matrix(cl_vcov_mat1)))\n"
   ]
  },
  {
   "cell_type": "markdown",
   "id": "1aa639f5",
   "metadata": {},
   "source": [
    "# Model 2 (Equation 2), investigate the effect of ideology: "
   ]
  },
  {
   "cell_type": "code",
   "execution_count": 19,
   "id": "dcec3e5f",
   "metadata": {},
   "outputs": [],
   "source": [
    "model2=lm(unprofessional_verb ~ factor(outlet_category) + factor(party) + factor(outlet_category):factor(party), data = df_shrunk)"
   ]
  },
  {
   "cell_type": "code",
   "execution_count": 20,
   "id": "9c2d01d9",
   "metadata": {},
   "outputs": [],
   "source": [
    "cl_vcov_mat2 <- vcovCL(model2,cluster = factor(df_shrunk$domain))\n"
   ]
  },
  {
   "cell_type": "code",
   "execution_count": 21,
   "id": "67f23d03",
   "metadata": {},
   "outputs": [
    {
     "data": {
      "text/html": [
       "<dl>\n",
       "\t<dt>$emmeans</dt>\n",
       "\t\t<dd><table class=\"dataframe\">\n",
       "<caption>A summary_emm: 10 × 7</caption>\n",
       "<thead>\n",
       "\t<tr><th></th><th scope=col>outlet_category</th><th scope=col>party</th><th scope=col>emmean</th><th scope=col>SE</th><th scope=col>df</th><th scope=col>t.ratio</th><th scope=col>p.value</th></tr>\n",
       "\t<tr><th></th><th scope=col>&lt;fct&gt;</th><th scope=col>&lt;fct&gt;</th><th scope=col>&lt;dbl&gt;</th><th scope=col>&lt;dbl&gt;</th><th scope=col>&lt;dbl&gt;</th><th scope=col>&lt;dbl&gt;</th><th scope=col>&lt;dbl&gt;</th></tr>\n",
       "</thead>\n",
       "<tbody>\n",
       "\t<tr><th scope=row>1</th><td>left_center_media </td><td>democratic</td><td>0.02781442</td><td>0.0008237999</td><td>5672090</td><td>33.763568</td><td>7.158754e-250</td></tr>\n",
       "\t<tr><th scope=row>2</th><td>left_media        </td><td>democratic</td><td>0.05575863</td><td>0.0075633452</td><td>5672090</td><td> 7.372218</td><td> 1.678355e-13</td></tr>\n",
       "\t<tr><th scope=row>3</th><td>mainstream        </td><td>democratic</td><td>0.02325561</td><td>0.0005560449</td><td>5672090</td><td>41.823268</td><td> 0.000000e+00</td></tr>\n",
       "\t<tr><th scope=row>4</th><td>right_center_media</td><td>democratic</td><td>0.02899318</td><td>0.0014775897</td><td>5672090</td><td>19.621939</td><td> 1.011087e-85</td></tr>\n",
       "\t<tr><th scope=row>5</th><td>right_media       </td><td>democratic</td><td>0.06720864</td><td>0.0064938523</td><td>5672090</td><td>10.349579</td><td> 4.205456e-25</td></tr>\n",
       "\t<tr><th scope=row>6</th><td>left_center_media </td><td>republican</td><td>0.02915357</td><td>0.0010726257</td><td>5672090</td><td>27.179629</td><td>1.158574e-162</td></tr>\n",
       "\t<tr><th scope=row>7</th><td>left_media        </td><td>republican</td><td>0.06938190</td><td>0.0096041576</td><td>5672090</td><td> 7.224152</td><td> 5.042996e-13</td></tr>\n",
       "\t<tr><th scope=row>8</th><td>mainstream        </td><td>republican</td><td>0.02163356</td><td>0.0005734512</td><td>5672090</td><td>37.725203</td><td>2.098190e-311</td></tr>\n",
       "\t<tr><th scope=row>9</th><td>right_center_media</td><td>republican</td><td>0.02408579</td><td>0.0012433152</td><td>5672090</td><td>19.372229</td><td> 1.332286e-83</td></tr>\n",
       "\t<tr><th scope=row>10</th><td>right_media       </td><td>republican</td><td>0.04758058</td><td>0.0046581373</td><td>5672090</td><td>10.214509</td><td> 1.708254e-24</td></tr>\n",
       "</tbody>\n",
       "</table>\n",
       "</dd>\n",
       "\t<dt>$contrasts</dt>\n",
       "\t\t<dd><table class=\"dataframe\">\n",
       "<caption>A summary_emm: 45 × 6</caption>\n",
       "<thead>\n",
       "\t<tr><th></th><th scope=col>contrast</th><th scope=col>estimate</th><th scope=col>SE</th><th scope=col>df</th><th scope=col>t.ratio</th><th scope=col>p.value</th></tr>\n",
       "\t<tr><th></th><th scope=col>&lt;fct&gt;</th><th scope=col>&lt;dbl&gt;</th><th scope=col>&lt;dbl&gt;</th><th scope=col>&lt;dbl&gt;</th><th scope=col>&lt;dbl&gt;</th><th scope=col>&lt;dbl&gt;</th></tr>\n",
       "</thead>\n",
       "<tbody>\n",
       "\t<tr><th scope=row>1</th><td>left_center_media democratic - left_media democratic         </td><td>-0.0279442034</td><td>0.0076080771</td><td>5672090</td><td>-3.67296532</td><td>9.069892e-03</td></tr>\n",
       "\t<tr><th scope=row>2</th><td>left_center_media democratic - mainstream democratic         </td><td> 0.0045588091</td><td>0.0009938975</td><td>5672090</td><td> 4.58680028</td><td>1.938554e-04</td></tr>\n",
       "\t<tr><th scope=row>3</th><td>left_center_media democratic - right_center_media democratic </td><td>-0.0011787524</td><td>0.0016917203</td><td>5672090</td><td>-0.69677738</td><td>9.995388e-01</td></tr>\n",
       "\t<tr><th scope=row>4</th><td>left_center_media democratic - right_media democratic        </td><td>-0.0393942162</td><td>0.0065458968</td><td>5672090</td><td>-6.01815422</td><td>7.915296e-08</td></tr>\n",
       "\t<tr><th scope=row>5</th><td>left_center_media democratic - left_center_media republican  </td><td>-0.0013391453</td><td>0.0006091633</td><td>5672090</td><td>-2.19833546</td><td>4.578131e-01</td></tr>\n",
       "\t<tr><th scope=row>6</th><td>left_center_media democratic - left_media republican         </td><td>-0.0415674752</td><td>0.0096394237</td><td>5672090</td><td>-4.31223656</td><td>6.794101e-04</td></tr>\n",
       "\t<tr><th scope=row>7</th><td>left_center_media democratic - mainstream republican         </td><td> 0.0061808608</td><td>0.0010037393</td><td>5672090</td><td> 6.15783506</td><td>3.311303e-08</td></tr>\n",
       "\t<tr><th scope=row>8</th><td>left_center_media democratic - right_center_media republican </td><td> 0.0037286367</td><td>0.0014914687</td><td>5672090</td><td> 2.49997651</td><td>2.682071e-01</td></tr>\n",
       "\t<tr><th scope=row>9</th><td>left_center_media democratic - right_media republican        </td><td>-0.0197661609</td><td>0.0047304217</td><td>5672090</td><td>-4.17851985</td><td>1.214470e-03</td></tr>\n",
       "\t<tr><th scope=row>10</th><td>left_media democratic - mainstream democratic                </td><td> 0.0325030125</td><td>0.0075837574</td><td>5672090</td><td> 4.28587185</td><td>7.630474e-04</td></tr>\n",
       "\t<tr><th scope=row>11</th><td>left_media democratic - right_center_media democratic        </td><td> 0.0267654510</td><td>0.0077063261</td><td>5672090</td><td> 3.47317912</td><td>1.844137e-02</td></tr>\n",
       "\t<tr><th scope=row>12</th><td>left_media democratic - right_media democratic               </td><td>-0.0114500128</td><td>0.0099686664</td><td>5672090</td><td>-1.14860026</td><td>9.795651e-01</td></tr>\n",
       "\t<tr><th scope=row>13</th><td>left_media democratic - left_center_media republican         </td><td> 0.0266050581</td><td>0.0076390259</td><td>5672090</td><td> 3.48278149</td><td>1.784354e-02</td></tr>\n",
       "\t<tr><th scope=row>14</th><td>left_media democratic - left_media republican                </td><td>-0.0136232718</td><td>0.0040641703</td><td>5672090</td><td>-3.35204253</td><td>2.766315e-02</td></tr>\n",
       "\t<tr><th scope=row>15</th><td>left_media democratic - mainstream republican                </td><td> 0.0341250642</td><td>0.0075850535</td><td>5672090</td><td> 4.49898791</td><td>2.920953e-04</td></tr>\n",
       "\t<tr><th scope=row>16</th><td>left_media democratic - right_center_media republican        </td><td> 0.0316728401</td><td>0.0076648564</td><td>5672090</td><td> 4.13221572</td><td>1.478131e-03</td></tr>\n",
       "\t<tr><th scope=row>17</th><td>left_media democratic - right_media republican               </td><td> 0.0081780425</td><td>0.0088827042</td><td>5672090</td><td> 0.92067036</td><td>9.958558e-01</td></tr>\n",
       "\t<tr><th scope=row>18</th><td>mainstream democratic - right_center_media democratic        </td><td>-0.0057375615</td><td>0.0015787518</td><td>5672090</td><td>-3.63423914</td><td>1.044798e-02</td></tr>\n",
       "\t<tr><th scope=row>19</th><td>mainstream democratic - right_media democratic               </td><td>-0.0439530254</td><td>0.0065176149</td><td>5672090</td><td>-6.74372849</td><td>6.943319e-10</td></tr>\n",
       "\t<tr><th scope=row>20</th><td>mainstream democratic - left_center_media republican         </td><td>-0.0058979544</td><td>0.0012081853</td><td>5672090</td><td>-4.88166361</td><td>4.609489e-05</td></tr>\n",
       "\t<tr><th scope=row>21</th><td>mainstream democratic - left_media republican                </td><td>-0.0461262843</td><td>0.0096202406</td><td>5672090</td><td>-4.79471215</td><td>7.107733e-05</td></tr>\n",
       "\t<tr><th scope=row>22</th><td>mainstream democratic - mainstream republican                </td><td> 0.0016220517</td><td>0.0004014427</td><td>5672090</td><td> 4.04055560</td><td>2.165224e-03</td></tr>\n",
       "\t<tr><th scope=row>23</th><td>mainstream democratic - right_center_media republican        </td><td>-0.0008301724</td><td>0.0013619907</td><td>5672090</td><td>-0.60952872</td><td>9.998471e-01</td></tr>\n",
       "\t<tr><th scope=row>24</th><td>mainstream democratic - right_media republican               </td><td>-0.0243249700</td><td>0.0046912076</td><td>5672090</td><td>-5.18522563</td><td>9.560141e-06</td></tr>\n",
       "\t<tr><th scope=row>25</th><td>right_center_media democratic - right_media democratic       </td><td>-0.0382154638</td><td>0.0066598340</td><td>5672090</td><td>-5.73820062</td><td>4.283208e-07</td></tr>\n",
       "\t<tr><th scope=row>26</th><td>right_center_media democratic - left_center_media republican </td><td>-0.0001603929</td><td>0.0018258689</td><td>5672090</td><td>-0.08784469</td><td>1.000000e+00</td></tr>\n",
       "\t<tr><th scope=row>27</th><td>right_center_media democratic - left_media republican        </td><td>-0.0403887227</td><td>0.0097171556</td><td>5672090</td><td>-4.15643468</td><td>1.334181e-03</td></tr>\n",
       "\t<tr><th scope=row>28</th><td>right_center_media democratic - mainstream republican        </td><td> 0.0073596132</td><td>0.0015849661</td><td>5672090</td><td> 4.64338839</td><td>1.481991e-04</td></tr>\n",
       "\t<tr><th scope=row>29</th><td>right_center_media democratic - right_center_media republican</td><td> 0.0049073891</td><td>0.0008839055</td><td>5672090</td><td> 5.55193876</td><td>1.261606e-06</td></tr>\n",
       "\t<tr><th scope=row>30</th><td>right_center_media democratic - right_media republican       </td><td>-0.0185874085</td><td>0.0048868716</td><td>5672090</td><td>-3.80353933</td><td>5.554147e-03</td></tr>\n",
       "\t<tr><th scope=row>31</th><td>right_media democratic - left_center_media republican        </td><td> 0.0380550709</td><td>0.0065818420</td><td>5672090</td><td> 5.78182687</td><td>3.309147e-07</td></tr>\n",
       "\t<tr><th scope=row>32</th><td>right_media democratic - left_media republican               </td><td>-0.0021732589</td><td>0.0115935310</td><td>5672090</td><td>-0.18745445</td><td>1.000000e+00</td></tr>\n",
       "\t<tr><th scope=row>33</th><td>right_media democratic - mainstream republican               </td><td> 0.0455750770</td><td>0.0065191230</td><td>5672090</td><td> 6.99098286</td><td>1.228604e-10</td></tr>\n",
       "\t<tr><th scope=row>34</th><td>right_media democratic - right_center_media republican       </td><td> 0.0431228529</td><td>0.0066118039</td><td>5672090</td><td> 6.52210102</td><td>3.116826e-09</td></tr>\n",
       "\t<tr><th scope=row>35</th><td>right_media democratic - right_media republican              </td><td> 0.0196280553</td><td>0.0043043065</td><td>5672090</td><td> 4.56009702</td><td>2.197863e-04</td></tr>\n",
       "\t<tr><th scope=row>36</th><td>left_center_media republican - left_media republican         </td><td>-0.0402283298</td><td>0.0096638692</td><td>5672090</td><td>-4.16275602</td><td>1.298833e-03</td></tr>\n",
       "\t<tr><th scope=row>37</th><td>left_center_media republican - mainstream republican         </td><td> 0.0075200061</td><td>0.0012162944</td><td>5672090</td><td> 6.18271845</td><td>2.829431e-08</td></tr>\n",
       "\t<tr><th scope=row>38</th><td>left_center_media republican - right_center_media republican </td><td> 0.0050677820</td><td>0.0016420592</td><td>5672090</td><td> 3.08623580</td><td>6.288710e-02</td></tr>\n",
       "\t<tr><th scope=row>39</th><td>left_center_media republican - right_media republican        </td><td>-0.0184270156</td><td>0.0047800386</td><td>5672090</td><td>-3.85499305</td><td>4.552416e-03</td></tr>\n",
       "\t<tr><th scope=row>40</th><td>left_media republican - mainstream republican                </td><td> 0.0477483360</td><td>0.0096212623</td><td>5672090</td><td> 4.96279327</td><td>3.055576e-05</td></tr>\n",
       "\t<tr><th scope=row>41</th><td>left_media republican - right_center_media republican        </td><td> 0.0452961119</td><td>0.0096843004</td><td>5672090</td><td> 4.67727247</td><td>1.259799e-04</td></tr>\n",
       "\t<tr><th scope=row>42</th><td>left_media republican - right_media republican               </td><td> 0.0218013143</td><td>0.0106741784</td><td>5672090</td><td> 2.04243487</td><td>5.686800e-01</td></tr>\n",
       "\t<tr><th scope=row>43</th><td>mainstream republican - right_center_media republican        </td><td>-0.0024522241</td><td>0.0013691891</td><td>5672090</td><td>-1.79100464</td><td>7.411962e-01</td></tr>\n",
       "\t<tr><th scope=row>44</th><td>mainstream republican - right_media republican               </td><td>-0.0259470217</td><td>0.0046933026</td><td>5672090</td><td>-5.52852094</td><td>1.441598e-06</td></tr>\n",
       "\t<tr><th scope=row>45</th><td>right_center_media republican - right_media republican       </td><td>-0.0234947976</td><td>0.0048212110</td><td>5672090</td><td>-4.87321495</td><td>4.809250e-05</td></tr>\n",
       "</tbody>\n",
       "</table>\n",
       "</dd>\n",
       "</dl>\n"
      ],
      "text/latex": [
       "\\begin{description}\n",
       "\\item[\\$emmeans] A summary\\_emm: 10 × 7\n",
       "\\begin{tabular}{r|lllllll}\n",
       "  & outlet\\_category & party & emmean & SE & df & t.ratio & p.value\\\\\n",
       "  & <fct> & <fct> & <dbl> & <dbl> & <dbl> & <dbl> & <dbl>\\\\\n",
       "\\hline\n",
       "\t1 & left\\_center\\_media  & democratic & 0.02781442 & 0.0008237999 & 5672090 & 33.763568 & 7.158754e-250\\\\\n",
       "\t2 & left\\_media         & democratic & 0.05575863 & 0.0075633452 & 5672090 &  7.372218 &  1.678355e-13\\\\\n",
       "\t3 & mainstream         & democratic & 0.02325561 & 0.0005560449 & 5672090 & 41.823268 &  0.000000e+00\\\\\n",
       "\t4 & right\\_center\\_media & democratic & 0.02899318 & 0.0014775897 & 5672090 & 19.621939 &  1.011087e-85\\\\\n",
       "\t5 & right\\_media        & democratic & 0.06720864 & 0.0064938523 & 5672090 & 10.349579 &  4.205456e-25\\\\\n",
       "\t6 & left\\_center\\_media  & republican & 0.02915357 & 0.0010726257 & 5672090 & 27.179629 & 1.158574e-162\\\\\n",
       "\t7 & left\\_media         & republican & 0.06938190 & 0.0096041576 & 5672090 &  7.224152 &  5.042996e-13\\\\\n",
       "\t8 & mainstream         & republican & 0.02163356 & 0.0005734512 & 5672090 & 37.725203 & 2.098190e-311\\\\\n",
       "\t9 & right\\_center\\_media & republican & 0.02408579 & 0.0012433152 & 5672090 & 19.372229 &  1.332286e-83\\\\\n",
       "\t10 & right\\_media        & republican & 0.04758058 & 0.0046581373 & 5672090 & 10.214509 &  1.708254e-24\\\\\n",
       "\\end{tabular}\n",
       "\n",
       "\\item[\\$contrasts] A summary\\_emm: 45 × 6\n",
       "\\begin{tabular}{r|llllll}\n",
       "  & contrast & estimate & SE & df & t.ratio & p.value\\\\\n",
       "  & <fct> & <dbl> & <dbl> & <dbl> & <dbl> & <dbl>\\\\\n",
       "\\hline\n",
       "\t1 & left\\_center\\_media democratic - left\\_media democratic          & -0.0279442034 & 0.0076080771 & 5672090 & -3.67296532 & 9.069892e-03\\\\\n",
       "\t2 & left\\_center\\_media democratic - mainstream democratic          &  0.0045588091 & 0.0009938975 & 5672090 &  4.58680028 & 1.938554e-04\\\\\n",
       "\t3 & left\\_center\\_media democratic - right\\_center\\_media democratic  & -0.0011787524 & 0.0016917203 & 5672090 & -0.69677738 & 9.995388e-01\\\\\n",
       "\t4 & left\\_center\\_media democratic - right\\_media democratic         & -0.0393942162 & 0.0065458968 & 5672090 & -6.01815422 & 7.915296e-08\\\\\n",
       "\t5 & left\\_center\\_media democratic - left\\_center\\_media republican   & -0.0013391453 & 0.0006091633 & 5672090 & -2.19833546 & 4.578131e-01\\\\\n",
       "\t6 & left\\_center\\_media democratic - left\\_media republican          & -0.0415674752 & 0.0096394237 & 5672090 & -4.31223656 & 6.794101e-04\\\\\n",
       "\t7 & left\\_center\\_media democratic - mainstream republican          &  0.0061808608 & 0.0010037393 & 5672090 &  6.15783506 & 3.311303e-08\\\\\n",
       "\t8 & left\\_center\\_media democratic - right\\_center\\_media republican  &  0.0037286367 & 0.0014914687 & 5672090 &  2.49997651 & 2.682071e-01\\\\\n",
       "\t9 & left\\_center\\_media democratic - right\\_media republican         & -0.0197661609 & 0.0047304217 & 5672090 & -4.17851985 & 1.214470e-03\\\\\n",
       "\t10 & left\\_media democratic - mainstream democratic                 &  0.0325030125 & 0.0075837574 & 5672090 &  4.28587185 & 7.630474e-04\\\\\n",
       "\t11 & left\\_media democratic - right\\_center\\_media democratic         &  0.0267654510 & 0.0077063261 & 5672090 &  3.47317912 & 1.844137e-02\\\\\n",
       "\t12 & left\\_media democratic - right\\_media democratic                & -0.0114500128 & 0.0099686664 & 5672090 & -1.14860026 & 9.795651e-01\\\\\n",
       "\t13 & left\\_media democratic - left\\_center\\_media republican          &  0.0266050581 & 0.0076390259 & 5672090 &  3.48278149 & 1.784354e-02\\\\\n",
       "\t14 & left\\_media democratic - left\\_media republican                 & -0.0136232718 & 0.0040641703 & 5672090 & -3.35204253 & 2.766315e-02\\\\\n",
       "\t15 & left\\_media democratic - mainstream republican                 &  0.0341250642 & 0.0075850535 & 5672090 &  4.49898791 & 2.920953e-04\\\\\n",
       "\t16 & left\\_media democratic - right\\_center\\_media republican         &  0.0316728401 & 0.0076648564 & 5672090 &  4.13221572 & 1.478131e-03\\\\\n",
       "\t17 & left\\_media democratic - right\\_media republican                &  0.0081780425 & 0.0088827042 & 5672090 &  0.92067036 & 9.958558e-01\\\\\n",
       "\t18 & mainstream democratic - right\\_center\\_media democratic         & -0.0057375615 & 0.0015787518 & 5672090 & -3.63423914 & 1.044798e-02\\\\\n",
       "\t19 & mainstream democratic - right\\_media democratic                & -0.0439530254 & 0.0065176149 & 5672090 & -6.74372849 & 6.943319e-10\\\\\n",
       "\t20 & mainstream democratic - left\\_center\\_media republican          & -0.0058979544 & 0.0012081853 & 5672090 & -4.88166361 & 4.609489e-05\\\\\n",
       "\t21 & mainstream democratic - left\\_media republican                 & -0.0461262843 & 0.0096202406 & 5672090 & -4.79471215 & 7.107733e-05\\\\\n",
       "\t22 & mainstream democratic - mainstream republican                 &  0.0016220517 & 0.0004014427 & 5672090 &  4.04055560 & 2.165224e-03\\\\\n",
       "\t23 & mainstream democratic - right\\_center\\_media republican         & -0.0008301724 & 0.0013619907 & 5672090 & -0.60952872 & 9.998471e-01\\\\\n",
       "\t24 & mainstream democratic - right\\_media republican                & -0.0243249700 & 0.0046912076 & 5672090 & -5.18522563 & 9.560141e-06\\\\\n",
       "\t25 & right\\_center\\_media democratic - right\\_media democratic        & -0.0382154638 & 0.0066598340 & 5672090 & -5.73820062 & 4.283208e-07\\\\\n",
       "\t26 & right\\_center\\_media democratic - left\\_center\\_media republican  & -0.0001603929 & 0.0018258689 & 5672090 & -0.08784469 & 1.000000e+00\\\\\n",
       "\t27 & right\\_center\\_media democratic - left\\_media republican         & -0.0403887227 & 0.0097171556 & 5672090 & -4.15643468 & 1.334181e-03\\\\\n",
       "\t28 & right\\_center\\_media democratic - mainstream republican         &  0.0073596132 & 0.0015849661 & 5672090 &  4.64338839 & 1.481991e-04\\\\\n",
       "\t29 & right\\_center\\_media democratic - right\\_center\\_media republican &  0.0049073891 & 0.0008839055 & 5672090 &  5.55193876 & 1.261606e-06\\\\\n",
       "\t30 & right\\_center\\_media democratic - right\\_media republican        & -0.0185874085 & 0.0048868716 & 5672090 & -3.80353933 & 5.554147e-03\\\\\n",
       "\t31 & right\\_media democratic - left\\_center\\_media republican         &  0.0380550709 & 0.0065818420 & 5672090 &  5.78182687 & 3.309147e-07\\\\\n",
       "\t32 & right\\_media democratic - left\\_media republican                & -0.0021732589 & 0.0115935310 & 5672090 & -0.18745445 & 1.000000e+00\\\\\n",
       "\t33 & right\\_media democratic - mainstream republican                &  0.0455750770 & 0.0065191230 & 5672090 &  6.99098286 & 1.228604e-10\\\\\n",
       "\t34 & right\\_media democratic - right\\_center\\_media republican        &  0.0431228529 & 0.0066118039 & 5672090 &  6.52210102 & 3.116826e-09\\\\\n",
       "\t35 & right\\_media democratic - right\\_media republican               &  0.0196280553 & 0.0043043065 & 5672090 &  4.56009702 & 2.197863e-04\\\\\n",
       "\t36 & left\\_center\\_media republican - left\\_media republican          & -0.0402283298 & 0.0096638692 & 5672090 & -4.16275602 & 1.298833e-03\\\\\n",
       "\t37 & left\\_center\\_media republican - mainstream republican          &  0.0075200061 & 0.0012162944 & 5672090 &  6.18271845 & 2.829431e-08\\\\\n",
       "\t38 & left\\_center\\_media republican - right\\_center\\_media republican  &  0.0050677820 & 0.0016420592 & 5672090 &  3.08623580 & 6.288710e-02\\\\\n",
       "\t39 & left\\_center\\_media republican - right\\_media republican         & -0.0184270156 & 0.0047800386 & 5672090 & -3.85499305 & 4.552416e-03\\\\\n",
       "\t40 & left\\_media republican - mainstream republican                 &  0.0477483360 & 0.0096212623 & 5672090 &  4.96279327 & 3.055576e-05\\\\\n",
       "\t41 & left\\_media republican - right\\_center\\_media republican         &  0.0452961119 & 0.0096843004 & 5672090 &  4.67727247 & 1.259799e-04\\\\\n",
       "\t42 & left\\_media republican - right\\_media republican                &  0.0218013143 & 0.0106741784 & 5672090 &  2.04243487 & 5.686800e-01\\\\\n",
       "\t43 & mainstream republican - right\\_center\\_media republican         & -0.0024522241 & 0.0013691891 & 5672090 & -1.79100464 & 7.411962e-01\\\\\n",
       "\t44 & mainstream republican - right\\_media republican                & -0.0259470217 & 0.0046933026 & 5672090 & -5.52852094 & 1.441598e-06\\\\\n",
       "\t45 & right\\_center\\_media republican - right\\_media republican        & -0.0234947976 & 0.0048212110 & 5672090 & -4.87321495 & 4.809250e-05\\\\\n",
       "\\end{tabular}\n",
       "\n",
       "\\end{description}\n"
      ],
      "text/markdown": [
       "$emmeans\n",
       ":   \n",
       "A summary_emm: 10 × 7\n",
       "\n",
       "| <!--/--> | outlet_category &lt;fct&gt; | party &lt;fct&gt; | emmean &lt;dbl&gt; | SE &lt;dbl&gt; | df &lt;dbl&gt; | t.ratio &lt;dbl&gt; | p.value &lt;dbl&gt; |\n",
       "|---|---|---|---|---|---|---|---|\n",
       "| 1 | left_center_media  | democratic | 0.02781442 | 0.0008237999 | 5672090 | 33.763568 | 7.158754e-250 |\n",
       "| 2 | left_media         | democratic | 0.05575863 | 0.0075633452 | 5672090 |  7.372218 |  1.678355e-13 |\n",
       "| 3 | mainstream         | democratic | 0.02325561 | 0.0005560449 | 5672090 | 41.823268 |  0.000000e+00 |\n",
       "| 4 | right_center_media | democratic | 0.02899318 | 0.0014775897 | 5672090 | 19.621939 |  1.011087e-85 |\n",
       "| 5 | right_media        | democratic | 0.06720864 | 0.0064938523 | 5672090 | 10.349579 |  4.205456e-25 |\n",
       "| 6 | left_center_media  | republican | 0.02915357 | 0.0010726257 | 5672090 | 27.179629 | 1.158574e-162 |\n",
       "| 7 | left_media         | republican | 0.06938190 | 0.0096041576 | 5672090 |  7.224152 |  5.042996e-13 |\n",
       "| 8 | mainstream         | republican | 0.02163356 | 0.0005734512 | 5672090 | 37.725203 | 2.098190e-311 |\n",
       "| 9 | right_center_media | republican | 0.02408579 | 0.0012433152 | 5672090 | 19.372229 |  1.332286e-83 |\n",
       "| 10 | right_media        | republican | 0.04758058 | 0.0046581373 | 5672090 | 10.214509 |  1.708254e-24 |\n",
       "\n",
       "\n",
       "$contrasts\n",
       ":   \n",
       "A summary_emm: 45 × 6\n",
       "\n",
       "| <!--/--> | contrast &lt;fct&gt; | estimate &lt;dbl&gt; | SE &lt;dbl&gt; | df &lt;dbl&gt; | t.ratio &lt;dbl&gt; | p.value &lt;dbl&gt; |\n",
       "|---|---|---|---|---|---|---|\n",
       "| 1 | left_center_media democratic - left_media democratic          | -0.0279442034 | 0.0076080771 | 5672090 | -3.67296532 | 9.069892e-03 |\n",
       "| 2 | left_center_media democratic - mainstream democratic          |  0.0045588091 | 0.0009938975 | 5672090 |  4.58680028 | 1.938554e-04 |\n",
       "| 3 | left_center_media democratic - right_center_media democratic  | -0.0011787524 | 0.0016917203 | 5672090 | -0.69677738 | 9.995388e-01 |\n",
       "| 4 | left_center_media democratic - right_media democratic         | -0.0393942162 | 0.0065458968 | 5672090 | -6.01815422 | 7.915296e-08 |\n",
       "| 5 | left_center_media democratic - left_center_media republican   | -0.0013391453 | 0.0006091633 | 5672090 | -2.19833546 | 4.578131e-01 |\n",
       "| 6 | left_center_media democratic - left_media republican          | -0.0415674752 | 0.0096394237 | 5672090 | -4.31223656 | 6.794101e-04 |\n",
       "| 7 | left_center_media democratic - mainstream republican          |  0.0061808608 | 0.0010037393 | 5672090 |  6.15783506 | 3.311303e-08 |\n",
       "| 8 | left_center_media democratic - right_center_media republican  |  0.0037286367 | 0.0014914687 | 5672090 |  2.49997651 | 2.682071e-01 |\n",
       "| 9 | left_center_media democratic - right_media republican         | -0.0197661609 | 0.0047304217 | 5672090 | -4.17851985 | 1.214470e-03 |\n",
       "| 10 | left_media democratic - mainstream democratic                 |  0.0325030125 | 0.0075837574 | 5672090 |  4.28587185 | 7.630474e-04 |\n",
       "| 11 | left_media democratic - right_center_media democratic         |  0.0267654510 | 0.0077063261 | 5672090 |  3.47317912 | 1.844137e-02 |\n",
       "| 12 | left_media democratic - right_media democratic                | -0.0114500128 | 0.0099686664 | 5672090 | -1.14860026 | 9.795651e-01 |\n",
       "| 13 | left_media democratic - left_center_media republican          |  0.0266050581 | 0.0076390259 | 5672090 |  3.48278149 | 1.784354e-02 |\n",
       "| 14 | left_media democratic - left_media republican                 | -0.0136232718 | 0.0040641703 | 5672090 | -3.35204253 | 2.766315e-02 |\n",
       "| 15 | left_media democratic - mainstream republican                 |  0.0341250642 | 0.0075850535 | 5672090 |  4.49898791 | 2.920953e-04 |\n",
       "| 16 | left_media democratic - right_center_media republican         |  0.0316728401 | 0.0076648564 | 5672090 |  4.13221572 | 1.478131e-03 |\n",
       "| 17 | left_media democratic - right_media republican                |  0.0081780425 | 0.0088827042 | 5672090 |  0.92067036 | 9.958558e-01 |\n",
       "| 18 | mainstream democratic - right_center_media democratic         | -0.0057375615 | 0.0015787518 | 5672090 | -3.63423914 | 1.044798e-02 |\n",
       "| 19 | mainstream democratic - right_media democratic                | -0.0439530254 | 0.0065176149 | 5672090 | -6.74372849 | 6.943319e-10 |\n",
       "| 20 | mainstream democratic - left_center_media republican          | -0.0058979544 | 0.0012081853 | 5672090 | -4.88166361 | 4.609489e-05 |\n",
       "| 21 | mainstream democratic - left_media republican                 | -0.0461262843 | 0.0096202406 | 5672090 | -4.79471215 | 7.107733e-05 |\n",
       "| 22 | mainstream democratic - mainstream republican                 |  0.0016220517 | 0.0004014427 | 5672090 |  4.04055560 | 2.165224e-03 |\n",
       "| 23 | mainstream democratic - right_center_media republican         | -0.0008301724 | 0.0013619907 | 5672090 | -0.60952872 | 9.998471e-01 |\n",
       "| 24 | mainstream democratic - right_media republican                | -0.0243249700 | 0.0046912076 | 5672090 | -5.18522563 | 9.560141e-06 |\n",
       "| 25 | right_center_media democratic - right_media democratic        | -0.0382154638 | 0.0066598340 | 5672090 | -5.73820062 | 4.283208e-07 |\n",
       "| 26 | right_center_media democratic - left_center_media republican  | -0.0001603929 | 0.0018258689 | 5672090 | -0.08784469 | 1.000000e+00 |\n",
       "| 27 | right_center_media democratic - left_media republican         | -0.0403887227 | 0.0097171556 | 5672090 | -4.15643468 | 1.334181e-03 |\n",
       "| 28 | right_center_media democratic - mainstream republican         |  0.0073596132 | 0.0015849661 | 5672090 |  4.64338839 | 1.481991e-04 |\n",
       "| 29 | right_center_media democratic - right_center_media republican |  0.0049073891 | 0.0008839055 | 5672090 |  5.55193876 | 1.261606e-06 |\n",
       "| 30 | right_center_media democratic - right_media republican        | -0.0185874085 | 0.0048868716 | 5672090 | -3.80353933 | 5.554147e-03 |\n",
       "| 31 | right_media democratic - left_center_media republican         |  0.0380550709 | 0.0065818420 | 5672090 |  5.78182687 | 3.309147e-07 |\n",
       "| 32 | right_media democratic - left_media republican                | -0.0021732589 | 0.0115935310 | 5672090 | -0.18745445 | 1.000000e+00 |\n",
       "| 33 | right_media democratic - mainstream republican                |  0.0455750770 | 0.0065191230 | 5672090 |  6.99098286 | 1.228604e-10 |\n",
       "| 34 | right_media democratic - right_center_media republican        |  0.0431228529 | 0.0066118039 | 5672090 |  6.52210102 | 3.116826e-09 |\n",
       "| 35 | right_media democratic - right_media republican               |  0.0196280553 | 0.0043043065 | 5672090 |  4.56009702 | 2.197863e-04 |\n",
       "| 36 | left_center_media republican - left_media republican          | -0.0402283298 | 0.0096638692 | 5672090 | -4.16275602 | 1.298833e-03 |\n",
       "| 37 | left_center_media republican - mainstream republican          |  0.0075200061 | 0.0012162944 | 5672090 |  6.18271845 | 2.829431e-08 |\n",
       "| 38 | left_center_media republican - right_center_media republican  |  0.0050677820 | 0.0016420592 | 5672090 |  3.08623580 | 6.288710e-02 |\n",
       "| 39 | left_center_media republican - right_media republican         | -0.0184270156 | 0.0047800386 | 5672090 | -3.85499305 | 4.552416e-03 |\n",
       "| 40 | left_media republican - mainstream republican                 |  0.0477483360 | 0.0096212623 | 5672090 |  4.96279327 | 3.055576e-05 |\n",
       "| 41 | left_media republican - right_center_media republican         |  0.0452961119 | 0.0096843004 | 5672090 |  4.67727247 | 1.259799e-04 |\n",
       "| 42 | left_media republican - right_media republican                |  0.0218013143 | 0.0106741784 | 5672090 |  2.04243487 | 5.686800e-01 |\n",
       "| 43 | mainstream republican - right_center_media republican         | -0.0024522241 | 0.0013691891 | 5672090 | -1.79100464 | 7.411962e-01 |\n",
       "| 44 | mainstream republican - right_media republican                | -0.0259470217 | 0.0046933026 | 5672090 | -5.52852094 | 1.441598e-06 |\n",
       "| 45 | right_center_media republican - right_media republican        | -0.0234947976 | 0.0048212110 | 5672090 | -4.87321495 | 4.809250e-05 |\n",
       "\n",
       "\n",
       "\n",
       "\n"
      ],
      "text/plain": [
       "$emmeans\n",
       " outlet_category    party      emmean       SE      df t.ratio p.value\n",
       " left_center_media  democratic 0.0278 0.000824 5672090  33.764  <.0001\n",
       " left_media         democratic 0.0558 0.007563 5672090   7.372  <.0001\n",
       " mainstream         democratic 0.0233 0.000556 5672090  41.823  <.0001\n",
       " right_center_media democratic 0.0290 0.001478 5672090  19.622  <.0001\n",
       " right_media        democratic 0.0672 0.006494 5672090  10.350  <.0001\n",
       " left_center_media  republican 0.0292 0.001073 5672090  27.180  <.0001\n",
       " left_media         republican 0.0694 0.009604 5672090   7.224  <.0001\n",
       " mainstream         republican 0.0216 0.000573 5672090  37.725  <.0001\n",
       " right_center_media republican 0.0241 0.001243 5672090  19.372  <.0001\n",
       " right_media        republican 0.0476 0.004658 5672090  10.215  <.0001\n",
       "\n",
       "\n",
       "$contrasts\n",
       " contrast                                                      estimate\n",
       " left_center_media democratic - left_media democratic          -0.02794\n",
       " left_center_media democratic - mainstream democratic           0.00456\n",
       " left_center_media democratic - right_center_media democratic  -0.00118\n",
       " left_center_media democratic - right_media democratic         -0.03939\n",
       " left_center_media democratic - left_center_media republican   -0.00134\n",
       " left_center_media democratic - left_media republican          -0.04157\n",
       " left_center_media democratic - mainstream republican           0.00618\n",
       " left_center_media democratic - right_center_media republican   0.00373\n",
       " left_center_media democratic - right_media republican         -0.01977\n",
       " left_media democratic - mainstream democratic                  0.03250\n",
       " left_media democratic - right_center_media democratic          0.02677\n",
       " left_media democratic - right_media democratic                -0.01145\n",
       " left_media democratic - left_center_media republican           0.02661\n",
       " left_media democratic - left_media republican                 -0.01362\n",
       " left_media democratic - mainstream republican                  0.03413\n",
       " left_media democratic - right_center_media republican          0.03167\n",
       " left_media democratic - right_media republican                 0.00818\n",
       " mainstream democratic - right_center_media democratic         -0.00574\n",
       " mainstream democratic - right_media democratic                -0.04395\n",
       " mainstream democratic - left_center_media republican          -0.00590\n",
       " mainstream democratic - left_media republican                 -0.04613\n",
       " mainstream democratic - mainstream republican                  0.00162\n",
       " mainstream democratic - right_center_media republican         -0.00083\n",
       " mainstream democratic - right_media republican                -0.02432\n",
       " right_center_media democratic - right_media democratic        -0.03822\n",
       " right_center_media democratic - left_center_media republican  -0.00016\n",
       " right_center_media democratic - left_media republican         -0.04039\n",
       " right_center_media democratic - mainstream republican          0.00736\n",
       " right_center_media democratic - right_center_media republican  0.00491\n",
       " right_center_media democratic - right_media republican        -0.01859\n",
       " right_media democratic - left_center_media republican          0.03806\n",
       " right_media democratic - left_media republican                -0.00217\n",
       " right_media democratic - mainstream republican                 0.04558\n",
       " right_media democratic - right_center_media republican         0.04312\n",
       " right_media democratic - right_media republican                0.01963\n",
       " left_center_media republican - left_media republican          -0.04023\n",
       " left_center_media republican - mainstream republican           0.00752\n",
       " left_center_media republican - right_center_media republican   0.00507\n",
       " left_center_media republican - right_media republican         -0.01843\n",
       " left_media republican - mainstream republican                  0.04775\n",
       " left_media republican - right_center_media republican          0.04530\n",
       " left_media republican - right_media republican                 0.02180\n",
       " mainstream republican - right_center_media republican         -0.00245\n",
       " mainstream republican - right_media republican                -0.02595\n",
       " right_center_media republican - right_media republican        -0.02349\n",
       "       SE      df t.ratio p.value\n",
       " 0.007608 5672090  -3.673  0.0091\n",
       " 0.000994 5672090   4.587  0.0002\n",
       " 0.001692 5672090  -0.697  0.9995\n",
       " 0.006546 5672090  -6.018  <.0001\n",
       " 0.000609 5672090  -2.198  0.4578\n",
       " 0.009639 5672090  -4.312  0.0007\n",
       " 0.001004 5672090   6.158  <.0001\n",
       " 0.001491 5672090   2.500  0.2682\n",
       " 0.004730 5672090  -4.179  0.0012\n",
       " 0.007584 5672090   4.286  0.0008\n",
       " 0.007706 5672090   3.473  0.0184\n",
       " 0.009969 5672090  -1.149  0.9796\n",
       " 0.007639 5672090   3.483  0.0178\n",
       " 0.004064 5672090  -3.352  0.0277\n",
       " 0.007585 5672090   4.499  0.0003\n",
       " 0.007665 5672090   4.132  0.0015\n",
       " 0.008883 5672090   0.921  0.9959\n",
       " 0.001579 5672090  -3.634  0.0104\n",
       " 0.006518 5672090  -6.744  <.0001\n",
       " 0.001208 5672090  -4.882  <.0001\n",
       " 0.009620 5672090  -4.795  0.0001\n",
       " 0.000401 5672090   4.041  0.0022\n",
       " 0.001362 5672090  -0.610  0.9998\n",
       " 0.004691 5672090  -5.185  <.0001\n",
       " 0.006660 5672090  -5.738  <.0001\n",
       " 0.001826 5672090  -0.088  1.0000\n",
       " 0.009717 5672090  -4.156  0.0013\n",
       " 0.001585 5672090   4.643  0.0001\n",
       " 0.000884 5672090   5.552  <.0001\n",
       " 0.004887 5672090  -3.804  0.0056\n",
       " 0.006582 5672090   5.782  <.0001\n",
       " 0.011594 5672090  -0.187  1.0000\n",
       " 0.006519 5672090   6.991  <.0001\n",
       " 0.006612 5672090   6.522  <.0001\n",
       " 0.004304 5672090   4.560  0.0002\n",
       " 0.009664 5672090  -4.163  0.0013\n",
       " 0.001216 5672090   6.183  <.0001\n",
       " 0.001642 5672090   3.086  0.0629\n",
       " 0.004780 5672090  -3.855  0.0046\n",
       " 0.009621 5672090   4.963  <.0001\n",
       " 0.009684 5672090   4.677  0.0001\n",
       " 0.010674 5672090   2.042  0.5687\n",
       " 0.001369 5672090  -1.791  0.7412\n",
       " 0.004693 5672090  -5.529  <.0001\n",
       " 0.004821 5672090  -4.873  <.0001\n",
       "\n",
       "P value adjustment: tukey method for comparing a family of 10 estimates \n"
      ]
     },
     "metadata": {},
     "output_type": "display_data"
    }
   ],
   "source": [
    "test(emmeans(model2, specs = pairwise ~ outlet_category:party,vcov = as.matrix(cl_vcov_mat2)))"
   ]
  },
  {
   "cell_type": "markdown",
   "id": "13f6e539",
   "metadata": {},
   "source": [
    "# Model 3 (Equation 3), investigate how quotative bias change over time: "
   ]
  },
  {
   "cell_type": "code",
   "execution_count": 22,
   "id": "be5950b4",
   "metadata": {},
   "outputs": [],
   "source": [
    "model3=lm(unprofessional_verb ~ domain_proxy + factor(party) + factor(outlet_category)+factor(outlet_category):factor(party):relative_time, data = df_shrunk)"
   ]
  },
  {
   "cell_type": "code",
   "execution_count": 23,
   "id": "b7e4dd70",
   "metadata": {},
   "outputs": [],
   "source": [
    "cl_vcov_mat3 <- vcovCL(model3,cluster = factor(df_shrunk$domain))\n"
   ]
  },
  {
   "cell_type": "code",
   "execution_count": 24,
   "id": "958e57da",
   "metadata": {},
   "outputs": [
    {
     "data": {
      "text/html": [
       "<dl>\n",
       "\t<dt>$emtrends</dt>\n",
       "\t\t<dd><table class=\"dataframe\">\n",
       "<caption>A summary_emm: 10 × 7</caption>\n",
       "<thead>\n",
       "\t<tr><th></th><th scope=col>outlet_category</th><th scope=col>party</th><th scope=col>relative_time.trend</th><th scope=col>SE</th><th scope=col>df</th><th scope=col>t.ratio</th><th scope=col>p.value</th></tr>\n",
       "\t<tr><th></th><th scope=col>&lt;fct&gt;</th><th scope=col>&lt;fct&gt;</th><th scope=col>&lt;dbl&gt;</th><th scope=col>&lt;dbl&gt;</th><th scope=col>&lt;dbl&gt;</th><th scope=col>&lt;dbl&gt;</th><th scope=col>&lt;dbl&gt;</th></tr>\n",
       "</thead>\n",
       "<tbody>\n",
       "\t<tr><th scope=row>1</th><td>left_center_media </td><td>democratic</td><td>-4.648952e-05</td><td>1.449169e-05</td><td>5672083</td><td>-3.20801211</td><td>1.336566e-03</td></tr>\n",
       "\t<tr><th scope=row>2</th><td>left_media        </td><td>democratic</td><td>-2.967258e-04</td><td>6.425271e-05</td><td>5672083</td><td>-4.61810554</td><td>3.872678e-06</td></tr>\n",
       "\t<tr><th scope=row>3</th><td>mainstream        </td><td>democratic</td><td>-2.926852e-05</td><td>1.471223e-05</td><td>5672083</td><td>-1.98940069</td><td>4.665704e-02</td></tr>\n",
       "\t<tr><th scope=row>4</th><td>right_center_media</td><td>democratic</td><td>-4.963038e-07</td><td>2.066507e-05</td><td>5672083</td><td>-0.02401656</td><td>9.808394e-01</td></tr>\n",
       "\t<tr><th scope=row>5</th><td>right_media       </td><td>democratic</td><td> 1.089485e-04</td><td>9.755713e-05</td><td>5672083</td><td> 1.11676603</td><td>2.640944e-01</td></tr>\n",
       "\t<tr><th scope=row>6</th><td>left_center_media </td><td>republican</td><td> 1.260317e-05</td><td>1.540171e-05</td><td>5672083</td><td> 0.81829691</td><td>4.131877e-01</td></tr>\n",
       "\t<tr><th scope=row>7</th><td>left_media        </td><td>republican</td><td>-1.420696e-05</td><td>5.132660e-05</td><td>5672083</td><td>-0.27679537</td><td>7.819373e-01</td></tr>\n",
       "\t<tr><th scope=row>8</th><td>mainstream        </td><td>republican</td><td>-1.487660e-05</td><td>1.356596e-05</td><td>5672083</td><td>-1.09661249</td><td>2.728109e-01</td></tr>\n",
       "\t<tr><th scope=row>9</th><td>right_center_media</td><td>republican</td><td>-1.362931e-05</td><td>1.969523e-05</td><td>5672083</td><td>-0.69201091</td><td>4.889305e-01</td></tr>\n",
       "\t<tr><th scope=row>10</th><td>right_media       </td><td>republican</td><td>-1.029483e-04</td><td>6.561866e-05</td><td>5672083</td><td>-1.56888754</td><td>1.166742e-01</td></tr>\n",
       "</tbody>\n",
       "</table>\n",
       "</dd>\n",
       "\t<dt>$contrasts</dt>\n",
       "\t\t<dd><table class=\"dataframe\">\n",
       "<caption>A summary_emm: 20 × 7</caption>\n",
       "<thead>\n",
       "\t<tr><th></th><th scope=col>contrast</th><th scope=col>party</th><th scope=col>estimate</th><th scope=col>SE</th><th scope=col>df</th><th scope=col>t.ratio</th><th scope=col>p.value</th></tr>\n",
       "\t<tr><th></th><th scope=col>&lt;fct&gt;</th><th scope=col>&lt;fct&gt;</th><th scope=col>&lt;dbl&gt;</th><th scope=col>&lt;dbl&gt;</th><th scope=col>&lt;dbl&gt;</th><th scope=col>&lt;dbl&gt;</th><th scope=col>&lt;dbl&gt;</th></tr>\n",
       "</thead>\n",
       "<tbody>\n",
       "\t<tr><th scope=row>1</th><td>left_center_media - left_media        </td><td>democratic</td><td> 2.502363e-04</td><td>6.583726e-05</td><td>5672083</td><td> 3.80083048</td><td>0.0013583833</td></tr>\n",
       "\t<tr><th scope=row>2</th><td>left_center_media - mainstream        </td><td>democratic</td><td>-1.722100e-05</td><td>1.890870e-05</td><td>5672083</td><td>-0.91074474</td><td>0.8929028118</td></tr>\n",
       "\t<tr><th scope=row>3</th><td>left_center_media - right_center_media</td><td>democratic</td><td>-4.599322e-05</td><td>2.398485e-05</td><td>5672083</td><td>-1.91759445</td><td>0.3078171651</td></tr>\n",
       "\t<tr><th scope=row>4</th><td>left_center_media - right_media       </td><td>democratic</td><td>-1.554380e-04</td><td>9.833761e-05</td><td>5672083</td><td>-1.58065680</td><td>0.5098379143</td></tr>\n",
       "\t<tr><th scope=row>5</th><td>left_media - mainstream               </td><td>democratic</td><td>-2.674573e-04</td><td>6.564372e-05</td><td>5672083</td><td>-4.07437683</td><td>0.0004433808</td></tr>\n",
       "\t<tr><th scope=row>6</th><td>left_media - right_center_media       </td><td>democratic</td><td>-2.962295e-04</td><td>6.729578e-05</td><td>5672083</td><td>-4.40190299</td><td>0.0001047906</td></tr>\n",
       "\t<tr><th scope=row>7</th><td>left_media - right_media              </td><td>democratic</td><td>-4.056743e-04</td><td>1.165070e-04</td><td>5672083</td><td>-3.48197351</td><td>0.0045322755</td></tr>\n",
       "\t<tr><th scope=row>8</th><td>mainstream - right_center_media       </td><td>democratic</td><td>-2.877222e-05</td><td>2.327989e-05</td><td>5672083</td><td>-1.23592563</td><td>0.7302933258</td></tr>\n",
       "\t<tr><th scope=row>9</th><td>mainstream - right_media              </td><td>democratic</td><td>-1.382170e-04</td><td>9.818987e-05</td><td>5672083</td><td>-1.40765032</td><td>0.6227057997</td></tr>\n",
       "\t<tr><th scope=row>10</th><td>right_center_media - right_media      </td><td>democratic</td><td>-1.094448e-04</td><td>9.928248e-05</td><td>5672083</td><td>-1.10235757</td><td>0.8053926181</td></tr>\n",
       "\t<tr><th scope=row>11</th><td>left_center_media - left_media        </td><td>republican</td><td> 2.681014e-05</td><td>5.221408e-05</td><td>5672083</td><td> 0.51346559</td><td>0.9860583646</td></tr>\n",
       "\t<tr><th scope=row>12</th><td>left_center_media - mainstream        </td><td>republican</td><td> 2.747977e-05</td><td>1.810560e-05</td><td>5672083</td><td> 1.51774928</td><td>0.5508361560</td></tr>\n",
       "\t<tr><th scope=row>13</th><td>left_center_media - right_center_media</td><td>republican</td><td> 2.623248e-05</td><td>2.301178e-05</td><td>5672083</td><td> 1.13995877</td><td>0.7852610342</td></tr>\n",
       "\t<tr><th scope=row>14</th><td>left_center_media - right_media       </td><td>republican</td><td> 1.155515e-04</td><td>6.747866e-05</td><td>5672083</td><td> 1.71241499</td><td>0.4261887946</td></tr>\n",
       "\t<tr><th scope=row>15</th><td>left_media - mainstream               </td><td>republican</td><td> 6.696323e-07</td><td>5.215733e-05</td><td>5672083</td><td> 0.01283870</td><td>0.9999999938</td></tr>\n",
       "\t<tr><th scope=row>16</th><td>left_media - right_center_media       </td><td>republican</td><td>-5.776509e-07</td><td>5.402969e-05</td><td>5672083</td><td>-0.01069136</td><td>0.9999999970</td></tr>\n",
       "\t<tr><th scope=row>17</th><td>left_media - right_media              </td><td>republican</td><td> 8.874133e-05</td><td>8.304012e-05</td><td>5672083</td><td> 1.06865611</td><td>0.8226749539</td></tr>\n",
       "\t<tr><th scope=row>18</th><td>mainstream - right_center_media       </td><td>republican</td><td>-1.247283e-06</td><td>2.273705e-05</td><td>5672083</td><td>-0.05485687</td><td>0.9999979512</td></tr>\n",
       "\t<tr><th scope=row>19</th><td>mainstream - right_media              </td><td>republican</td><td> 8.807170e-05</td><td>6.729904e-05</td><td>5672083</td><td> 1.30866196</td><td>0.6858321683</td></tr>\n",
       "\t<tr><th scope=row>20</th><td>right_center_media - right_media      </td><td>republican</td><td> 8.931898e-05</td><td>6.873455e-05</td><td>5672083</td><td> 1.29947717</td><td>0.6915545251</td></tr>\n",
       "</tbody>\n",
       "</table>\n",
       "</dd>\n",
       "</dl>\n"
      ],
      "text/latex": [
       "\\begin{description}\n",
       "\\item[\\$emtrends] A summary\\_emm: 10 × 7\n",
       "\\begin{tabular}{r|lllllll}\n",
       "  & outlet\\_category & party & relative\\_time.trend & SE & df & t.ratio & p.value\\\\\n",
       "  & <fct> & <fct> & <dbl> & <dbl> & <dbl> & <dbl> & <dbl>\\\\\n",
       "\\hline\n",
       "\t1 & left\\_center\\_media  & democratic & -4.648952e-05 & 1.449169e-05 & 5672083 & -3.20801211 & 1.336566e-03\\\\\n",
       "\t2 & left\\_media         & democratic & -2.967258e-04 & 6.425271e-05 & 5672083 & -4.61810554 & 3.872678e-06\\\\\n",
       "\t3 & mainstream         & democratic & -2.926852e-05 & 1.471223e-05 & 5672083 & -1.98940069 & 4.665704e-02\\\\\n",
       "\t4 & right\\_center\\_media & democratic & -4.963038e-07 & 2.066507e-05 & 5672083 & -0.02401656 & 9.808394e-01\\\\\n",
       "\t5 & right\\_media        & democratic &  1.089485e-04 & 9.755713e-05 & 5672083 &  1.11676603 & 2.640944e-01\\\\\n",
       "\t6 & left\\_center\\_media  & republican &  1.260317e-05 & 1.540171e-05 & 5672083 &  0.81829691 & 4.131877e-01\\\\\n",
       "\t7 & left\\_media         & republican & -1.420696e-05 & 5.132660e-05 & 5672083 & -0.27679537 & 7.819373e-01\\\\\n",
       "\t8 & mainstream         & republican & -1.487660e-05 & 1.356596e-05 & 5672083 & -1.09661249 & 2.728109e-01\\\\\n",
       "\t9 & right\\_center\\_media & republican & -1.362931e-05 & 1.969523e-05 & 5672083 & -0.69201091 & 4.889305e-01\\\\\n",
       "\t10 & right\\_media        & republican & -1.029483e-04 & 6.561866e-05 & 5672083 & -1.56888754 & 1.166742e-01\\\\\n",
       "\\end{tabular}\n",
       "\n",
       "\\item[\\$contrasts] A summary\\_emm: 20 × 7\n",
       "\\begin{tabular}{r|lllllll}\n",
       "  & contrast & party & estimate & SE & df & t.ratio & p.value\\\\\n",
       "  & <fct> & <fct> & <dbl> & <dbl> & <dbl> & <dbl> & <dbl>\\\\\n",
       "\\hline\n",
       "\t1 & left\\_center\\_media - left\\_media         & democratic &  2.502363e-04 & 6.583726e-05 & 5672083 &  3.80083048 & 0.0013583833\\\\\n",
       "\t2 & left\\_center\\_media - mainstream         & democratic & -1.722100e-05 & 1.890870e-05 & 5672083 & -0.91074474 & 0.8929028118\\\\\n",
       "\t3 & left\\_center\\_media - right\\_center\\_media & democratic & -4.599322e-05 & 2.398485e-05 & 5672083 & -1.91759445 & 0.3078171651\\\\\n",
       "\t4 & left\\_center\\_media - right\\_media        & democratic & -1.554380e-04 & 9.833761e-05 & 5672083 & -1.58065680 & 0.5098379143\\\\\n",
       "\t5 & left\\_media - mainstream                & democratic & -2.674573e-04 & 6.564372e-05 & 5672083 & -4.07437683 & 0.0004433808\\\\\n",
       "\t6 & left\\_media - right\\_center\\_media        & democratic & -2.962295e-04 & 6.729578e-05 & 5672083 & -4.40190299 & 0.0001047906\\\\\n",
       "\t7 & left\\_media - right\\_media               & democratic & -4.056743e-04 & 1.165070e-04 & 5672083 & -3.48197351 & 0.0045322755\\\\\n",
       "\t8 & mainstream - right\\_center\\_media        & democratic & -2.877222e-05 & 2.327989e-05 & 5672083 & -1.23592563 & 0.7302933258\\\\\n",
       "\t9 & mainstream - right\\_media               & democratic & -1.382170e-04 & 9.818987e-05 & 5672083 & -1.40765032 & 0.6227057997\\\\\n",
       "\t10 & right\\_center\\_media - right\\_media       & democratic & -1.094448e-04 & 9.928248e-05 & 5672083 & -1.10235757 & 0.8053926181\\\\\n",
       "\t11 & left\\_center\\_media - left\\_media         & republican &  2.681014e-05 & 5.221408e-05 & 5672083 &  0.51346559 & 0.9860583646\\\\\n",
       "\t12 & left\\_center\\_media - mainstream         & republican &  2.747977e-05 & 1.810560e-05 & 5672083 &  1.51774928 & 0.5508361560\\\\\n",
       "\t13 & left\\_center\\_media - right\\_center\\_media & republican &  2.623248e-05 & 2.301178e-05 & 5672083 &  1.13995877 & 0.7852610342\\\\\n",
       "\t14 & left\\_center\\_media - right\\_media        & republican &  1.155515e-04 & 6.747866e-05 & 5672083 &  1.71241499 & 0.4261887946\\\\\n",
       "\t15 & left\\_media - mainstream                & republican &  6.696323e-07 & 5.215733e-05 & 5672083 &  0.01283870 & 0.9999999938\\\\\n",
       "\t16 & left\\_media - right\\_center\\_media        & republican & -5.776509e-07 & 5.402969e-05 & 5672083 & -0.01069136 & 0.9999999970\\\\\n",
       "\t17 & left\\_media - right\\_media               & republican &  8.874133e-05 & 8.304012e-05 & 5672083 &  1.06865611 & 0.8226749539\\\\\n",
       "\t18 & mainstream - right\\_center\\_media        & republican & -1.247283e-06 & 2.273705e-05 & 5672083 & -0.05485687 & 0.9999979512\\\\\n",
       "\t19 & mainstream - right\\_media               & republican &  8.807170e-05 & 6.729904e-05 & 5672083 &  1.30866196 & 0.6858321683\\\\\n",
       "\t20 & right\\_center\\_media - right\\_media       & republican &  8.931898e-05 & 6.873455e-05 & 5672083 &  1.29947717 & 0.6915545251\\\\\n",
       "\\end{tabular}\n",
       "\n",
       "\\end{description}\n"
      ],
      "text/markdown": [
       "$emtrends\n",
       ":   \n",
       "A summary_emm: 10 × 7\n",
       "\n",
       "| <!--/--> | outlet_category &lt;fct&gt; | party &lt;fct&gt; | relative_time.trend &lt;dbl&gt; | SE &lt;dbl&gt; | df &lt;dbl&gt; | t.ratio &lt;dbl&gt; | p.value &lt;dbl&gt; |\n",
       "|---|---|---|---|---|---|---|---|\n",
       "| 1 | left_center_media  | democratic | -4.648952e-05 | 1.449169e-05 | 5672083 | -3.20801211 | 1.336566e-03 |\n",
       "| 2 | left_media         | democratic | -2.967258e-04 | 6.425271e-05 | 5672083 | -4.61810554 | 3.872678e-06 |\n",
       "| 3 | mainstream         | democratic | -2.926852e-05 | 1.471223e-05 | 5672083 | -1.98940069 | 4.665704e-02 |\n",
       "| 4 | right_center_media | democratic | -4.963038e-07 | 2.066507e-05 | 5672083 | -0.02401656 | 9.808394e-01 |\n",
       "| 5 | right_media        | democratic |  1.089485e-04 | 9.755713e-05 | 5672083 |  1.11676603 | 2.640944e-01 |\n",
       "| 6 | left_center_media  | republican |  1.260317e-05 | 1.540171e-05 | 5672083 |  0.81829691 | 4.131877e-01 |\n",
       "| 7 | left_media         | republican | -1.420696e-05 | 5.132660e-05 | 5672083 | -0.27679537 | 7.819373e-01 |\n",
       "| 8 | mainstream         | republican | -1.487660e-05 | 1.356596e-05 | 5672083 | -1.09661249 | 2.728109e-01 |\n",
       "| 9 | right_center_media | republican | -1.362931e-05 | 1.969523e-05 | 5672083 | -0.69201091 | 4.889305e-01 |\n",
       "| 10 | right_media        | republican | -1.029483e-04 | 6.561866e-05 | 5672083 | -1.56888754 | 1.166742e-01 |\n",
       "\n",
       "\n",
       "$contrasts\n",
       ":   \n",
       "A summary_emm: 20 × 7\n",
       "\n",
       "| <!--/--> | contrast &lt;fct&gt; | party &lt;fct&gt; | estimate &lt;dbl&gt; | SE &lt;dbl&gt; | df &lt;dbl&gt; | t.ratio &lt;dbl&gt; | p.value &lt;dbl&gt; |\n",
       "|---|---|---|---|---|---|---|---|\n",
       "| 1 | left_center_media - left_media         | democratic |  2.502363e-04 | 6.583726e-05 | 5672083 |  3.80083048 | 0.0013583833 |\n",
       "| 2 | left_center_media - mainstream         | democratic | -1.722100e-05 | 1.890870e-05 | 5672083 | -0.91074474 | 0.8929028118 |\n",
       "| 3 | left_center_media - right_center_media | democratic | -4.599322e-05 | 2.398485e-05 | 5672083 | -1.91759445 | 0.3078171651 |\n",
       "| 4 | left_center_media - right_media        | democratic | -1.554380e-04 | 9.833761e-05 | 5672083 | -1.58065680 | 0.5098379143 |\n",
       "| 5 | left_media - mainstream                | democratic | -2.674573e-04 | 6.564372e-05 | 5672083 | -4.07437683 | 0.0004433808 |\n",
       "| 6 | left_media - right_center_media        | democratic | -2.962295e-04 | 6.729578e-05 | 5672083 | -4.40190299 | 0.0001047906 |\n",
       "| 7 | left_media - right_media               | democratic | -4.056743e-04 | 1.165070e-04 | 5672083 | -3.48197351 | 0.0045322755 |\n",
       "| 8 | mainstream - right_center_media        | democratic | -2.877222e-05 | 2.327989e-05 | 5672083 | -1.23592563 | 0.7302933258 |\n",
       "| 9 | mainstream - right_media               | democratic | -1.382170e-04 | 9.818987e-05 | 5672083 | -1.40765032 | 0.6227057997 |\n",
       "| 10 | right_center_media - right_media       | democratic | -1.094448e-04 | 9.928248e-05 | 5672083 | -1.10235757 | 0.8053926181 |\n",
       "| 11 | left_center_media - left_media         | republican |  2.681014e-05 | 5.221408e-05 | 5672083 |  0.51346559 | 0.9860583646 |\n",
       "| 12 | left_center_media - mainstream         | republican |  2.747977e-05 | 1.810560e-05 | 5672083 |  1.51774928 | 0.5508361560 |\n",
       "| 13 | left_center_media - right_center_media | republican |  2.623248e-05 | 2.301178e-05 | 5672083 |  1.13995877 | 0.7852610342 |\n",
       "| 14 | left_center_media - right_media        | republican |  1.155515e-04 | 6.747866e-05 | 5672083 |  1.71241499 | 0.4261887946 |\n",
       "| 15 | left_media - mainstream                | republican |  6.696323e-07 | 5.215733e-05 | 5672083 |  0.01283870 | 0.9999999938 |\n",
       "| 16 | left_media - right_center_media        | republican | -5.776509e-07 | 5.402969e-05 | 5672083 | -0.01069136 | 0.9999999970 |\n",
       "| 17 | left_media - right_media               | republican |  8.874133e-05 | 8.304012e-05 | 5672083 |  1.06865611 | 0.8226749539 |\n",
       "| 18 | mainstream - right_center_media        | republican | -1.247283e-06 | 2.273705e-05 | 5672083 | -0.05485687 | 0.9999979512 |\n",
       "| 19 | mainstream - right_media               | republican |  8.807170e-05 | 6.729904e-05 | 5672083 |  1.30866196 | 0.6858321683 |\n",
       "| 20 | right_center_media - right_media       | republican |  8.931898e-05 | 6.873455e-05 | 5672083 |  1.29947717 | 0.6915545251 |\n",
       "\n",
       "\n",
       "\n",
       "\n"
      ],
      "text/plain": [
       "$emtrends\n",
       "party = democratic:\n",
       " outlet_category    relative_time.trend       SE      df t.ratio p.value\n",
       " left_center_media            -4.65e-05 1.45e-05 5672083  -3.208  0.0013\n",
       " left_media                   -2.97e-04 6.43e-05 5672083  -4.618  <.0001\n",
       " mainstream                   -2.93e-05 1.47e-05 5672083  -1.989  0.0467\n",
       " right_center_media           -4.96e-07 2.07e-05 5672083  -0.024  0.9808\n",
       " right_media                   1.09e-04 9.76e-05 5672083   1.117  0.2641\n",
       "\n",
       "party = republican:\n",
       " outlet_category    relative_time.trend       SE      df t.ratio p.value\n",
       " left_center_media             1.26e-05 1.54e-05 5672083   0.818  0.4132\n",
       " left_media                   -1.42e-05 5.13e-05 5672083  -0.277  0.7819\n",
       " mainstream                   -1.49e-05 1.36e-05 5672083  -1.097  0.2728\n",
       " right_center_media           -1.36e-05 1.97e-05 5672083  -0.692  0.4889\n",
       " right_media                  -1.03e-04 6.56e-05 5672083  -1.569  0.1167\n",
       "\n",
       "\n",
       "$contrasts\n",
       "party = democratic:\n",
       " contrast                                estimate       SE      df t.ratio\n",
       " left_center_media - left_media          2.50e-04 6.58e-05 5672083   3.801\n",
       " left_center_media - mainstream         -1.72e-05 1.89e-05 5672083  -0.911\n",
       " left_center_media - right_center_media -4.60e-05 2.40e-05 5672083  -1.918\n",
       " left_center_media - right_media        -1.55e-04 9.83e-05 5672083  -1.581\n",
       " left_media - mainstream                -2.67e-04 6.56e-05 5672083  -4.074\n",
       " left_media - right_center_media        -2.96e-04 6.73e-05 5672083  -4.402\n",
       " left_media - right_media               -4.06e-04 1.17e-04 5672083  -3.482\n",
       " mainstream - right_center_media        -2.88e-05 2.33e-05 5672083  -1.236\n",
       " mainstream - right_media               -1.38e-04 9.82e-05 5672083  -1.408\n",
       " right_center_media - right_media       -1.09e-04 9.93e-05 5672083  -1.102\n",
       " p.value\n",
       "  0.0014\n",
       "  0.8929\n",
       "  0.3078\n",
       "  0.5098\n",
       "  0.0004\n",
       "  0.0001\n",
       "  0.0045\n",
       "  0.7303\n",
       "  0.6227\n",
       "  0.8054\n",
       "\n",
       "party = republican:\n",
       " contrast                                estimate       SE      df t.ratio\n",
       " left_center_media - left_media          2.68e-05 5.22e-05 5672083   0.513\n",
       " left_center_media - mainstream          2.75e-05 1.81e-05 5672083   1.518\n",
       " left_center_media - right_center_media  2.62e-05 2.30e-05 5672083   1.140\n",
       " left_center_media - right_media         1.16e-04 6.75e-05 5672083   1.712\n",
       " left_media - mainstream                 6.70e-07 5.22e-05 5672083   0.013\n",
       " left_media - right_center_media        -5.78e-07 5.40e-05 5672083  -0.011\n",
       " left_media - right_media                8.87e-05 8.30e-05 5672083   1.069\n",
       " mainstream - right_center_media        -1.25e-06 2.27e-05 5672083  -0.055\n",
       " mainstream - right_media                8.81e-05 6.73e-05 5672083   1.309\n",
       " right_center_media - right_media        8.93e-05 6.87e-05 5672083   1.299\n",
       " p.value\n",
       "  0.9861\n",
       "  0.5508\n",
       "  0.7853\n",
       "  0.4262\n",
       "  1.0000\n",
       "  1.0000\n",
       "  0.8227\n",
       "  1.0000\n",
       "  0.6858\n",
       "  0.6916\n",
       "\n",
       "P value adjustment: tukey method for comparing a family of 5 estimates \n"
      ]
     },
     "metadata": {},
     "output_type": "display_data"
    }
   ],
   "source": [
    "test(emtrends(model3, specs = pairwise ~ outlet_category | party,var = 'relative_time',vcov = as.matrix(cl_vcov_mat3)))\n"
   ]
  },
  {
   "cell_type": "markdown",
   "id": "c86ee7eb",
   "metadata": {},
   "source": [
    "# matched analysis (for equation 2, matched analysis)"
   ]
  },
  {
   "cell_type": "code",
   "execution_count": 25,
   "id": "3b5d77c0",
   "metadata": {},
   "outputs": [],
   "source": [
    "dF_matched <- fread('zstdcat quote_centric_regression_withmatch.zst')\n"
   ]
  },
  {
   "cell_type": "code",
   "execution_count": 27,
   "id": "3e120c64",
   "metadata": {},
   "outputs": [],
   "source": [
    "dF_matched_selected <- select(dF_matched, verb,outlet_lean_binary,cluster_assignment,domain, party, professional_verb,unprofessional_verb,outlet_category,outlet_category_binary,relative_time,speaker_verbosity_weight,yearmonth,top_speaker,domain_proxy)\n",
    "dF_matched_selected <- dF_matched_selected[dF_matched_selected$verb != 'opine']\n",
    "dF_matched_selected <- dF_matched_selected[dF_matched_selected$verb != 'pen']\n",
    "dF_matched_selected <- dF_matched_selected[dF_matched_selected$verb != 'utter']\n"
   ]
  },
  {
   "cell_type": "code",
   "execution_count": 28,
   "id": "852748cc",
   "metadata": {},
   "outputs": [],
   "source": [
    "dF_matched_selected <- filter(dF_matched_selected, top_speaker != 'Q22686')\n"
   ]
  },
  {
   "cell_type": "code",
   "execution_count": 29,
   "id": "e368bd59",
   "metadata": {},
   "outputs": [],
   "source": [
    "dF_matched_selected <- dF_matched_selected %>%                                    # Calculate mean by group\n",
    "  group_by(domain) %>%\n",
    "  mutate(domain_proxy = mean(unprofessional_verb)) %>% \n",
    "  as.data.frame()\n"
   ]
  },
  {
   "cell_type": "code",
   "execution_count": 30,
   "id": "0fb9a61b",
   "metadata": {},
   "outputs": [],
   "source": [
    "model2_matched=lm(unprofessional_verb ~ factor(outlet_lean_binary) + factor(party) + factor(outlet_lean_binary):factor(party), data = dF_matched_selected)"
   ]
  },
  {
   "cell_type": "code",
   "execution_count": 31,
   "id": "5ec16ae5",
   "metadata": {},
   "outputs": [],
   "source": [
    "cl_vcov_mat2_matched <- vcovCL(model2_matched,cluster = factor(dF_matched_selected$domain))\n"
   ]
  },
  {
   "cell_type": "code",
   "execution_count": 32,
   "id": "3d20e062",
   "metadata": {},
   "outputs": [
    {
     "data": {
      "text/html": [
       "<dl>\n",
       "\t<dt>$emmeans</dt>\n",
       "\t\t<dd><table class=\"dataframe\">\n",
       "<caption>A summary_emm: 4 × 7</caption>\n",
       "<thead>\n",
       "\t<tr><th></th><th scope=col>outlet_lean_binary</th><th scope=col>party</th><th scope=col>emmean</th><th scope=col>SE</th><th scope=col>df</th><th scope=col>t.ratio</th><th scope=col>p.value</th></tr>\n",
       "\t<tr><th></th><th scope=col>&lt;fct&gt;</th><th scope=col>&lt;fct&gt;</th><th scope=col>&lt;dbl&gt;</th><th scope=col>&lt;dbl&gt;</th><th scope=col>&lt;dbl&gt;</th><th scope=col>&lt;dbl&gt;</th><th scope=col>&lt;dbl&gt;</th></tr>\n",
       "</thead>\n",
       "<tbody>\n",
       "\t<tr><th scope=row>1</th><td>left </td><td>democratic</td><td>0.03446986</td><td>0.001061378</td><td>764628</td><td>32.47652</td><td>3.293504e-231</td></tr>\n",
       "\t<tr><th scope=row>2</th><td>right</td><td>democratic</td><td>0.04032885</td><td>0.001931471</td><td>764628</td><td>20.87987</td><td> 8.687060e-97</td></tr>\n",
       "\t<tr><th scope=row>3</th><td>left </td><td>republican</td><td>0.03091944</td><td>0.001047802</td><td>764628</td><td>29.50886</td><td>2.840514e-191</td></tr>\n",
       "\t<tr><th scope=row>4</th><td>right</td><td>republican</td><td>0.03030184</td><td>0.001229164</td><td>764628</td><td>24.65240</td><td>3.914733e-134</td></tr>\n",
       "</tbody>\n",
       "</table>\n",
       "</dd>\n",
       "\t<dt>$contrasts</dt>\n",
       "\t\t<dd><table class=\"dataframe\">\n",
       "<caption>A summary_emm: 6 × 6</caption>\n",
       "<thead>\n",
       "\t<tr><th></th><th scope=col>contrast</th><th scope=col>estimate</th><th scope=col>SE</th><th scope=col>df</th><th scope=col>t.ratio</th><th scope=col>p.value</th></tr>\n",
       "\t<tr><th></th><th scope=col>&lt;fct&gt;</th><th scope=col>&lt;dbl&gt;</th><th scope=col>&lt;dbl&gt;</th><th scope=col>&lt;dbl&gt;</th><th scope=col>&lt;dbl&gt;</th><th scope=col>&lt;dbl&gt;</th></tr>\n",
       "</thead>\n",
       "<tbody>\n",
       "\t<tr><th scope=row>1</th><td>left democratic - right democratic </td><td>-0.0058589942</td><td>0.0022038833</td><td>764628</td><td>-2.6584866</td><td>3.925335e-02</td></tr>\n",
       "\t<tr><th scope=row>2</th><td>left democratic - left republican  </td><td> 0.0035504143</td><td>0.0007258642</td><td>764628</td><td> 4.8912924</td><td>5.968991e-06</td></tr>\n",
       "\t<tr><th scope=row>3</th><td>left democratic - right republican </td><td> 0.0041680205</td><td>0.0016239971</td><td>764628</td><td> 2.5665196</td><td>5.033438e-02</td></tr>\n",
       "\t<tr><th scope=row>4</th><td>right democratic - left republican </td><td> 0.0094094085</td><td>0.0021973774</td><td>764628</td><td> 4.2821085</td><td>1.089324e-04</td></tr>\n",
       "\t<tr><th scope=row>5</th><td>right democratic - right republican</td><td> 0.0100270146</td><td>0.0012607914</td><td>764628</td><td> 7.9529529</td><td>6.583623e-14</td></tr>\n",
       "\t<tr><th scope=row>6</th><td>left republican - right republican </td><td> 0.0006176062</td><td>0.0016151571</td><td>764628</td><td> 0.3823815</td><td>9.809838e-01</td></tr>\n",
       "</tbody>\n",
       "</table>\n",
       "</dd>\n",
       "</dl>\n"
      ],
      "text/latex": [
       "\\begin{description}\n",
       "\\item[\\$emmeans] A summary\\_emm: 4 × 7\n",
       "\\begin{tabular}{r|lllllll}\n",
       "  & outlet\\_lean\\_binary & party & emmean & SE & df & t.ratio & p.value\\\\\n",
       "  & <fct> & <fct> & <dbl> & <dbl> & <dbl> & <dbl> & <dbl>\\\\\n",
       "\\hline\n",
       "\t1 & left  & democratic & 0.03446986 & 0.001061378 & 764628 & 32.47652 & 3.293504e-231\\\\\n",
       "\t2 & right & democratic & 0.04032885 & 0.001931471 & 764628 & 20.87987 &  8.687060e-97\\\\\n",
       "\t3 & left  & republican & 0.03091944 & 0.001047802 & 764628 & 29.50886 & 2.840514e-191\\\\\n",
       "\t4 & right & republican & 0.03030184 & 0.001229164 & 764628 & 24.65240 & 3.914733e-134\\\\\n",
       "\\end{tabular}\n",
       "\n",
       "\\item[\\$contrasts] A summary\\_emm: 6 × 6\n",
       "\\begin{tabular}{r|llllll}\n",
       "  & contrast & estimate & SE & df & t.ratio & p.value\\\\\n",
       "  & <fct> & <dbl> & <dbl> & <dbl> & <dbl> & <dbl>\\\\\n",
       "\\hline\n",
       "\t1 & left democratic - right democratic  & -0.0058589942 & 0.0022038833 & 764628 & -2.6584866 & 3.925335e-02\\\\\n",
       "\t2 & left democratic - left republican   &  0.0035504143 & 0.0007258642 & 764628 &  4.8912924 & 5.968991e-06\\\\\n",
       "\t3 & left democratic - right republican  &  0.0041680205 & 0.0016239971 & 764628 &  2.5665196 & 5.033438e-02\\\\\n",
       "\t4 & right democratic - left republican  &  0.0094094085 & 0.0021973774 & 764628 &  4.2821085 & 1.089324e-04\\\\\n",
       "\t5 & right democratic - right republican &  0.0100270146 & 0.0012607914 & 764628 &  7.9529529 & 6.583623e-14\\\\\n",
       "\t6 & left republican - right republican  &  0.0006176062 & 0.0016151571 & 764628 &  0.3823815 & 9.809838e-01\\\\\n",
       "\\end{tabular}\n",
       "\n",
       "\\end{description}\n"
      ],
      "text/markdown": [
       "$emmeans\n",
       ":   \n",
       "A summary_emm: 4 × 7\n",
       "\n",
       "| <!--/--> | outlet_lean_binary &lt;fct&gt; | party &lt;fct&gt; | emmean &lt;dbl&gt; | SE &lt;dbl&gt; | df &lt;dbl&gt; | t.ratio &lt;dbl&gt; | p.value &lt;dbl&gt; |\n",
       "|---|---|---|---|---|---|---|---|\n",
       "| 1 | left  | democratic | 0.03446986 | 0.001061378 | 764628 | 32.47652 | 3.293504e-231 |\n",
       "| 2 | right | democratic | 0.04032885 | 0.001931471 | 764628 | 20.87987 |  8.687060e-97 |\n",
       "| 3 | left  | republican | 0.03091944 | 0.001047802 | 764628 | 29.50886 | 2.840514e-191 |\n",
       "| 4 | right | republican | 0.03030184 | 0.001229164 | 764628 | 24.65240 | 3.914733e-134 |\n",
       "\n",
       "\n",
       "$contrasts\n",
       ":   \n",
       "A summary_emm: 6 × 6\n",
       "\n",
       "| <!--/--> | contrast &lt;fct&gt; | estimate &lt;dbl&gt; | SE &lt;dbl&gt; | df &lt;dbl&gt; | t.ratio &lt;dbl&gt; | p.value &lt;dbl&gt; |\n",
       "|---|---|---|---|---|---|---|\n",
       "| 1 | left democratic - right democratic  | -0.0058589942 | 0.0022038833 | 764628 | -2.6584866 | 3.925335e-02 |\n",
       "| 2 | left democratic - left republican   |  0.0035504143 | 0.0007258642 | 764628 |  4.8912924 | 5.968991e-06 |\n",
       "| 3 | left democratic - right republican  |  0.0041680205 | 0.0016239971 | 764628 |  2.5665196 | 5.033438e-02 |\n",
       "| 4 | right democratic - left republican  |  0.0094094085 | 0.0021973774 | 764628 |  4.2821085 | 1.089324e-04 |\n",
       "| 5 | right democratic - right republican |  0.0100270146 | 0.0012607914 | 764628 |  7.9529529 | 6.583623e-14 |\n",
       "| 6 | left republican - right republican  |  0.0006176062 | 0.0016151571 | 764628 |  0.3823815 | 9.809838e-01 |\n",
       "\n",
       "\n",
       "\n",
       "\n"
      ],
      "text/plain": [
       "$emmeans\n",
       " outlet_lean_binary party      emmean      SE     df t.ratio p.value\n",
       " left               democratic 0.0345 0.00106 764628  32.477  <.0001\n",
       " right              democratic 0.0403 0.00193 764628  20.880  <.0001\n",
       " left               republican 0.0309 0.00105 764628  29.509  <.0001\n",
       " right              republican 0.0303 0.00123 764628  24.652  <.0001\n",
       "\n",
       "\n",
       "$contrasts\n",
       " contrast                             estimate       SE     df t.ratio p.value\n",
       " left democratic - right democratic  -0.005859 0.002204 764628  -2.658  0.0393\n",
       " left democratic - left republican    0.003550 0.000726 764628   4.891  <.0001\n",
       " left democratic - right republican   0.004168 0.001624 764628   2.567  0.0503\n",
       " right democratic - left republican   0.009409 0.002197 764628   4.282  0.0001\n",
       " right democratic - right republican  0.010027 0.001261 764628   7.953  <.0001\n",
       " left republican - right republican   0.000618 0.001615 764628   0.382  0.9810\n",
       "\n",
       "P value adjustment: tukey method for comparing a family of 4 estimates \n"
      ]
     },
     "metadata": {},
     "output_type": "display_data"
    }
   ],
   "source": [
    "test(emmeans(model2_matched, specs = pairwise ~ outlet_lean_binary:party,vcov = as.matrix(cl_vcov_mat2_matched)))"
   ]
  },
  {
   "cell_type": "code",
   "execution_count": 33,
   "id": "dc16a76e",
   "metadata": {},
   "outputs": [
    {
     "name": "stderr",
     "output_type": "stream",
     "text": [
      "Loading required package: grid\n",
      "\n",
      "Loading required package: magrittr\n",
      "\n",
      "Loading required package: checkmate\n",
      "\n"
     ]
    }
   ],
   "source": [
    "library('forestplot')"
   ]
  },
  {
   "cell_type": "markdown",
   "id": "0bd17265",
   "metadata": {},
   "source": [
    "# Generate Plot for Equation 1 - Figure 9(a)"
   ]
  },
  {
   "cell_type": "code",
   "execution_count": 34,
   "id": "1519b550",
   "metadata": {},
   "outputs": [],
   "source": [
    "emmeans_plot_1=emtrends(model1, specs = pairwise ~ outlet_category,var = 'relative_time',vcov = as.matrix(cl_vcov_mat1))\n",
    "emmeans_plot_1_table=as.data.table(emmeans_plot_1$emtrends)\n",
    "emmeans_plot_1_table=emmeans_plot_1_table[c(2,1,3,4,5),]\n",
    "emmeans_plot_1_table$outlet_category=c('Left','Left-Center','Least-Biased', 'Right-Center','Right')\n",
    "emmeans_plot_1_table$relative_time.trend=emmeans_plot_1_table$relative_time.trend*12*100\n",
    "emmeans_plot_1_table$relative_time.trend=round(emmeans_plot_1_table$relative_time.trend,4)\n",
    "emmeans_plot_1_table$lower.CL=emmeans_plot_1_table$lower.CL*12*100\n",
    "emmeans_plot_1_table$upper.CL=emmeans_plot_1_table$upper.CL*12*100\n",
    "emmeans_plot_1_table$relative_time.trend=as.character(emmeans_plot_1_table$relative_time.trend)"
   ]
  },
  {
   "cell_type": "code",
   "execution_count": 35,
   "id": "89aa202b",
   "metadata": {},
   "outputs": [
    {
     "data": {
      "text/html": [
       "<table class=\"dataframe\">\n",
       "<caption>A data.table: 5 × 6</caption>\n",
       "<thead>\n",
       "\t<tr><th scope=col>outlet_category</th><th scope=col>relative_time.trend</th><th scope=col>SE</th><th scope=col>df</th><th scope=col>lower.CL</th><th scope=col>upper.CL</th></tr>\n",
       "\t<tr><th scope=col>&lt;chr&gt;</th><th scope=col>&lt;chr&gt;</th><th scope=col>&lt;dbl&gt;</th><th scope=col>&lt;dbl&gt;</th><th scope=col>&lt;dbl&gt;</th><th scope=col>&lt;dbl&gt;</th></tr>\n",
       "</thead>\n",
       "<tbody>\n",
       "\t<tr><td>Left        </td><td>-0.2263</td><td>5.283533e-05</td><td>5672089</td><td>-0.35056987</td><td>-0.102036976</td></tr>\n",
       "\t<tr><td>Left-Center </td><td>-0.0277</td><td>1.263179e-05</td><td>5672089</td><td>-0.05736079</td><td> 0.002058064</td></tr>\n",
       "\t<tr><td>Least-Biased</td><td>-0.025 </td><td>1.222875e-05</td><td>5672089</td><td>-0.05374646</td><td> 0.003776545</td></tr>\n",
       "\t<tr><td>Right-Center</td><td>-0.0069</td><td>1.851030e-05</td><td>5672089</td><td>-0.05043439</td><td> 0.036636473</td></tr>\n",
       "\t<tr><td>Right       </td><td>0.0287 </td><td>7.826920e-05</td><td>5672089</td><td>-0.15534471</td><td> 0.212826912</td></tr>\n",
       "</tbody>\n",
       "</table>\n"
      ],
      "text/latex": [
       "A data.table: 5 × 6\n",
       "\\begin{tabular}{llllll}\n",
       " outlet\\_category & relative\\_time.trend & SE & df & lower.CL & upper.CL\\\\\n",
       " <chr> & <chr> & <dbl> & <dbl> & <dbl> & <dbl>\\\\\n",
       "\\hline\n",
       "\t Left         & -0.2263 & 5.283533e-05 & 5672089 & -0.35056987 & -0.102036976\\\\\n",
       "\t Left-Center  & -0.0277 & 1.263179e-05 & 5672089 & -0.05736079 &  0.002058064\\\\\n",
       "\t Least-Biased & -0.025  & 1.222875e-05 & 5672089 & -0.05374646 &  0.003776545\\\\\n",
       "\t Right-Center & -0.0069 & 1.851030e-05 & 5672089 & -0.05043439 &  0.036636473\\\\\n",
       "\t Right        & 0.0287  & 7.826920e-05 & 5672089 & -0.15534471 &  0.212826912\\\\\n",
       "\\end{tabular}\n"
      ],
      "text/markdown": [
       "\n",
       "A data.table: 5 × 6\n",
       "\n",
       "| outlet_category &lt;chr&gt; | relative_time.trend &lt;chr&gt; | SE &lt;dbl&gt; | df &lt;dbl&gt; | lower.CL &lt;dbl&gt; | upper.CL &lt;dbl&gt; |\n",
       "|---|---|---|---|---|---|\n",
       "| Left         | -0.2263 | 5.283533e-05 | 5672089 | -0.35056987 | -0.102036976 |\n",
       "| Left-Center  | -0.0277 | 1.263179e-05 | 5672089 | -0.05736079 |  0.002058064 |\n",
       "| Least-Biased | -0.025  | 1.222875e-05 | 5672089 | -0.05374646 |  0.003776545 |\n",
       "| Right-Center | -0.0069 | 1.851030e-05 | 5672089 | -0.05043439 |  0.036636473 |\n",
       "| Right        | 0.0287  | 7.826920e-05 | 5672089 | -0.15534471 |  0.212826912 |\n",
       "\n"
      ],
      "text/plain": [
       "  outlet_category relative_time.trend SE           df      lower.CL   \n",
       "1 Left            -0.2263             5.283533e-05 5672089 -0.35056987\n",
       "2 Left-Center     -0.0277             1.263179e-05 5672089 -0.05736079\n",
       "3 Least-Biased    -0.025              1.222875e-05 5672089 -0.05374646\n",
       "4 Right-Center    -0.0069             1.851030e-05 5672089 -0.05043439\n",
       "5 Right           0.0287              7.826920e-05 5672089 -0.15534471\n",
       "  upper.CL    \n",
       "1 -0.102036976\n",
       "2  0.002058064\n",
       "3  0.003776545\n",
       "4  0.036636473\n",
       "5  0.212826912"
      ]
     },
     "metadata": {},
     "output_type": "display_data"
    }
   ],
   "source": [
    "emmeans_plot_1_table"
   ]
  },
  {
   "cell_type": "code",
   "execution_count": 36,
   "id": "5e121f1d",
   "metadata": {},
   "outputs": [],
   "source": [
    "library(repr)\n",
    "# Change Jupyter plots size \n",
    "options(repr.plot.width=16, repr.plot.height=9)"
   ]
  },
  {
   "cell_type": "code",
   "execution_count": 37,
   "id": "3bf6ba09",
   "metadata": {
    "scrolled": true
   },
   "outputs": [
    {
     "data": {
      "text/html": [
       "<strong>png:</strong> 2"
      ],
      "text/latex": [
       "\\textbf{png:} 2"
      ],
      "text/markdown": [
       "**png:** 2"
      ],
      "text/plain": [
       "png \n",
       "  2 "
      ]
     },
     "metadata": {},
     "output_type": "display_data"
    }
   ],
   "source": [
    "pdf(file='model1_coeff_NOTRUMP.pdf',width = 7.1, height = 2.9,onefile=F)\n",
    "emmeans_plot_1_table%>%forestplot(labeltext = c(outlet_category),\n",
    "                mean = relative_time.trend,\n",
    "            lower = lower.CL, \n",
    "            upper = upper.CL,\n",
    "          boxsize = c(0.25,rep(0.25/0.7227,4)),\n",
    "           xticks = c(-0.25, -0.125,0,0.125,0.25),\n",
    "\n",
    "                fn.ci_norm = c(\"fpDrawCircleCI\",\"fpDrawPointCI\",\"fpDrawPointCI\",\"fpDrawPointCI\",\"fpDrawPointCI\"),\n",
    "\n",
    "                col = fpColors(box = \"royalblue\",\n",
    "                line = \"royalblue\",\n",
    "                summary = \"royalblue\"),\n",
    "                                  grid=TRUE,\n",
    "                                  graphwidth=unit(12, \"cm\"),\n",
    "                                  lineheight=unit(1.5, \"cm\"),\n",
    "                lwd.zero=gpar(lwd = 2),\n",
    "                                  align=c('r','l'),\n",
    "                xlab=expression(paste(\"Percentage rate of change (\", beta,\")\")),\n",
    "               txt_gp = fpTxtGp(label =  gpar(cex=1.5),\n",
    "                              ticks = gpar(cex = 1.5),\n",
    "                              xlab  = gpar(cex = 1.5)))\n",
    "dev.off()\n"
   ]
  },
  {
   "cell_type": "markdown",
   "id": "f94c7b12",
   "metadata": {},
   "source": [
    "# Generate Plot for Equation 2 (Mean)"
   ]
  },
  {
   "cell_type": "code",
   "execution_count": 38,
   "id": "e05029ad",
   "metadata": {},
   "outputs": [],
   "source": [
    "emmeans_plot_2=emmeans(model2, specs = pairwise ~ outlet_category:party,vcov = as.matrix(cl_vcov_mat2))"
   ]
  },
  {
   "cell_type": "code",
   "execution_count": 39,
   "id": "f61ad217",
   "metadata": {},
   "outputs": [],
   "source": [
    "emmeans_plot_2_table=as.data.table(emmeans_plot_2$emmeans)\n",
    "emmeans_plot_2_table=emmeans_plot_2_table[c(2,1,3,4,5,7,6,8,9,10),]\n",
    "emmeans_plot_2_table$outlet_category=c('Left','Left-Center','Least-Biased', 'Right-Center','Right','Left','Left-Center','Least-Biased', 'Right-Center','Right')\n",
    "emmeans_plot_2_table$party=c(rep('Democratic',5),rep('Republican',5))\n",
    "header <- tibble(outlet_category = c(\"Outlet Category\"),\n",
    "                 emmean = c(\"% Nonobjective\"))\n",
    "emmeans_plot_2_table$emmean=emmeans_plot_2_table$emmean*100\n",
    "emmeans_plot_2_table$lower.CL=emmeans_plot_2_table$lower.CL*100\n",
    "emmeans_plot_2_table$upper.CL=emmeans_plot_2_table$upper.CL*100"
   ]
  },
  {
   "cell_type": "code",
   "execution_count": 40,
   "id": "ef56eb86",
   "metadata": {},
   "outputs": [
    {
     "data": {
      "text/html": [
       "<table class=\"dataframe\">\n",
       "<caption>A data.table: 10 × 7</caption>\n",
       "<thead>\n",
       "\t<tr><th scope=col>outlet_category</th><th scope=col>party</th><th scope=col>emmean</th><th scope=col>SE</th><th scope=col>df</th><th scope=col>lower.CL</th><th scope=col>upper.CL</th></tr>\n",
       "\t<tr><th scope=col>&lt;chr&gt;</th><th scope=col>&lt;chr&gt;</th><th scope=col>&lt;dbl&gt;</th><th scope=col>&lt;dbl&gt;</th><th scope=col>&lt;dbl&gt;</th><th scope=col>&lt;dbl&gt;</th><th scope=col>&lt;dbl&gt;</th></tr>\n",
       "</thead>\n",
       "<tbody>\n",
       "\t<tr><td>Left        </td><td>Democratic</td><td>5.575863</td><td>0.0075633452</td><td>5672090</td><td>4.093474</td><td>7.058251</td></tr>\n",
       "\t<tr><td>Left-Center </td><td>Democratic</td><td>2.781442</td><td>0.0008237999</td><td>5672090</td><td>2.619980</td><td>2.942904</td></tr>\n",
       "\t<tr><td>Least-Biased</td><td>Democratic</td><td>2.325561</td><td>0.0005560449</td><td>5672090</td><td>2.216579</td><td>2.434544</td></tr>\n",
       "\t<tr><td>Right-Center</td><td>Democratic</td><td>2.899318</td><td>0.0014775897</td><td>5672090</td><td>2.609715</td><td>3.188920</td></tr>\n",
       "\t<tr><td>Right       </td><td>Democratic</td><td>6.720864</td><td>0.0064938523</td><td>5672090</td><td>5.448092</td><td>7.993636</td></tr>\n",
       "\t<tr><td>Left        </td><td>Republican</td><td>6.938190</td><td>0.0096041576</td><td>5672090</td><td>5.055809</td><td>8.820571</td></tr>\n",
       "\t<tr><td>Left-Center </td><td>Republican</td><td>2.915357</td><td>0.0010726257</td><td>5672090</td><td>2.705126</td><td>3.125588</td></tr>\n",
       "\t<tr><td>Least-Biased</td><td>Republican</td><td>2.163356</td><td>0.0005734512</td><td>5672090</td><td>2.050962</td><td>2.275751</td></tr>\n",
       "\t<tr><td>Right-Center</td><td>Republican</td><td>2.408579</td><td>0.0012433152</td><td>5672090</td><td>2.164893</td><td>2.652264</td></tr>\n",
       "\t<tr><td>Right       </td><td>Republican</td><td>4.758058</td><td>0.0046581373</td><td>5672090</td><td>3.845080</td><td>5.671037</td></tr>\n",
       "</tbody>\n",
       "</table>\n"
      ],
      "text/latex": [
       "A data.table: 10 × 7\n",
       "\\begin{tabular}{lllllll}\n",
       " outlet\\_category & party & emmean & SE & df & lower.CL & upper.CL\\\\\n",
       " <chr> & <chr> & <dbl> & <dbl> & <dbl> & <dbl> & <dbl>\\\\\n",
       "\\hline\n",
       "\t Left         & Democratic & 5.575863 & 0.0075633452 & 5672090 & 4.093474 & 7.058251\\\\\n",
       "\t Left-Center  & Democratic & 2.781442 & 0.0008237999 & 5672090 & 2.619980 & 2.942904\\\\\n",
       "\t Least-Biased & Democratic & 2.325561 & 0.0005560449 & 5672090 & 2.216579 & 2.434544\\\\\n",
       "\t Right-Center & Democratic & 2.899318 & 0.0014775897 & 5672090 & 2.609715 & 3.188920\\\\\n",
       "\t Right        & Democratic & 6.720864 & 0.0064938523 & 5672090 & 5.448092 & 7.993636\\\\\n",
       "\t Left         & Republican & 6.938190 & 0.0096041576 & 5672090 & 5.055809 & 8.820571\\\\\n",
       "\t Left-Center  & Republican & 2.915357 & 0.0010726257 & 5672090 & 2.705126 & 3.125588\\\\\n",
       "\t Least-Biased & Republican & 2.163356 & 0.0005734512 & 5672090 & 2.050962 & 2.275751\\\\\n",
       "\t Right-Center & Republican & 2.408579 & 0.0012433152 & 5672090 & 2.164893 & 2.652264\\\\\n",
       "\t Right        & Republican & 4.758058 & 0.0046581373 & 5672090 & 3.845080 & 5.671037\\\\\n",
       "\\end{tabular}\n"
      ],
      "text/markdown": [
       "\n",
       "A data.table: 10 × 7\n",
       "\n",
       "| outlet_category &lt;chr&gt; | party &lt;chr&gt; | emmean &lt;dbl&gt; | SE &lt;dbl&gt; | df &lt;dbl&gt; | lower.CL &lt;dbl&gt; | upper.CL &lt;dbl&gt; |\n",
       "|---|---|---|---|---|---|---|\n",
       "| Left         | Democratic | 5.575863 | 0.0075633452 | 5672090 | 4.093474 | 7.058251 |\n",
       "| Left-Center  | Democratic | 2.781442 | 0.0008237999 | 5672090 | 2.619980 | 2.942904 |\n",
       "| Least-Biased | Democratic | 2.325561 | 0.0005560449 | 5672090 | 2.216579 | 2.434544 |\n",
       "| Right-Center | Democratic | 2.899318 | 0.0014775897 | 5672090 | 2.609715 | 3.188920 |\n",
       "| Right        | Democratic | 6.720864 | 0.0064938523 | 5672090 | 5.448092 | 7.993636 |\n",
       "| Left         | Republican | 6.938190 | 0.0096041576 | 5672090 | 5.055809 | 8.820571 |\n",
       "| Left-Center  | Republican | 2.915357 | 0.0010726257 | 5672090 | 2.705126 | 3.125588 |\n",
       "| Least-Biased | Republican | 2.163356 | 0.0005734512 | 5672090 | 2.050962 | 2.275751 |\n",
       "| Right-Center | Republican | 2.408579 | 0.0012433152 | 5672090 | 2.164893 | 2.652264 |\n",
       "| Right        | Republican | 4.758058 | 0.0046581373 | 5672090 | 3.845080 | 5.671037 |\n",
       "\n"
      ],
      "text/plain": [
       "   outlet_category party      emmean   SE           df      lower.CL upper.CL\n",
       "1  Left            Democratic 5.575863 0.0075633452 5672090 4.093474 7.058251\n",
       "2  Left-Center     Democratic 2.781442 0.0008237999 5672090 2.619980 2.942904\n",
       "3  Least-Biased    Democratic 2.325561 0.0005560449 5672090 2.216579 2.434544\n",
       "4  Right-Center    Democratic 2.899318 0.0014775897 5672090 2.609715 3.188920\n",
       "5  Right           Democratic 6.720864 0.0064938523 5672090 5.448092 7.993636\n",
       "6  Left            Republican 6.938190 0.0096041576 5672090 5.055809 8.820571\n",
       "7  Left-Center     Republican 2.915357 0.0010726257 5672090 2.705126 3.125588\n",
       "8  Least-Biased    Republican 2.163356 0.0005734512 5672090 2.050962 2.275751\n",
       "9  Right-Center    Republican 2.408579 0.0012433152 5672090 2.164893 2.652264\n",
       "10 Right           Republican 4.758058 0.0046581373 5672090 3.845080 5.671037"
      ]
     },
     "metadata": {},
     "output_type": "display_data"
    }
   ],
   "source": [
    "emmeans_plot_2_table"
   ]
  },
  {
   "cell_type": "code",
   "execution_count": 41,
   "id": "f19ff2f3",
   "metadata": {},
   "outputs": [
    {
     "data": {
      "text/plain": [
       "\n",
       "Call:\n",
       "lm(formula = unprofessional_verb ~ factor(outlet_category) + \n",
       "    factor(party) + factor(outlet_category):factor(party), data = df_shrunk)\n",
       "\n",
       "Residuals:\n",
       "     Min       1Q   Median       3Q      Max \n",
       "-0.06938 -0.02915 -0.02781 -0.02326  0.97837 \n",
       "\n",
       "Coefficients:\n",
       "                                                                    Estimate\n",
       "(Intercept)                                                        0.0278144\n",
       "factor(outlet_category)left_media                                  0.0279442\n",
       "factor(outlet_category)mainstream                                 -0.0045588\n",
       "factor(outlet_category)right_center_media                          0.0011788\n",
       "factor(outlet_category)right_media                                 0.0393942\n",
       "factor(party)republican                                            0.0013391\n",
       "factor(outlet_category)left_media:factor(party)republican          0.0122841\n",
       "factor(outlet_category)mainstream:factor(party)republican         -0.0029612\n",
       "factor(outlet_category)right_center_media:factor(party)republican -0.0062465\n",
       "factor(outlet_category)right_media:factor(party)republican        -0.0209672\n",
       "                                                                  Std. Error\n",
       "(Intercept)                                                        0.0001634\n",
       "factor(outlet_category)left_media                                  0.0004309\n",
       "factor(outlet_category)mainstream                                  0.0002438\n",
       "factor(outlet_category)right_center_media                          0.0003182\n",
       "factor(outlet_category)right_media                                 0.0003592\n",
       "factor(party)republican                                            0.0002436\n",
       "factor(outlet_category)left_media:factor(party)republican          0.0006252\n",
       "factor(outlet_category)mainstream:factor(party)republican          0.0003567\n",
       "factor(outlet_category)right_center_media:factor(party)republican  0.0004578\n",
       "factor(outlet_category)right_media:factor(party)republican         0.0005041\n",
       "                                                                  t value\n",
       "(Intercept)                                                       170.181\n",
       "factor(outlet_category)left_media                                  64.858\n",
       "factor(outlet_category)mainstream                                 -18.700\n",
       "factor(outlet_category)right_center_media                           3.704\n",
       "factor(outlet_category)right_media                                109.668\n",
       "factor(party)republican                                             5.497\n",
       "factor(outlet_category)left_media:factor(party)republican          19.648\n",
       "factor(outlet_category)mainstream:factor(party)republican          -8.301\n",
       "factor(outlet_category)right_center_media:factor(party)republican -13.646\n",
       "factor(outlet_category)right_media:factor(party)republican        -41.595\n",
       "                                                                  Pr(>|t|)    \n",
       "(Intercept)                                                        < 2e-16 ***\n",
       "factor(outlet_category)left_media                                  < 2e-16 ***\n",
       "factor(outlet_category)mainstream                                  < 2e-16 ***\n",
       "factor(outlet_category)right_center_media                         0.000212 ***\n",
       "factor(outlet_category)right_media                                 < 2e-16 ***\n",
       "factor(party)republican                                           3.87e-08 ***\n",
       "factor(outlet_category)left_media:factor(party)republican          < 2e-16 ***\n",
       "factor(outlet_category)mainstream:factor(party)republican          < 2e-16 ***\n",
       "factor(outlet_category)right_center_media:factor(party)republican  < 2e-16 ***\n",
       "factor(outlet_category)right_media:factor(party)republican         < 2e-16 ***\n",
       "---\n",
       "Signif. codes:  0 '***' 0.001 '**' 0.01 '*' 0.05 '.' 0.1 ' ' 1\n",
       "\n",
       "Residual standard error: 0.1745 on 5672090 degrees of freedom\n",
       "Multiple R-squared:  0.00589,\tAdjusted R-squared:  0.005888 \n",
       "F-statistic:  3734 on 9 and 5672090 DF,  p-value: < 2.2e-16\n"
      ]
     },
     "metadata": {},
     "output_type": "display_data"
    }
   ],
   "source": [
    "# This cell plots + the one below plots PERCENTAGE, not ratio\n",
    "summary(model2)"
   ]
  },
  {
   "cell_type": "code",
   "execution_count": 42,
   "id": "1969138a",
   "metadata": {},
   "outputs": [
    {
     "data": {
      "text/html": [
       "<strong>png:</strong> 2"
      ],
      "text/latex": [
       "\\textbf{png:} 2"
      ],
      "text/markdown": [
       "**png:** 2"
      ],
      "text/plain": [
       "png \n",
       "  2 "
      ]
     },
     "metadata": {},
     "output_type": "display_data"
    }
   ],
   "source": [
    "pdf(file='model2_coeff_percentage_NOTRUMP.pdf',width = 6.8, height = 3.0,onefile=F)\n",
    "emmeans_plot_2_table%>%\n",
    "group_by(party) %>% \n",
    "forestplot(labeltext = outlet_category, \n",
    "                mean = emmean,\n",
    "            lower = lower.CL, \n",
    "            upper = upper.CL,\n",
    "                boxsize = 0.25,\n",
    "\n",
    "                fn.ci_norm = fpDrawCircleCI,\n",
    "           \n",
    "                col = fpColors(box = c(\"royalblue\", \"red\"),\n",
    "                line = c(\"royalblue\", \"red\"),\n",
    "                summary = c(\"royalblue\",\"red\")),\n",
    "                        grid=TRUE,\n",
    "                                  graphwidth=unit(12, \"cm\"),\n",
    "                            lineheight=unit(1.5, \"cm\"),\n",
    "                    align=c('r','l'),\n",
    "                   xticks = c(0, 2.5, 5,7.5,10),\n",
    "                xlab=expression(paste(\"Percentage nonobjective quotative (\",gamma+eta+sigma,\")\")),\n",
    "                lwd.zero=gpar(lwd = 2),\n",
    "                 txt_gp = fpTxtGp(label =  gpar(cex=1.5),\n",
    "                              ticks = gpar(cex = 1.5),\n",
    "                              xlab  = gpar(cex = 1.5)))\n",
    "dev.off()\n",
    "\n"
   ]
  },
  {
   "cell_type": "markdown",
   "id": "d6b0efaa",
   "metadata": {},
   "source": [
    "# Generate Plot for Equation 2 (Contrast) - Figure 9(b)"
   ]
  },
  {
   "cell_type": "code",
   "execution_count": 43,
   "id": "3fcbee94",
   "metadata": {},
   "outputs": [],
   "source": [
    "emmeans_plot_2=emmeans(model2, specs = pairwise ~ outlet_category:party,vcov = as.matrix(cl_vcov_mat2))"
   ]
  },
  {
   "cell_type": "code",
   "execution_count": 44,
   "id": "67dc5c29",
   "metadata": {},
   "outputs": [],
   "source": [
    "emmeans_plot_2_table=as.data.table(emmeans_plot_2$contrasts)\n",
    "emmeans_plot_2_table=emmeans_plot_2_table[c(14,5,22,29,35),]\n",
    "emmeans_plot_2_table$contrast=c('Left','Left-Center','Least-Biased','Right-Center','Right')\n",
    "emmeans_plot_2_table$estimate=emmeans_plot_2_table$estimate*100\n",
    "conf=confint(emmeans_plot_2$contrasts, adjust = \"tukey\")\n",
    "conf=conf[c(14,5,22,29,35),]\n",
    "emmeans_plot_2_table$lower.CL=conf$lower.CL*100\n",
    "emmeans_plot_2_table$upper.CL=conf$upper.CL*100\n",
    "emmeans_plot_2_table$estimate=round(emmeans_plot_2_table$estimate,4)"
   ]
  },
  {
   "cell_type": "code",
   "execution_count": 45,
   "id": "de682e3a",
   "metadata": {},
   "outputs": [
    {
     "data": {
      "text/html": [
       "<table class=\"dataframe\">\n",
       "<caption>A data.table: 5 × 8</caption>\n",
       "<thead>\n",
       "\t<tr><th scope=col>contrast</th><th scope=col>estimate</th><th scope=col>SE</th><th scope=col>df</th><th scope=col>t.ratio</th><th scope=col>p.value</th><th scope=col>lower.CL</th><th scope=col>upper.CL</th></tr>\n",
       "\t<tr><th scope=col>&lt;chr&gt;</th><th scope=col>&lt;dbl&gt;</th><th scope=col>&lt;dbl&gt;</th><th scope=col>&lt;dbl&gt;</th><th scope=col>&lt;dbl&gt;</th><th scope=col>&lt;dbl&gt;</th><th scope=col>&lt;dbl&gt;</th><th scope=col>&lt;dbl&gt;</th></tr>\n",
       "</thead>\n",
       "<tbody>\n",
       "\t<tr><td>Left        </td><td>-1.3623</td><td>0.0040641703</td><td>5672090</td><td>-3.352043</td><td>2.766315e-02</td><td>-2.64810214</td><td>-0.07655221</td></tr>\n",
       "\t<tr><td>Left-Center </td><td>-0.1339</td><td>0.0006091633</td><td>5672090</td><td>-2.198335</td><td>4.578131e-01</td><td>-0.32663454</td><td> 0.05880548</td></tr>\n",
       "\t<tr><td>Least-Biased</td><td> 0.1622</td><td>0.0004014427</td><td>5672090</td><td> 4.040556</td><td>2.165224e-03</td><td> 0.03520138</td><td> 0.28920895</td></tr>\n",
       "\t<tr><td>Right-Center</td><td> 0.4907</td><td>0.0008839055</td><td>5672090</td><td> 5.551939</td><td>1.261606e-06</td><td> 0.21109917</td><td> 0.77037866</td></tr>\n",
       "\t<tr><td>Right       </td><td> 1.9628</td><td>0.0043043065</td><td>5672090</td><td> 4.560097</td><td>2.197863e-04</td><td> 0.60105907</td><td> 3.32455200</td></tr>\n",
       "</tbody>\n",
       "</table>\n"
      ],
      "text/latex": [
       "A data.table: 5 × 8\n",
       "\\begin{tabular}{llllllll}\n",
       " contrast & estimate & SE & df & t.ratio & p.value & lower.CL & upper.CL\\\\\n",
       " <chr> & <dbl> & <dbl> & <dbl> & <dbl> & <dbl> & <dbl> & <dbl>\\\\\n",
       "\\hline\n",
       "\t Left         & -1.3623 & 0.0040641703 & 5672090 & -3.352043 & 2.766315e-02 & -2.64810214 & -0.07655221\\\\\n",
       "\t Left-Center  & -0.1339 & 0.0006091633 & 5672090 & -2.198335 & 4.578131e-01 & -0.32663454 &  0.05880548\\\\\n",
       "\t Least-Biased &  0.1622 & 0.0004014427 & 5672090 &  4.040556 & 2.165224e-03 &  0.03520138 &  0.28920895\\\\\n",
       "\t Right-Center &  0.4907 & 0.0008839055 & 5672090 &  5.551939 & 1.261606e-06 &  0.21109917 &  0.77037866\\\\\n",
       "\t Right        &  1.9628 & 0.0043043065 & 5672090 &  4.560097 & 2.197863e-04 &  0.60105907 &  3.32455200\\\\\n",
       "\\end{tabular}\n"
      ],
      "text/markdown": [
       "\n",
       "A data.table: 5 × 8\n",
       "\n",
       "| contrast &lt;chr&gt; | estimate &lt;dbl&gt; | SE &lt;dbl&gt; | df &lt;dbl&gt; | t.ratio &lt;dbl&gt; | p.value &lt;dbl&gt; | lower.CL &lt;dbl&gt; | upper.CL &lt;dbl&gt; |\n",
       "|---|---|---|---|---|---|---|---|\n",
       "| Left         | -1.3623 | 0.0040641703 | 5672090 | -3.352043 | 2.766315e-02 | -2.64810214 | -0.07655221 |\n",
       "| Left-Center  | -0.1339 | 0.0006091633 | 5672090 | -2.198335 | 4.578131e-01 | -0.32663454 |  0.05880548 |\n",
       "| Least-Biased |  0.1622 | 0.0004014427 | 5672090 |  4.040556 | 2.165224e-03 |  0.03520138 |  0.28920895 |\n",
       "| Right-Center |  0.4907 | 0.0008839055 | 5672090 |  5.551939 | 1.261606e-06 |  0.21109917 |  0.77037866 |\n",
       "| Right        |  1.9628 | 0.0043043065 | 5672090 |  4.560097 | 2.197863e-04 |  0.60105907 |  3.32455200 |\n",
       "\n"
      ],
      "text/plain": [
       "  contrast     estimate SE           df      t.ratio   p.value      lower.CL   \n",
       "1 Left         -1.3623  0.0040641703 5672090 -3.352043 2.766315e-02 -2.64810214\n",
       "2 Left-Center  -0.1339  0.0006091633 5672090 -2.198335 4.578131e-01 -0.32663454\n",
       "3 Least-Biased  0.1622  0.0004014427 5672090  4.040556 2.165224e-03  0.03520138\n",
       "4 Right-Center  0.4907  0.0008839055 5672090  5.551939 1.261606e-06  0.21109917\n",
       "5 Right         1.9628  0.0043043065 5672090  4.560097 2.197863e-04  0.60105907\n",
       "  upper.CL   \n",
       "1 -0.07655221\n",
       "2  0.05880548\n",
       "3  0.28920895\n",
       "4  0.77037866\n",
       "5  3.32455200"
      ]
     },
     "metadata": {},
     "output_type": "display_data"
    }
   ],
   "source": [
    "emmeans_plot_2_table"
   ]
  },
  {
   "cell_type": "code",
   "execution_count": 46,
   "id": "3a45adf6",
   "metadata": {},
   "outputs": [
    {
     "data": {
      "text/html": [
       "<strong>png:</strong> 2"
      ],
      "text/latex": [
       "\\textbf{png:} 2"
      ],
      "text/markdown": [
       "**png:** 2"
      ],
      "text/plain": [
       "png \n",
       "  2 "
      ]
     },
     "metadata": {},
     "output_type": "display_data"
    }
   ],
   "source": [
    "pdf(file='model2_coeff_contrast_NOTRUMP.pdf',width =8.2, height = 3.5,onefile=F)\n",
    "emmeans_plot_2_table%>%forestplot(labeltext = c(contrast), \n",
    "                                  ,\n",
    "                    fn.ci_norm = c(\"fpDrawCircleCI\",\"fpDrawPointCI\",\"fpDrawCircleCI\",\"fpDrawCircleCI\",\"fpDrawCircleCI\"),\n",
    "                    boxsize = c(0.25,0.25/0.7227,0.25,0.25,0.25),\n",
    "                mean = estimate,\n",
    "            lower = lower.CL, \n",
    "            upper = upper.CL,\n",
    "                col = fpColors(box = \"royalblue\",\n",
    "                line = \"royalblue\",\n",
    "                summary = \"royalblue\"),\n",
    "                                  grid=TRUE,\n",
    "                                  graphwidth=unit(15, \"cm\"),\n",
    "                                  lineheight=unit(1.5, \"cm\"),\n",
    "                lwd.zero=gpar(lwd = 2),\n",
    "                         align=c('r','l'),\n",
    "                #xticks = seq(from = -.5, to = .5, by = 0.25),\n",
    "                xlab = expression(atop(\"Democratic - Republican\",paste(\"Percentage nonobjective quotative (\",sigma,\")\"))),\n",
    "                #xlab=expression(paste(\"Percentage nonobjective quotative (\",gamma+eta+sigma,\")\")),\n",
    "                #xlab= \"Democratic - Republican\",\n",
    "                 txt_gp = fpTxtGp(label =  gpar(cex=1.5),\n",
    "                              ticks = gpar(cex = 1.5),\n",
    "                              xlab  = gpar(cex = 1.5)))\n",
    "dev.off()\n",
    "\n"
   ]
  },
  {
   "cell_type": "markdown",
   "id": "b88fe34e",
   "metadata": {},
   "source": [
    "# Generate Plot for Equation 2 (Mean, Matched)"
   ]
  },
  {
   "cell_type": "code",
   "execution_count": 47,
   "id": "e58ab245",
   "metadata": {},
   "outputs": [],
   "source": [
    "emmeans_plot_2_matched=emmeans(model2_matched, specs = pairwise ~ outlet_lean_binary:party,vcov = as.matrix(cl_vcov_mat2_matched))\n",
    "emmeans_plot_2_matched_table=as.data.table(emmeans_plot_2_matched$emmeans)\n",
    "emmeans_plot_2_matched_table$outlet_category=c('Left - Combined','Right - Combined','Left - Combined','Right - Combined')\n",
    "emmeans_plot_2_matched_table$party=c(rep('Democratic',2),rep('Republican',2))\n",
    "emmeans_plot_2_matched_table$emmean=emmeans_plot_2_matched_table$emmean*100\n",
    "emmeans_plot_2_matched_table$lower.CL=emmeans_plot_2_matched_table$lower.CL*100\n",
    "emmeans_plot_2_matched_table$upper.CL=emmeans_plot_2_matched_table$upper.CL*100\n"
   ]
  },
  {
   "cell_type": "code",
   "execution_count": 48,
   "id": "4a111224",
   "metadata": {},
   "outputs": [
    {
     "data": {
      "text/html": [
       "<table class=\"dataframe\">\n",
       "<caption>A data.table: 4 × 8</caption>\n",
       "<thead>\n",
       "\t<tr><th scope=col>outlet_lean_binary</th><th scope=col>party</th><th scope=col>emmean</th><th scope=col>SE</th><th scope=col>df</th><th scope=col>lower.CL</th><th scope=col>upper.CL</th><th scope=col>outlet_category</th></tr>\n",
       "\t<tr><th scope=col>&lt;fct&gt;</th><th scope=col>&lt;chr&gt;</th><th scope=col>&lt;dbl&gt;</th><th scope=col>&lt;dbl&gt;</th><th scope=col>&lt;dbl&gt;</th><th scope=col>&lt;dbl&gt;</th><th scope=col>&lt;dbl&gt;</th><th scope=col>&lt;chr&gt;</th></tr>\n",
       "</thead>\n",
       "<tbody>\n",
       "\t<tr><td>left </td><td>Democratic</td><td>3.446986</td><td>0.001061378</td><td>764628</td><td>3.238959</td><td>3.655012</td><td>Left - Combined </td></tr>\n",
       "\t<tr><td>right</td><td>Democratic</td><td>4.032885</td><td>0.001931471</td><td>764628</td><td>3.654323</td><td>4.411447</td><td>Right - Combined</td></tr>\n",
       "\t<tr><td>left </td><td>Republican</td><td>3.091944</td><td>0.001047802</td><td>764628</td><td>2.886579</td><td>3.297310</td><td>Left - Combined </td></tr>\n",
       "\t<tr><td>right</td><td>Republican</td><td>3.030184</td><td>0.001229164</td><td>764628</td><td>2.789272</td><td>3.271096</td><td>Right - Combined</td></tr>\n",
       "</tbody>\n",
       "</table>\n"
      ],
      "text/latex": [
       "A data.table: 4 × 8\n",
       "\\begin{tabular}{llllllll}\n",
       " outlet\\_lean\\_binary & party & emmean & SE & df & lower.CL & upper.CL & outlet\\_category\\\\\n",
       " <fct> & <chr> & <dbl> & <dbl> & <dbl> & <dbl> & <dbl> & <chr>\\\\\n",
       "\\hline\n",
       "\t left  & Democratic & 3.446986 & 0.001061378 & 764628 & 3.238959 & 3.655012 & Left - Combined \\\\\n",
       "\t right & Democratic & 4.032885 & 0.001931471 & 764628 & 3.654323 & 4.411447 & Right - Combined\\\\\n",
       "\t left  & Republican & 3.091944 & 0.001047802 & 764628 & 2.886579 & 3.297310 & Left - Combined \\\\\n",
       "\t right & Republican & 3.030184 & 0.001229164 & 764628 & 2.789272 & 3.271096 & Right - Combined\\\\\n",
       "\\end{tabular}\n"
      ],
      "text/markdown": [
       "\n",
       "A data.table: 4 × 8\n",
       "\n",
       "| outlet_lean_binary &lt;fct&gt; | party &lt;chr&gt; | emmean &lt;dbl&gt; | SE &lt;dbl&gt; | df &lt;dbl&gt; | lower.CL &lt;dbl&gt; | upper.CL &lt;dbl&gt; | outlet_category &lt;chr&gt; |\n",
       "|---|---|---|---|---|---|---|---|\n",
       "| left  | Democratic | 3.446986 | 0.001061378 | 764628 | 3.238959 | 3.655012 | Left - Combined  |\n",
       "| right | Democratic | 4.032885 | 0.001931471 | 764628 | 3.654323 | 4.411447 | Right - Combined |\n",
       "| left  | Republican | 3.091944 | 0.001047802 | 764628 | 2.886579 | 3.297310 | Left - Combined  |\n",
       "| right | Republican | 3.030184 | 0.001229164 | 764628 | 2.789272 | 3.271096 | Right - Combined |\n",
       "\n"
      ],
      "text/plain": [
       "  outlet_lean_binary party      emmean   SE          df     lower.CL upper.CL\n",
       "1 left               Democratic 3.446986 0.001061378 764628 3.238959 3.655012\n",
       "2 right              Democratic 4.032885 0.001931471 764628 3.654323 4.411447\n",
       "3 left               Republican 3.091944 0.001047802 764628 2.886579 3.297310\n",
       "4 right              Republican 3.030184 0.001229164 764628 2.789272 3.271096\n",
       "  outlet_category \n",
       "1 Left - Combined \n",
       "2 Right - Combined\n",
       "3 Left - Combined \n",
       "4 Right - Combined"
      ]
     },
     "metadata": {},
     "output_type": "display_data"
    }
   ],
   "source": [
    "emmeans_plot_2_matched_table"
   ]
  },
  {
   "cell_type": "code",
   "execution_count": 49,
   "id": "9d7c1630",
   "metadata": {},
   "outputs": [
    {
     "data": {
      "text/html": [
       "<strong>png:</strong> 2"
      ],
      "text/latex": [
       "\\textbf{png:} 2"
      ],
      "text/markdown": [
       "**png:** 2"
      ],
      "text/plain": [
       "png \n",
       "  2 "
      ]
     },
     "metadata": {},
     "output_type": "display_data"
    }
   ],
   "source": [
    "pdf(file='model2_matched_coeff_percent_NOTRUMP.pdf',width = 6.5, height = 2.0,onefile=F)\n",
    "emmeans_plot_2_matched_table%>%\n",
    "group_by(outlet_category) %>% \n",
    "forestplot(labeltext = party, \n",
    "                mean = emmean,\n",
    "            lower = lower.CL, \n",
    "            upper = upper.CL,\n",
    "           boxsize = .25,\n",
    "                            col = fpColors(box = c(\"royalblue\", \"red\"),\n",
    "                line = c(\"royalblue\", \"red\"),\n",
    "                summary = c(\"royalblue\",\"red\")),\n",
    "                    fn.ci_norm = c(\n",
    "                        rep(\"fpDrawCircleCI\",2)),\n",
    "                        grid=TRUE,\n",
    "                                  graphwidth=unit(12, \"cm\"),\n",
    "                                  lineheight=unit(2.0, \"cm\"),\n",
    "           zero=NA,\n",
    "           #lwd.zero=gpar(lwd = 2),\n",
    "           align=c('r','l'),\n",
    "           xticks = c(3, 3.5,4,4.5,5),\n",
    "                xlab=expression(paste(\"Percentage nonobjective quotative (\",gamma+eta+sigma,\")\")),\n",
    "\n",
    "                 txt_gp = fpTxtGp(label =  gpar(cex=1.5),\n",
    "                              ticks = gpar(cex = 1.5),\n",
    "                              xlab  = gpar(cex = 1.5)))\n",
    "dev.off()"
   ]
  },
  {
   "cell_type": "markdown",
   "id": "80886094",
   "metadata": {},
   "source": [
    "# Generate Plot for Equation 2 (Contrast, Matched) "
   ]
  },
  {
   "cell_type": "code",
   "execution_count": 50,
   "id": "29f65f96",
   "metadata": {},
   "outputs": [],
   "source": [
    "emmeans_plot_2_matched=emmeans(model2_matched, specs = pairwise ~ outlet_lean_binary:party,vcov = as.matrix(cl_vcov_mat2_matched))\n"
   ]
  },
  {
   "cell_type": "code",
   "execution_count": 51,
   "id": "a464ff50",
   "metadata": {},
   "outputs": [
    {
     "data": {
      "text/plain": [
       " contrast                             estimate       SE     df t.ratio p.value\n",
       " left democratic - right democratic  -0.005859 0.002204 764628  -2.658  0.0393\n",
       " left democratic - left republican    0.003550 0.000726 764628   4.891  <.0001\n",
       " left democratic - right republican   0.004168 0.001624 764628   2.567  0.0503\n",
       " right democratic - left republican   0.009409 0.002197 764628   4.282  0.0001\n",
       " right democratic - right republican  0.010027 0.001261 764628   7.953  <.0001\n",
       " left republican - right republican   0.000618 0.001615 764628   0.382  0.9810\n",
       "\n",
       "P value adjustment: tukey method for comparing a family of 4 estimates "
      ]
     },
     "metadata": {},
     "output_type": "display_data"
    }
   ],
   "source": [
    "emmeans_plot_2_matched$contrasts"
   ]
  },
  {
   "cell_type": "code",
   "execution_count": 52,
   "id": "9422571e",
   "metadata": {},
   "outputs": [],
   "source": [
    "emmeans_plot_2_matched_table=as.data.table(emmeans_plot_2_matched$contrasts)\n",
    "emmeans_plot_2_matched_table=emmeans_plot_2_matched_table[c(1,6),]\n",
    "emmeans_plot_2_matched_table$party=c('Democratic','Republican')\n",
    "emmeans_plot_2_matched_table$estimate=emmeans_plot_2_matched_table$estimate*100\n",
    "conf=confint(emmeans_plot_2_matched$contrasts, adjust = \"tukey\")\n",
    "conf=conf[c(1,6),]\n",
    "emmeans_plot_2_matched_table$lower.CL=conf$lower.CL*100\n",
    "emmeans_plot_2_matched_table$upper.CL=conf$upper.CL*100\n"
   ]
  },
  {
   "cell_type": "code",
   "execution_count": 55,
   "id": "1f4989d4",
   "metadata": {},
   "outputs": [
    {
     "data": {
      "text/html": [
       "<table class=\"dataframe\">\n",
       "<caption>A data.table: 2 × 9</caption>\n",
       "<thead>\n",
       "\t<tr><th scope=col>contrast</th><th scope=col>estimate</th><th scope=col>SE</th><th scope=col>df</th><th scope=col>t.ratio</th><th scope=col>p.value</th><th scope=col>party</th><th scope=col>lower.CL</th><th scope=col>upper.CL</th></tr>\n",
       "\t<tr><th scope=col>&lt;fct&gt;</th><th scope=col>&lt;dbl&gt;</th><th scope=col>&lt;dbl&gt;</th><th scope=col>&lt;dbl&gt;</th><th scope=col>&lt;dbl&gt;</th><th scope=col>&lt;dbl&gt;</th><th scope=col>&lt;chr&gt;</th><th scope=col>&lt;dbl&gt;</th><th scope=col>&lt;dbl&gt;</th></tr>\n",
       "</thead>\n",
       "<tbody>\n",
       "\t<tr><td>left democratic - right democratic</td><td>-0.58589942</td><td>0.002203883</td><td>764628</td><td>-2.6584866</td><td>0.03925335</td><td>Democratic</td><td>-1.1520840</td><td>-0.0197148</td></tr>\n",
       "\t<tr><td>left republican - right republican</td><td> 0.06176062</td><td>0.001615157</td><td>764628</td><td> 0.3823815</td><td>0.98098382</td><td>Republican</td><td>-0.3531784</td><td> 0.4766996</td></tr>\n",
       "</tbody>\n",
       "</table>\n"
      ],
      "text/latex": [
       "A data.table: 2 × 9\n",
       "\\begin{tabular}{lllllllll}\n",
       " contrast & estimate & SE & df & t.ratio & p.value & party & lower.CL & upper.CL\\\\\n",
       " <fct> & <dbl> & <dbl> & <dbl> & <dbl> & <dbl> & <chr> & <dbl> & <dbl>\\\\\n",
       "\\hline\n",
       "\t left democratic - right democratic & -0.58589942 & 0.002203883 & 764628 & -2.6584866 & 0.03925335 & Democratic & -1.1520840 & -0.0197148\\\\\n",
       "\t left republican - right republican &  0.06176062 & 0.001615157 & 764628 &  0.3823815 & 0.98098382 & Republican & -0.3531784 &  0.4766996\\\\\n",
       "\\end{tabular}\n"
      ],
      "text/markdown": [
       "\n",
       "A data.table: 2 × 9\n",
       "\n",
       "| contrast &lt;fct&gt; | estimate &lt;dbl&gt; | SE &lt;dbl&gt; | df &lt;dbl&gt; | t.ratio &lt;dbl&gt; | p.value &lt;dbl&gt; | party &lt;chr&gt; | lower.CL &lt;dbl&gt; | upper.CL &lt;dbl&gt; |\n",
       "|---|---|---|---|---|---|---|---|---|\n",
       "| left democratic - right democratic | -0.58589942 | 0.002203883 | 764628 | -2.6584866 | 0.03925335 | Democratic | -1.1520840 | -0.0197148 |\n",
       "| left republican - right republican |  0.06176062 | 0.001615157 | 764628 |  0.3823815 | 0.98098382 | Republican | -0.3531784 |  0.4766996 |\n",
       "\n"
      ],
      "text/plain": [
       "  contrast                           estimate    SE          df     t.ratio   \n",
       "1 left democratic - right democratic -0.58589942 0.002203883 764628 -2.6584866\n",
       "2 left republican - right republican  0.06176062 0.001615157 764628  0.3823815\n",
       "  p.value    party      lower.CL   upper.CL  \n",
       "1 0.03925335 Democratic -1.1520840 -0.0197148\n",
       "2 0.98098382 Republican -0.3531784  0.4766996"
      ]
     },
     "metadata": {},
     "output_type": "display_data"
    }
   ],
   "source": [
    "emmeans_plot_2_matched_table"
   ]
  },
  {
   "cell_type": "code",
   "execution_count": 56,
   "id": "f7ba7cf3",
   "metadata": {},
   "outputs": [
    {
     "data": {
      "text/html": [
       "<strong>png:</strong> 2"
      ],
      "text/latex": [
       "\\textbf{png:} 2"
      ],
      "text/markdown": [
       "**png:** 2"
      ],
      "text/plain": [
       "png \n",
       "  2 "
      ]
     },
     "metadata": {},
     "output_type": "display_data"
    }
   ],
   "source": [
    "pdf(file='model2_matched_coeff_contrast_NOTRUMP.pdf',width =8.2, height = 2.5,onefile=F)\n",
    "emmeans_plot_2_matched_table%>%forestplot(labeltext = party, \n",
    "                                  ,\n",
    "                    fn.ci_norm = c(\n",
    "                        \"fpDrawCircleCI\",\"fpDrawPointCI\"),\n",
    "                        boxsize = c(0.25,0.25/0.7227),\n",
    "                mean = estimate,\n",
    "            lower = lower.CL, \n",
    "            upper = upper.CL,\n",
    "                col = fpColors(box = \"royalblue\",\n",
    "                line = \"royalblue\",\n",
    "                summary = \"royalblue\"),\n",
    "                                  grid=TRUE,\n",
    "                                  graphwidth=unit(15, \"cm\"),\n",
    "                                  lineheight=unit(2.0, \"cm\"),\n",
    "                lwd.zero=gpar(lwd = 2),\n",
    "                         align=c('r','l'),\n",
    "                xticks = seq(from = -1.25, to = .75, by = 0.5),\n",
    "                xlab = expression(atop(\"Left (Combined) - Right (Combined)\",paste(\"Percentage nonobjective quotative (\",sigma,\")\"))),\n",
    "                #xlab=expression(paste(\"Percentage nonobjective quotative (\",gamma+eta+sigma,\")\")),\n",
    "                #xlab= \"Democratic - Republican\",\n",
    "                 txt_gp = fpTxtGp(label =  gpar(cex=1.5),\n",
    "                              ticks = gpar(cex = 1.5),\n",
    "                              xlab  = gpar(cex = 1.5)))\n",
    "dev.off()\n",
    "\n"
   ]
  },
  {
   "cell_type": "markdown",
   "id": "e573a3a0",
   "metadata": {},
   "source": [
    "# Generate Plot for Equation 3 - Figure 9(c)"
   ]
  },
  {
   "cell_type": "code",
   "execution_count": 57,
   "id": "404cc861",
   "metadata": {},
   "outputs": [],
   "source": [
    "emmeans_plot_3=(emtrends(model3, specs = pairwise ~ outlet_category:party,var = 'relative_time',vcov = as.matrix(cl_vcov_mat3)))"
   ]
  },
  {
   "cell_type": "code",
   "execution_count": 58,
   "id": "b86f6d0d",
   "metadata": {},
   "outputs": [],
   "source": [
    "emmeans_plot_3_table=as.data.table(emmeans_plot_3$contrasts)\n",
    "emmeans_plot_3_table=emmeans_plot_3_table[c(14,5,22,29,35),]\n",
    "emmeans_plot_3_table$contrast=c('Left','Left-Center','Least-Biased','Right-Center','Right')\n",
    "emmeans_plot_3_table$estimate=emmeans_plot_3_table$estimate*12*100\n",
    "conf=confint(emmeans_plot_3$contrasts, adjust = \"tukey\")\n",
    "conf=conf[c(14,5,22,29,35),]\n",
    "emmeans_plot_3_table$lower.CL=conf$lower.CL*12*100\n",
    "emmeans_plot_3_table$upper.CL=conf$upper.CL*12*100\n",
    "emmeans_plot_3_table$estimate=round(emmeans_plot_3_table$estimate,4)\n"
   ]
  },
  {
   "cell_type": "code",
   "execution_count": 59,
   "id": "8fb243d6",
   "metadata": {},
   "outputs": [
    {
     "data": {
      "text/html": [
       "<table class=\"dataframe\">\n",
       "<caption>A data.table: 5 × 8</caption>\n",
       "<thead>\n",
       "\t<tr><th scope=col>contrast</th><th scope=col>estimate</th><th scope=col>SE</th><th scope=col>df</th><th scope=col>t.ratio</th><th scope=col>p.value</th><th scope=col>lower.CL</th><th scope=col>upper.CL</th></tr>\n",
       "\t<tr><th scope=col>&lt;chr&gt;</th><th scope=col>&lt;dbl&gt;</th><th scope=col>&lt;dbl&gt;</th><th scope=col>&lt;dbl&gt;</th><th scope=col>&lt;dbl&gt;</th><th scope=col>&lt;dbl&gt;</th><th scope=col>&lt;dbl&gt;</th><th scope=col>&lt;dbl&gt;</th></tr>\n",
       "</thead>\n",
       "<tbody>\n",
       "\t<tr><td>Left        </td><td>-0.3390</td><td>5.543764e-05</td><td>5672083</td><td>-5.0961552</td><td>1.531707e-05</td><td>-0.54948719</td><td>-0.12855799</td></tr>\n",
       "\t<tr><td>Left-Center </td><td>-0.0709</td><td>1.598256e-05</td><td>5672083</td><td>-3.6973226</td><td>8.290006e-03</td><td>-0.13158776</td><td>-0.01023470</td></tr>\n",
       "\t<tr><td>Least-Biased</td><td>-0.0173</td><td>1.458821e-05</td><td>5672083</td><td>-0.9865450</td><td>9.930610e-01</td><td>-0.07265329</td><td> 0.03811267</td></tr>\n",
       "\t<tr><td>Right-Center</td><td> 0.0158</td><td>1.586013e-05</td><td>5672083</td><td> 0.8280518</td><td>9.981667e-01</td><td>-0.04445211</td><td> 0.07597133</td></tr>\n",
       "\t<tr><td>Right       </td><td> 0.2543</td><td>5.302712e-05</td><td>5672083</td><td> 3.9960076</td><td>2.597584e-03</td><td> 0.05296288</td><td> 0.45558939</td></tr>\n",
       "</tbody>\n",
       "</table>\n"
      ],
      "text/latex": [
       "A data.table: 5 × 8\n",
       "\\begin{tabular}{llllllll}\n",
       " contrast & estimate & SE & df & t.ratio & p.value & lower.CL & upper.CL\\\\\n",
       " <chr> & <dbl> & <dbl> & <dbl> & <dbl> & <dbl> & <dbl> & <dbl>\\\\\n",
       "\\hline\n",
       "\t Left         & -0.3390 & 5.543764e-05 & 5672083 & -5.0961552 & 1.531707e-05 & -0.54948719 & -0.12855799\\\\\n",
       "\t Left-Center  & -0.0709 & 1.598256e-05 & 5672083 & -3.6973226 & 8.290006e-03 & -0.13158776 & -0.01023470\\\\\n",
       "\t Least-Biased & -0.0173 & 1.458821e-05 & 5672083 & -0.9865450 & 9.930610e-01 & -0.07265329 &  0.03811267\\\\\n",
       "\t Right-Center &  0.0158 & 1.586013e-05 & 5672083 &  0.8280518 & 9.981667e-01 & -0.04445211 &  0.07597133\\\\\n",
       "\t Right        &  0.2543 & 5.302712e-05 & 5672083 &  3.9960076 & 2.597584e-03 &  0.05296288 &  0.45558939\\\\\n",
       "\\end{tabular}\n"
      ],
      "text/markdown": [
       "\n",
       "A data.table: 5 × 8\n",
       "\n",
       "| contrast &lt;chr&gt; | estimate &lt;dbl&gt; | SE &lt;dbl&gt; | df &lt;dbl&gt; | t.ratio &lt;dbl&gt; | p.value &lt;dbl&gt; | lower.CL &lt;dbl&gt; | upper.CL &lt;dbl&gt; |\n",
       "|---|---|---|---|---|---|---|---|\n",
       "| Left         | -0.3390 | 5.543764e-05 | 5672083 | -5.0961552 | 1.531707e-05 | -0.54948719 | -0.12855799 |\n",
       "| Left-Center  | -0.0709 | 1.598256e-05 | 5672083 | -3.6973226 | 8.290006e-03 | -0.13158776 | -0.01023470 |\n",
       "| Least-Biased | -0.0173 | 1.458821e-05 | 5672083 | -0.9865450 | 9.930610e-01 | -0.07265329 |  0.03811267 |\n",
       "| Right-Center |  0.0158 | 1.586013e-05 | 5672083 |  0.8280518 | 9.981667e-01 | -0.04445211 |  0.07597133 |\n",
       "| Right        |  0.2543 | 5.302712e-05 | 5672083 |  3.9960076 | 2.597584e-03 |  0.05296288 |  0.45558939 |\n",
       "\n"
      ],
      "text/plain": [
       "  contrast     estimate SE           df      t.ratio    p.value     \n",
       "1 Left         -0.3390  5.543764e-05 5672083 -5.0961552 1.531707e-05\n",
       "2 Left-Center  -0.0709  1.598256e-05 5672083 -3.6973226 8.290006e-03\n",
       "3 Least-Biased -0.0173  1.458821e-05 5672083 -0.9865450 9.930610e-01\n",
       "4 Right-Center  0.0158  1.586013e-05 5672083  0.8280518 9.981667e-01\n",
       "5 Right         0.2543  5.302712e-05 5672083  3.9960076 2.597584e-03\n",
       "  lower.CL    upper.CL   \n",
       "1 -0.54948719 -0.12855799\n",
       "2 -0.13158776 -0.01023470\n",
       "3 -0.07265329  0.03811267\n",
       "4 -0.04445211  0.07597133\n",
       "5  0.05296288  0.45558939"
      ]
     },
     "metadata": {},
     "output_type": "display_data"
    }
   ],
   "source": [
    "emmeans_plot_3_table"
   ]
  },
  {
   "cell_type": "code",
   "execution_count": 60,
   "id": "9229b886",
   "metadata": {},
   "outputs": [
    {
     "data": {
      "text/html": [
       "<strong>png:</strong> 2"
      ],
      "text/latex": [
       "\\textbf{png:} 2"
      ],
      "text/markdown": [
       "**png:** 2"
      ],
      "text/plain": [
       "png \n",
       "  2 "
      ]
     },
     "metadata": {},
     "output_type": "display_data"
    }
   ],
   "source": [
    "pdf(file='model3_coeff_NOTRUMP.pdf',width =8.2, height = 3.5,onefile=F)\n",
    "emmeans_plot_3_table%>%forestplot(labeltext = c(contrast), \n",
    "                                  ,\n",
    "                    fn.ci_norm = c(\n",
    "                        rep(\"fpDrawCircleCI\",2),\n",
    "                                   rep(\"fpDrawPointCI\",2),\"fpDrawCircleCI\"),\n",
    "                    boxsize = c(rep(0.25,2),0.25/0.7227,0.25/0.7227,0.25),\n",
    "                mean = estimate,\n",
    "            lower = lower.CL, \n",
    "            upper = upper.CL,\n",
    "                col = fpColors(box = \"royalblue\",\n",
    "                line = \"royalblue\",\n",
    "                summary = \"royalblue\"),\n",
    "                                  grid=TRUE,\n",
    "                                  graphwidth=unit(15, \"cm\"),\n",
    "                                  lineheight=unit(1.5, \"cm\"),\n",
    "                lwd.zero=gpar(lwd = 2),\n",
    "                         align=c('r','l'),\n",
    "                xticks = seq(from = -.5, to = .5, by = 0.25),\n",
    "                xlab = expression(atop(\"Democratic - Republican\",paste(\"Percentage rate of change (\",lambda,\")\"))),\n",
    "                #xlab=expression(paste(\"Percentage nonobjective quotative (\",gamma+eta+sigma,\")\")),\n",
    "                #xlab= \"Democratic - Republican\",\n",
    "                 txt_gp = fpTxtGp(label =  gpar(cex=1.5),\n",
    "                              ticks = gpar(cex = 1.5),\n",
    "                              xlab  = gpar(cex = 1.5)))\n",
    "dev.off()\n",
    "\n"
   ]
  }
 ],
 "metadata": {
  "kernelspec": {
   "display_name": "R",
   "language": "R",
   "name": "ir"
  },
  "language_info": {
   "codemirror_mode": "r",
   "file_extension": ".r",
   "mimetype": "text/x-r-source",
   "name": "R",
   "pygments_lexer": "r",
   "version": "3.6.3"
  }
 },
 "nbformat": 4,
 "nbformat_minor": 5
}
