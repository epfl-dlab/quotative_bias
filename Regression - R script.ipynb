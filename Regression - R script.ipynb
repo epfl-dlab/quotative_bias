{
 "cells": [
  {
   "cell_type": "markdown",
   "id": "7ea5d949",
   "metadata": {},
   "source": [
    "# Import all libraries "
   ]
  },
  {
   "cell_type": "code",
   "execution_count": 1,
   "id": "6b742424",
   "metadata": {
    "scrolled": true
   },
   "outputs": [
    {
     "name": "stderr",
     "output_type": "stream",
     "text": [
      "Loading required package: zoo\n",
      "\n",
      "\n",
      "Attaching package: 'zoo'\n",
      "\n",
      "\n",
      "The following objects are masked from 'package:base':\n",
      "\n",
      "    as.Date, as.Date.numeric\n",
      "\n",
      "\n",
      "\n",
      "Attaching package: 'dplyr'\n",
      "\n",
      "\n",
      "The following objects are masked from 'package:data.table':\n",
      "\n",
      "    between, first, last\n",
      "\n",
      "\n",
      "The following objects are masked from 'package:stats':\n",
      "\n",
      "    filter, lag\n",
      "\n",
      "\n",
      "The following objects are masked from 'package:base':\n",
      "\n",
      "    intersect, setdiff, setequal, union\n",
      "\n",
      "\n"
     ]
    }
   ],
   "source": [
    "library(\"data.table\")\n",
    "library(\"emmeans\")\n",
    "library(\"lmtest\")\n",
    "library(\"sandwich\")\n",
    "library(\"dplyr\")\n",
    "library(xtable)\n"
   ]
  },
  {
   "cell_type": "markdown",
   "id": "4c659d7d",
   "metadata": {},
   "source": [
    "# Load data in "
   ]
  },
  {
   "cell_type": "code",
   "execution_count": null,
   "id": "b63b969e",
   "metadata": {},
   "outputs": [],
   "source": [
    "dF <- fread('zstdcat quote_centric_regression.zst')\n"
   ]
  },
  {
   "cell_type": "code",
   "execution_count": 4,
   "id": "23f9894b",
   "metadata": {},
   "outputs": [
    {
     "data": {
      "text/html": [
       "6724371"
      ],
      "text/latex": [
       "6724371"
      ],
      "text/markdown": [
       "6724371"
      ],
      "text/plain": [
       "[1] 6724371"
      ]
     },
     "metadata": {},
     "output_type": "display_data"
    }
   ],
   "source": [
    "nrow(dF)"
   ]
  },
  {
   "cell_type": "code",
   "execution_count": 6,
   "id": "86c45189",
   "metadata": {
    "scrolled": false
   },
   "outputs": [],
   "source": [
    "# use a compressed version to perform regression to save RAM\n",
    "df_shrunk <- select(dF, cluster_assignment,domain, party, professional_verb,unprofessional_verb,outlet_category,outlet_category_binary,relative_time,speaker_verbosity_weight,yearmonth,top_speaker,domain_proxy,verb_trf)\n"
   ]
  },
  {
   "cell_type": "code",
   "execution_count": 7,
   "id": "97345f63",
   "metadata": {},
   "outputs": [],
   "source": [
    "df_shrunk <- df_shrunk[df_shrunk$verb_trf != 'opine']\n",
    "df_shrunk <- df_shrunk[df_shrunk$verb_trf != 'pen']\n",
    "df_shrunk <- df_shrunk[df_shrunk$verb_trf != 'utter']\n"
   ]
  },
  {
   "cell_type": "code",
   "execution_count": 68,
   "id": "6762d0b3",
   "metadata": {},
   "outputs": [
    {
     "data": {
      "text/html": [
       "6723255"
      ],
      "text/latex": [
       "6723255"
      ],
      "text/markdown": [
       "6723255"
      ],
      "text/plain": [
       "[1] 6723255"
      ]
     },
     "metadata": {},
     "output_type": "display_data"
    }
   ],
   "source": [
    "nrow(df_shrunk)"
   ]
  },
  {
   "cell_type": "code",
   "execution_count": 82,
   "id": "5d00aaf6",
   "metadata": {},
   "outputs": [
    {
     "data": {
      "text/html": [
       "<table class=\"dataframe\">\n",
       "<caption>A tibble: 5 × 2</caption>\n",
       "<thead>\n",
       "\t<tr><th scope=col>outlet_category</th><th scope=col>disp</th></tr>\n",
       "\t<tr><th scope=col>&lt;chr&gt;</th><th scope=col>&lt;dbl&gt;</th></tr>\n",
       "</thead>\n",
       "<tbody>\n",
       "\t<tr><td>left_center_media </td><td>0.03363251</td></tr>\n",
       "\t<tr><td>left_media        </td><td>0.06674516</td></tr>\n",
       "\t<tr><td>mainstream        </td><td>0.02820376</td></tr>\n",
       "\t<tr><td>right_center_media</td><td>0.03124684</td></tr>\n",
       "\t<tr><td>right_media       </td><td>0.05666332</td></tr>\n",
       "</tbody>\n",
       "</table>\n"
      ],
      "text/latex": [
       "A tibble: 5 × 2\n",
       "\\begin{tabular}{ll}\n",
       " outlet\\_category & disp\\\\\n",
       " <chr> & <dbl>\\\\\n",
       "\\hline\n",
       "\t left\\_center\\_media  & 0.03363251\\\\\n",
       "\t left\\_media         & 0.06674516\\\\\n",
       "\t mainstream         & 0.02820376\\\\\n",
       "\t right\\_center\\_media & 0.03124684\\\\\n",
       "\t right\\_media        & 0.05666332\\\\\n",
       "\\end{tabular}\n"
      ],
      "text/markdown": [
       "\n",
       "A tibble: 5 × 2\n",
       "\n",
       "| outlet_category &lt;chr&gt; | disp &lt;dbl&gt; |\n",
       "|---|---|\n",
       "| left_center_media  | 0.03363251 |\n",
       "| left_media         | 0.06674516 |\n",
       "| mainstream         | 0.02820376 |\n",
       "| right_center_media | 0.03124684 |\n",
       "| right_media        | 0.05666332 |\n",
       "\n"
      ],
      "text/plain": [
       "  outlet_category    disp      \n",
       "1 left_center_media  0.03363251\n",
       "2 left_media         0.06674516\n",
       "3 mainstream         0.02820376\n",
       "4 right_center_media 0.03124684\n",
       "5 right_media        0.05666332"
      ]
     },
     "metadata": {},
     "output_type": "display_data"
    }
   ],
   "source": [
    "df_shrunk %>% group_by(outlet_category)%>%summarise(disp = mean(unprofessional_verb))"
   ]
  },
  {
   "cell_type": "code",
   "execution_count": 95,
   "id": "6018a677",
   "metadata": {},
   "outputs": [],
   "source": [
    "dF <- dF[dF$verb_trf != 'opine']\n",
    "dF <- dF[dF$verb_trf != 'pen']\n",
    "dF <- dF[dF$verb_trf != 'utter']\n"
   ]
  },
  {
   "cell_type": "code",
   "execution_count": null,
   "id": "f03432c8",
   "metadata": {},
   "outputs": [],
   "source": [
    "dF$outlet_category"
   ]
  },
  {
   "cell_type": "markdown",
   "id": "cce6c41d",
   "metadata": {},
   "source": [
    "# Model 1 (Equation 1), temporal trend of unobjective verb: "
   ]
  },
  {
   "cell_type": "code",
   "execution_count": 8,
   "id": "5e53b01b",
   "metadata": {},
   "outputs": [],
   "source": [
    "model1=lm(unprofessional_verb ~ domain_proxy+factor(outlet_category)+ factor(outlet_category):relative_time, data = df_shrunk)\n"
   ]
  },
  {
   "cell_type": "code",
   "execution_count": 7,
   "id": "adfc5f74",
   "metadata": {},
   "outputs": [],
   "source": [
    "cl_vcov_mat1 <- vcovCL(model1,cluster = factor(df_shrunk$domain))\n"
   ]
  },
  {
   "cell_type": "code",
   "execution_count": 141,
   "id": "a2ed1cf8",
   "metadata": {},
   "outputs": [],
   "source": [
    "result_table_model1 <- test(emtrends(model1, specs = pairwise ~ outlet_category,var = 'relative_time',vcov = as.matrix(cl_vcov_mat1)))\n"
   ]
  },
  {
   "cell_type": "code",
   "execution_count": 142,
   "id": "ed85d40f",
   "metadata": {},
   "outputs": [
    {
     "data": {
      "text/html": [
       "<table class=\"dataframe\">\n",
       "<caption>A summary_emm: 5 × 6</caption>\n",
       "<thead>\n",
       "\t<tr><th></th><th scope=col>outlet_category</th><th scope=col>relative_time.trend</th><th scope=col>SE</th><th scope=col>df</th><th scope=col>t.ratio</th><th scope=col>p.value</th></tr>\n",
       "\t<tr><th></th><th scope=col>&lt;fct&gt;</th><th scope=col>&lt;dbl&gt;</th><th scope=col>&lt;dbl&gt;</th><th scope=col>&lt;dbl&gt;</th><th scope=col>&lt;dbl&gt;</th><th scope=col>&lt;dbl&gt;</th></tr>\n",
       "</thead>\n",
       "<tbody>\n",
       "\t<tr><th scope=row>1</th><td>left_center_media </td><td> 5.380472e-05</td><td>1.601666e-05</td><td>6723244</td><td> 3.35929713</td><td>7.814143e-04</td></tr>\n",
       "\t<tr><th scope=row>2</th><td>left_media        </td><td>-1.015518e-04</td><td>5.455714e-05</td><td>6723244</td><td>-1.86138405</td><td>6.269001e-02</td></tr>\n",
       "\t<tr><th scope=row>3</th><td>mainstream        </td><td> 6.669572e-05</td><td>1.397661e-05</td><td>6723244</td><td> 4.77195351</td><td>1.824514e-06</td></tr>\n",
       "\t<tr><th scope=row>4</th><td>right_center_media</td><td> 7.914832e-05</td><td>2.300137e-05</td><td>6723244</td><td> 3.44102690</td><td>5.795144e-04</td></tr>\n",
       "\t<tr><th scope=row>5</th><td>right_media       </td><td> 5.595200e-06</td><td>7.853086e-05</td><td>6723244</td><td> 0.07124842</td><td>9.432000e-01</td></tr>\n",
       "</tbody>\n",
       "</table>\n"
      ],
      "text/latex": [
       "A summary\\_emm: 5 × 6\n",
       "\\begin{tabular}{r|llllll}\n",
       "  & outlet\\_category & relative\\_time.trend & SE & df & t.ratio & p.value\\\\\n",
       "  & <fct> & <dbl> & <dbl> & <dbl> & <dbl> & <dbl>\\\\\n",
       "\\hline\n",
       "\t1 & left\\_center\\_media  &  5.380472e-05 & 1.601666e-05 & 6723244 &  3.35929713 & 7.814143e-04\\\\\n",
       "\t2 & left\\_media         & -1.015518e-04 & 5.455714e-05 & 6723244 & -1.86138405 & 6.269001e-02\\\\\n",
       "\t3 & mainstream         &  6.669572e-05 & 1.397661e-05 & 6723244 &  4.77195351 & 1.824514e-06\\\\\n",
       "\t4 & right\\_center\\_media &  7.914832e-05 & 2.300137e-05 & 6723244 &  3.44102690 & 5.795144e-04\\\\\n",
       "\t5 & right\\_media        &  5.595200e-06 & 7.853086e-05 & 6723244 &  0.07124842 & 9.432000e-01\\\\\n",
       "\\end{tabular}\n"
      ],
      "text/markdown": [
       "\n",
       "A summary_emm: 5 × 6\n",
       "\n",
       "| <!--/--> | outlet_category &lt;fct&gt; | relative_time.trend &lt;dbl&gt; | SE &lt;dbl&gt; | df &lt;dbl&gt; | t.ratio &lt;dbl&gt; | p.value &lt;dbl&gt; |\n",
       "|---|---|---|---|---|---|---|\n",
       "| 1 | left_center_media  |  5.380472e-05 | 1.601666e-05 | 6723244 |  3.35929713 | 7.814143e-04 |\n",
       "| 2 | left_media         | -1.015518e-04 | 5.455714e-05 | 6723244 | -1.86138405 | 6.269001e-02 |\n",
       "| 3 | mainstream         |  6.669572e-05 | 1.397661e-05 | 6723244 |  4.77195351 | 1.824514e-06 |\n",
       "| 4 | right_center_media |  7.914832e-05 | 2.300137e-05 | 6723244 |  3.44102690 | 5.795144e-04 |\n",
       "| 5 | right_media        |  5.595200e-06 | 7.853086e-05 | 6723244 |  0.07124842 | 9.432000e-01 |\n",
       "\n"
      ],
      "text/plain": [
       "  outlet_category    relative_time.trend SE           df      t.ratio    \n",
       "1 left_center_media   5.380472e-05       1.601666e-05 6723244  3.35929713\n",
       "2 left_media         -1.015518e-04       5.455714e-05 6723244 -1.86138405\n",
       "3 mainstream          6.669572e-05       1.397661e-05 6723244  4.77195351\n",
       "4 right_center_media  7.914832e-05       2.300137e-05 6723244  3.44102690\n",
       "5 right_media         5.595200e-06       7.853086e-05 6723244  0.07124842\n",
       "  p.value     \n",
       "1 7.814143e-04\n",
       "2 6.269001e-02\n",
       "3 1.824514e-06\n",
       "4 5.795144e-04\n",
       "5 9.432000e-01"
      ]
     },
     "metadata": {},
     "output_type": "display_data"
    }
   ],
   "source": [
    "result_table_model1$emtrends"
   ]
  },
  {
   "cell_type": "code",
   "execution_count": 132,
   "id": "f17e135a",
   "metadata": {},
   "outputs": [
    {
     "name": "stdout",
     "output_type": "stream",
     "text": [
      "% latex table generated in R 3.6.3 by xtable 1.8-4 package\n",
      "% Sat Jan 14 16:00:21 2023\n",
      "\\begin{table}[ht]\n",
      "\\centering\n",
      "\\begin{tabular}{lrrrr}\n",
      "  \\toprule\n",
      "outlet\\_category & relative\\_time.trend & SE & t.ratio & p.value \\\\ \n",
      "  \\midrule\n",
      "left\\_center\\_media & 5.38E-05 & 1.60E-05 & 3.36 & 0.001 \\\\ \n",
      "  left\\_media & -1.02E-04 & 5.46E-05 & -1.86 & 0.063 \\\\ \n",
      "  mainstream & 6.67E-05 & 1.40E-05 & 4.77 & 0.000 \\\\ \n",
      "  right\\_center\\_media & 7.91E-05 & 2.30E-05 & 3.44 & 0.001 \\\\ \n",
      "  right\\_media & 5.60E-06 & 7.85E-05 & 0.07 & 0.943 \\\\ \n",
      "   \\bottomrule\n",
      "\\end{tabular}\n",
      "\\end{table}\n"
     ]
    }
   ],
   "source": [
    "print(xtable((result_table_model1$emtrends)[,c(1,2,3,5,6)],digits=c(-5,-5,-2,-2,2,3)), include.rownames = F,booktabs=T)\n"
   ]
  },
  {
   "cell_type": "code",
   "execution_count": 157,
   "id": "cb6f9379",
   "metadata": {},
   "outputs": [],
   "source": [
    "emmeans_plot_1_table=as.data.table(result_table_model1$emtrends)\n",
    "emmeans_plot_1_table=emmeans_plot_1_table[c(2,1,3,4,5),]\n",
    "emmeans_plot_1_table$outlet_category=c('Left','Left-Center','Least-Biased', 'Right-Center','Right')\n",
    "emmeans_plot_1_table$relative_time.trend=emmeans_plot_1_table$relative_time.trend*12*100\n",
    "emmeans_plot_1_table$SE=emmeans_plot_1_table$SE*12*100\n",
    "emmeans_plot_1_table$relative_time.trend=round(emmeans_plot_1_table$relative_time.trend,4)\n"
   ]
  },
  {
   "cell_type": "code",
   "execution_count": 158,
   "id": "2547aef3",
   "metadata": {},
   "outputs": [
    {
     "name": "stdout",
     "output_type": "stream",
     "text": [
      "% latex table generated in R 3.6.3 by xtable 1.8-4 package\n",
      "% Sat Jan 14 16:11:20 2023\n",
      "\\begin{table}[ht]\n",
      "\\centering\n",
      "\\begin{tabular}{lrrrr}\n",
      "  \\toprule\n",
      "outlet\\_category & relative\\_time.trend & SE & t.ratio & p.value \\\\ \n",
      "  \\midrule\n",
      "Left & -0.12 & 0.07 & -1.86 & 0.063 \\\\ \n",
      "  Left-Center & 0.06 & 0.02 & 3.36 & 0.001 \\\\ \n",
      "  Least-Biased & 0.08 & 0.02 & 4.77 & 0.000 \\\\ \n",
      "  Right-Center & 0.10 & 0.03 & 3.44 & 0.001 \\\\ \n",
      "  Right & 0.01 & 0.09 & 0.07 & 0.943 \\\\ \n",
      "   \\bottomrule\n",
      "\\end{tabular}\n",
      "\\end{table}\n"
     ]
    }
   ],
   "source": [
    "print(xtable((emmeans_plot_1_table)[,c(1,2,3,5,6)],digits=c(-5,-2,2,2,2,3)), include.rownames = F,booktabs=T)\n"
   ]
  },
  {
   "cell_type": "code",
   "execution_count": 32,
   "id": "2cd3321d",
   "metadata": {},
   "outputs": [],
   "source": [
    "q2=resid(model1)"
   ]
  },
  {
   "cell_type": "code",
   "execution_count": 63,
   "id": "49ee7ad5",
   "metadata": {},
   "outputs": [],
   "source": [
    "df_shrunk_1 <- df_shrunk[df_shrunk$unprofessional_verb ==1]\n"
   ]
  },
  {
   "cell_type": "code",
   "execution_count": 28,
   "id": "8178bd47",
   "metadata": {},
   "outputs": [],
   "source": [
    "q1=predict(model1,df_shrunk)"
   ]
  },
  {
   "cell_type": "code",
   "execution_count": 39,
   "id": "7d0be94a",
   "metadata": {},
   "outputs": [
    {
     "data": {
      "text/html": [
       "<strong>11:</strong> 0.251754530810843"
      ],
      "text/latex": [
       "\\textbf{11:} 0.251754530810843"
      ],
      "text/markdown": [
       "**11:** 0.251754530810843"
      ],
      "text/plain": [
       "       11 \n",
       "0.2517545 "
      ]
     },
     "metadata": {},
     "output_type": "display_data"
    }
   ],
   "source": [
    "q1[11]"
   ]
  },
  {
   "cell_type": "code",
   "execution_count": 40,
   "id": "c1b8252d",
   "metadata": {
    "scrolled": true
   },
   "outputs": [
    {
     "data": {
      "text/html": [
       "<strong>11:</strong> -0.251754530815679"
      ],
      "text/latex": [
       "\\textbf{11:} -0.251754530815679"
      ],
      "text/markdown": [
       "**11:** -0.251754530815679"
      ],
      "text/plain": [
       "        11 \n",
       "-0.2517545 "
      ]
     },
     "metadata": {},
     "output_type": "display_data"
    }
   ],
   "source": [
    "q2[11]"
   ]
  },
  {
   "cell_type": "code",
   "execution_count": 65,
   "id": "3d183d83",
   "metadata": {},
   "outputs": [],
   "source": [
    "q1_1=predict(model1,df_shrunk_1)"
   ]
  },
  {
   "cell_type": "markdown",
   "id": "0d1b2e85",
   "metadata": {},
   "source": [
    "# Model 2 (Equation 2), investigate the effect of ideology: "
   ]
  },
  {
   "cell_type": "code",
   "execution_count": 133,
   "id": "1668600f",
   "metadata": {},
   "outputs": [],
   "source": [
    "model2=lm(unprofessional_verb ~ factor(outlet_category) + factor(party) + factor(outlet_category):factor(party), data = df_shrunk)"
   ]
  },
  {
   "cell_type": "code",
   "execution_count": 134,
   "id": "f96a0a0d",
   "metadata": {},
   "outputs": [],
   "source": [
    "cl_vcov_mat2 <- vcovCL(model2,cluster = factor(df_shrunk$domain))\n"
   ]
  },
  {
   "cell_type": "code",
   "execution_count": 135,
   "id": "4b560b1a",
   "metadata": {},
   "outputs": [
    {
     "data": {
      "text/html": [
       "<dl>\n",
       "\t<dt>$emmeans</dt>\n",
       "\t\t<dd><table class=\"dataframe\">\n",
       "<caption>A summary_emm: 10 × 7</caption>\n",
       "<thead>\n",
       "\t<tr><th></th><th scope=col>outlet_category</th><th scope=col>party</th><th scope=col>emmean</th><th scope=col>SE</th><th scope=col>df</th><th scope=col>t.ratio</th><th scope=col>p.value</th></tr>\n",
       "\t<tr><th></th><th scope=col>&lt;fct&gt;</th><th scope=col>&lt;fct&gt;</th><th scope=col>&lt;dbl&gt;</th><th scope=col>&lt;dbl&gt;</th><th scope=col>&lt;dbl&gt;</th><th scope=col>&lt;dbl&gt;</th><th scope=col>&lt;dbl&gt;</th></tr>\n",
       "</thead>\n",
       "<tbody>\n",
       "\t<tr><th scope=row>1</th><td>left_center_media </td><td>democratic</td><td>0.02781781</td><td>0.0008240137</td><td>6723245</td><td>33.758919</td><td>8.301337e-250</td></tr>\n",
       "\t<tr><th scope=row>2</th><td>left_media        </td><td>democratic</td><td>0.05577256</td><td>0.0075660401</td><td>6723245</td><td> 7.371434</td><td> 1.688216e-13</td></tr>\n",
       "\t<tr><th scope=row>3</th><td>mainstream        </td><td>democratic</td><td>0.02325576</td><td>0.0005561195</td><td>6723245</td><td>41.817924</td><td> 0.000000e+00</td></tr>\n",
       "\t<tr><th scope=row>4</th><td>right_center_media</td><td>democratic</td><td>0.02900067</td><td>0.0014781548</td><td>6723245</td><td>19.619506</td><td> 1.059574e-85</td></tr>\n",
       "\t<tr><th scope=row>5</th><td>right_media       </td><td>democratic</td><td>0.06723556</td><td>0.0064975440</td><td>6723245</td><td>10.347843</td><td> 4.282064e-25</td></tr>\n",
       "\t<tr><th scope=row>6</th><td>left_center_media </td><td>republican</td><td>0.03866974</td><td>0.0011038653</td><td>6723245</td><td>35.031212</td><td>7.970315e-269</td></tr>\n",
       "\t<tr><th scope=row>7</th><td>left_media        </td><td>republican</td><td>0.07466049</td><td>0.0094873609</td><td>6723245</td><td> 7.869469</td><td> 3.562033e-15</td></tr>\n",
       "\t<tr><th scope=row>8</th><td>mainstream        </td><td>republican</td><td>0.03208301</td><td>0.0007646488</td><td>6723245</td><td>41.957844</td><td> 0.000000e+00</td></tr>\n",
       "\t<tr><th scope=row>9</th><td>right_center_media</td><td>republican</td><td>0.03296821</td><td>0.0015627773</td><td>6723245</td><td>21.095910</td><td> 8.736488e-99</td></tr>\n",
       "\t<tr><th scope=row>10</th><td>right_media       </td><td>republican</td><td>0.04978373</td><td>0.0041860899</td><td>6723245</td><td>11.892656</td><td> 1.293287e-32</td></tr>\n",
       "</tbody>\n",
       "</table>\n",
       "</dd>\n",
       "\t<dt>$contrasts</dt>\n",
       "\t\t<dd><table class=\"dataframe\">\n",
       "<caption>A summary_emm: 45 × 6</caption>\n",
       "<thead>\n",
       "\t<tr><th></th><th scope=col>contrast</th><th scope=col>estimate</th><th scope=col>SE</th><th scope=col>df</th><th scope=col>t.ratio</th><th scope=col>p.value</th></tr>\n",
       "\t<tr><th></th><th scope=col>&lt;fct&gt;</th><th scope=col>&lt;dbl&gt;</th><th scope=col>&lt;dbl&gt;</th><th scope=col>&lt;dbl&gt;</th><th scope=col>&lt;dbl&gt;</th><th scope=col>&lt;dbl&gt;</th></tr>\n",
       "</thead>\n",
       "<tbody>\n",
       "\t<tr><th scope=row>1</th><td>left_center_media democratic - left_media democratic         </td><td>-0.027954752</td><td>0.0076107793</td><td>6723245</td><td> -3.6730472</td><td>9.067162e-03</td></tr>\n",
       "\t<tr><th scope=row>2</th><td>left_center_media democratic - mainstream democratic         </td><td> 0.004562049</td><td>0.0009941165</td><td>6723245</td><td>  4.5890490</td><td>1.918100e-04</td></tr>\n",
       "\t<tr><th scope=row>3</th><td>left_center_media democratic - right_center_media democratic </td><td>-0.001182853</td><td>0.0016923180</td><td>6723245</td><td> -0.6989544</td><td>9.995269e-01</td></tr>\n",
       "\t<tr><th scope=row>4</th><td>left_center_media democratic - right_media democratic        </td><td>-0.039417752</td><td>0.0065495860</td><td>6723245</td><td> -6.0183578</td><td>7.905362e-08</td></tr>\n",
       "\t<tr><th scope=row>5</th><td>left_center_media democratic - left_center_media republican  </td><td>-0.010851927</td><td>0.0008851599</td><td>6723245</td><td>-12.2598491</td><td>0.000000e+00</td></tr>\n",
       "\t<tr><th scope=row>6</th><td>left_center_media democratic - left_media republican         </td><td>-0.046842675</td><td>0.0095230781</td><td>6723245</td><td> -4.9188587</td><td>3.820821e-05</td></tr>\n",
       "\t<tr><th scope=row>7</th><td>left_center_media democratic - mainstream republican         </td><td>-0.004265202</td><td>0.0011241381</td><td>6723245</td><td> -3.7941973</td><td>5.756422e-03</td></tr>\n",
       "\t<tr><th scope=row>8</th><td>left_center_media democratic - right_center_media republican </td><td>-0.005150396</td><td>0.0017667120</td><td>6723245</td><td> -2.9152434</td><td>1.012456e-01</td></tr>\n",
       "\t<tr><th scope=row>9</th><td>left_center_media democratic - right_media republican        </td><td>-0.021965912</td><td>0.0042664209</td><td>6723245</td><td> -5.1485572</td><td>1.161890e-05</td></tr>\n",
       "\t<tr><th scope=row>10</th><td>left_media democratic - mainstream democratic                </td><td> 0.032516801</td><td>0.0075864506</td><td>6723245</td><td>  4.2861679</td><td>7.620566e-04</td></tr>\n",
       "\t<tr><th scope=row>11</th><td>left_media democratic - right_center_media democratic        </td><td> 0.026771899</td><td>0.0077090794</td><td>6723245</td><td>  3.4727751</td><td>1.846691e-02</td></tr>\n",
       "\t<tr><th scope=row>12</th><td>left_media democratic - right_media democratic               </td><td>-0.011463000</td><td>0.0099731159</td><td>6723245</td><td> -1.1493900</td><td>9.794691e-01</td></tr>\n",
       "\t<tr><th scope=row>13</th><td>left_media democratic - left_center_media republican         </td><td> 0.017102825</td><td>0.0076461416</td><td>6723245</td><td>  2.2367916</td><td>4.312549e-01</td></tr>\n",
       "\t<tr><th scope=row>14</th><td>left_media democratic - left_media republican                </td><td>-0.018887924</td><td>0.0037050089</td><td>6723245</td><td> -5.0979429</td><td>1.517406e-05</td></tr>\n",
       "\t<tr><th scope=row>15</th><td>left_media democratic - mainstream republican                </td><td> 0.023689550</td><td>0.0076045809</td><td>6723245</td><td>  3.1151684</td><td>5.778049e-02</td></tr>\n",
       "\t<tr><th scope=row>16</th><td>left_media democratic - right_center_media republican        </td><td> 0.022804356</td><td>0.0077257515</td><td>6723245</td><td>  2.9517331</td><td>9.178650e-02</td></tr>\n",
       "\t<tr><th scope=row>17</th><td>left_media democratic - right_media republican               </td><td> 0.005988840</td><td>0.0086468672</td><td>6723245</td><td>  0.6926023</td><td>9.995609e-01</td></tr>\n",
       "\t<tr><th scope=row>18</th><td>mainstream democratic - right_center_media democratic        </td><td>-0.005744902</td><td>0.0015793070</td><td>6723245</td><td> -3.6376097</td><td>1.032090e-02</td></tr>\n",
       "\t<tr><th scope=row>19</th><td>mainstream democratic - right_media democratic               </td><td>-0.043979801</td><td>0.0065212995</td><td>6723245</td><td> -6.7440241</td><td>6.929195e-10</td></tr>\n",
       "\t<tr><th scope=row>20</th><td>mainstream democratic - left_center_media republican         </td><td>-0.015413976</td><td>0.0012360370</td><td>6723245</td><td>-12.4704805</td><td>0.000000e+00</td></tr>\n",
       "\t<tr><th scope=row>21</th><td>mainstream democratic - left_media republican                </td><td>-0.051404725</td><td>0.0095036459</td><td>6723245</td><td> -5.4089478</td><td>2.824045e-06</td></tr>\n",
       "\t<tr><th scope=row>22</th><td>mainstream democratic - mainstream republican                </td><td>-0.008827251</td><td>0.0007767183</td><td>6723245</td><td>-11.3648030</td><td>0.000000e+00</td></tr>\n",
       "\t<tr><th scope=row>23</th><td>mainstream democratic - right_center_media republican        </td><td>-0.009712445</td><td>0.0016587772</td><td>6723245</td><td> -5.8551835</td><td>2.135260e-07</td></tr>\n",
       "\t<tr><th scope=row>24</th><td>mainstream democratic - right_media republican               </td><td>-0.026527961</td><td>0.0042228684</td><td>6723245</td><td> -6.2819768</td><td>1.501817e-08</td></tr>\n",
       "\t<tr><th scope=row>25</th><td>right_center_media democratic - right_media democratic       </td><td>-0.038234899</td><td>0.0066635591</td><td>6723245</td><td> -5.7379094</td><td>4.290563e-07</td></tr>\n",
       "\t<tr><th scope=row>26</th><td>right_center_media democratic - left_center_media republican </td><td>-0.009669073</td><td>0.0018448469</td><td>6723245</td><td> -5.2411250</td><td>7.082722e-06</td></tr>\n",
       "\t<tr><th scope=row>27</th><td>right_center_media democratic - left_media republican        </td><td>-0.045659822</td><td>0.0096018206</td><td>6723245</td><td> -4.7553297</td><td>8.625582e-05</td></tr>\n",
       "\t<tr><th scope=row>28</th><td>right_center_media democratic - mainstream republican        </td><td>-0.003082349</td><td>0.0016642203</td><td>6723245</td><td> -1.8521277</td><td>7.015309e-01</td></tr>\n",
       "\t<tr><th scope=row>29</th><td>right_center_media democratic - right_center_media republican</td><td>-0.003967543</td><td>0.0011070615</td><td>6723245</td><td> -3.5838501</td><td>1.252434e-02</td></tr>\n",
       "\t<tr><th scope=row>30</th><td>right_center_media democratic - right_media republican       </td><td>-0.020783059</td><td>0.0044394020</td><td>6723245</td><td> -4.6814996</td><td>1.234421e-04</td></tr>\n",
       "\t<tr><th scope=row>31</th><td>right_media democratic - left_center_media republican        </td><td> 0.028565825</td><td>0.0065906446</td><td>6723245</td><td>  4.3342991</td><td>6.161464e-04</td></tr>\n",
       "\t<tr><th scope=row>32</th><td>right_media democratic - left_media republican               </td><td>-0.007424924</td><td>0.0114990476</td><td>6723245</td><td> -0.6456990</td><td>9.997532e-01</td></tr>\n",
       "\t<tr><th scope=row>33</th><td>right_media democratic - mainstream republican               </td><td> 0.035152550</td><td>0.0065423823</td><td>6723245</td><td>  5.3730504</td><td>3.446077e-06</td></tr>\n",
       "\t<tr><th scope=row>34</th><td>right_media democratic - right_center_media republican       </td><td> 0.034267356</td><td>0.0066828400</td><td>6723245</td><td>  5.1276637</td><td>1.297660e-05</td></tr>\n",
       "\t<tr><th scope=row>35</th><td>right_media democratic - right_media republican              </td><td> 0.017451840</td><td>0.0042029167</td><td>6723245</td><td>  4.1523164</td><td>1.357694e-03</td></tr>\n",
       "\t<tr><th scope=row>36</th><td>left_center_media republican - left_media republican         </td><td>-0.035990749</td><td>0.0095513630</td><td>6723245</td><td> -3.7681270</td><td>6.357191e-03</td></tr>\n",
       "\t<tr><th scope=row>37</th><td>left_center_media republican - mainstream republican         </td><td> 0.006586725</td><td>0.0013428352</td><td>6723245</td><td>  4.9050880</td><td>4.096392e-05</td></tr>\n",
       "\t<tr><th scope=row>38</th><td>left_center_media republican - right_center_media republican </td><td> 0.005701531</td><td>0.0019133195</td><td>6723245</td><td>  2.9799157</td><td>8.497734e-02</td></tr>\n",
       "\t<tr><th scope=row>39</th><td>left_center_media republican - right_media republican        </td><td>-0.011113985</td><td>0.0043291878</td><td>6723245</td><td> -2.5672218</td><td>2.332861e-01</td></tr>\n",
       "\t<tr><th scope=row>40</th><td>left_media republican - mainstream republican                </td><td> 0.042577474</td><td>0.0095181251</td><td>6723245</td><td>  4.4733047</td><td>3.287902e-04</td></tr>\n",
       "\t<tr><th scope=row>41</th><td>left_media republican - right_center_media republican        </td><td> 0.041692280</td><td>0.0096152114</td><td>6723245</td><td>  4.3360752</td><td>6.113031e-04</td></tr>\n",
       "\t<tr><th scope=row>42</th><td>left_media republican - right_media republican               </td><td> 0.024876764</td><td>0.0103698296</td><td>6723245</td><td>  2.3989559</td><td>3.262158e-01</td></tr>\n",
       "\t<tr><th scope=row>43</th><td>mainstream republican - right_center_media republican        </td><td>-0.000885194</td><td>0.0017398163</td><td>6723245</td><td> -0.5087859</td><td>9.999668e-01</td></tr>\n",
       "\t<tr><th scope=row>44</th><td>mainstream republican - right_media republican               </td><td>-0.017700710</td><td>0.0042553538</td><td>6723245</td><td> -4.1596330</td><td>1.316185e-03</td></tr>\n",
       "\t<tr><th scope=row>45</th><td>right_center_media republican - right_media republican       </td><td>-0.016815516</td><td>0.0044682906</td><td>6723245</td><td> -3.7632996</td><td>6.474548e-03</td></tr>\n",
       "</tbody>\n",
       "</table>\n",
       "</dd>\n",
       "</dl>\n"
      ],
      "text/latex": [
       "\\begin{description}\n",
       "\\item[\\$emmeans] A summary\\_emm: 10 × 7\n",
       "\\begin{tabular}{r|lllllll}\n",
       "  & outlet\\_category & party & emmean & SE & df & t.ratio & p.value\\\\\n",
       "  & <fct> & <fct> & <dbl> & <dbl> & <dbl> & <dbl> & <dbl>\\\\\n",
       "\\hline\n",
       "\t1 & left\\_center\\_media  & democratic & 0.02781781 & 0.0008240137 & 6723245 & 33.758919 & 8.301337e-250\\\\\n",
       "\t2 & left\\_media         & democratic & 0.05577256 & 0.0075660401 & 6723245 &  7.371434 &  1.688216e-13\\\\\n",
       "\t3 & mainstream         & democratic & 0.02325576 & 0.0005561195 & 6723245 & 41.817924 &  0.000000e+00\\\\\n",
       "\t4 & right\\_center\\_media & democratic & 0.02900067 & 0.0014781548 & 6723245 & 19.619506 &  1.059574e-85\\\\\n",
       "\t5 & right\\_media        & democratic & 0.06723556 & 0.0064975440 & 6723245 & 10.347843 &  4.282064e-25\\\\\n",
       "\t6 & left\\_center\\_media  & republican & 0.03866974 & 0.0011038653 & 6723245 & 35.031212 & 7.970315e-269\\\\\n",
       "\t7 & left\\_media         & republican & 0.07466049 & 0.0094873609 & 6723245 &  7.869469 &  3.562033e-15\\\\\n",
       "\t8 & mainstream         & republican & 0.03208301 & 0.0007646488 & 6723245 & 41.957844 &  0.000000e+00\\\\\n",
       "\t9 & right\\_center\\_media & republican & 0.03296821 & 0.0015627773 & 6723245 & 21.095910 &  8.736488e-99\\\\\n",
       "\t10 & right\\_media        & republican & 0.04978373 & 0.0041860899 & 6723245 & 11.892656 &  1.293287e-32\\\\\n",
       "\\end{tabular}\n",
       "\n",
       "\\item[\\$contrasts] A summary\\_emm: 45 × 6\n",
       "\\begin{tabular}{r|llllll}\n",
       "  & contrast & estimate & SE & df & t.ratio & p.value\\\\\n",
       "  & <fct> & <dbl> & <dbl> & <dbl> & <dbl> & <dbl>\\\\\n",
       "\\hline\n",
       "\t1 & left\\_center\\_media democratic - left\\_media democratic          & -0.027954752 & 0.0076107793 & 6723245 &  -3.6730472 & 9.067162e-03\\\\\n",
       "\t2 & left\\_center\\_media democratic - mainstream democratic          &  0.004562049 & 0.0009941165 & 6723245 &   4.5890490 & 1.918100e-04\\\\\n",
       "\t3 & left\\_center\\_media democratic - right\\_center\\_media democratic  & -0.001182853 & 0.0016923180 & 6723245 &  -0.6989544 & 9.995269e-01\\\\\n",
       "\t4 & left\\_center\\_media democratic - right\\_media democratic         & -0.039417752 & 0.0065495860 & 6723245 &  -6.0183578 & 7.905362e-08\\\\\n",
       "\t5 & left\\_center\\_media democratic - left\\_center\\_media republican   & -0.010851927 & 0.0008851599 & 6723245 & -12.2598491 & 0.000000e+00\\\\\n",
       "\t6 & left\\_center\\_media democratic - left\\_media republican          & -0.046842675 & 0.0095230781 & 6723245 &  -4.9188587 & 3.820821e-05\\\\\n",
       "\t7 & left\\_center\\_media democratic - mainstream republican          & -0.004265202 & 0.0011241381 & 6723245 &  -3.7941973 & 5.756422e-03\\\\\n",
       "\t8 & left\\_center\\_media democratic - right\\_center\\_media republican  & -0.005150396 & 0.0017667120 & 6723245 &  -2.9152434 & 1.012456e-01\\\\\n",
       "\t9 & left\\_center\\_media democratic - right\\_media republican         & -0.021965912 & 0.0042664209 & 6723245 &  -5.1485572 & 1.161890e-05\\\\\n",
       "\t10 & left\\_media democratic - mainstream democratic                 &  0.032516801 & 0.0075864506 & 6723245 &   4.2861679 & 7.620566e-04\\\\\n",
       "\t11 & left\\_media democratic - right\\_center\\_media democratic         &  0.026771899 & 0.0077090794 & 6723245 &   3.4727751 & 1.846691e-02\\\\\n",
       "\t12 & left\\_media democratic - right\\_media democratic                & -0.011463000 & 0.0099731159 & 6723245 &  -1.1493900 & 9.794691e-01\\\\\n",
       "\t13 & left\\_media democratic - left\\_center\\_media republican          &  0.017102825 & 0.0076461416 & 6723245 &   2.2367916 & 4.312549e-01\\\\\n",
       "\t14 & left\\_media democratic - left\\_media republican                 & -0.018887924 & 0.0037050089 & 6723245 &  -5.0979429 & 1.517406e-05\\\\\n",
       "\t15 & left\\_media democratic - mainstream republican                 &  0.023689550 & 0.0076045809 & 6723245 &   3.1151684 & 5.778049e-02\\\\\n",
       "\t16 & left\\_media democratic - right\\_center\\_media republican         &  0.022804356 & 0.0077257515 & 6723245 &   2.9517331 & 9.178650e-02\\\\\n",
       "\t17 & left\\_media democratic - right\\_media republican                &  0.005988840 & 0.0086468672 & 6723245 &   0.6926023 & 9.995609e-01\\\\\n",
       "\t18 & mainstream democratic - right\\_center\\_media democratic         & -0.005744902 & 0.0015793070 & 6723245 &  -3.6376097 & 1.032090e-02\\\\\n",
       "\t19 & mainstream democratic - right\\_media democratic                & -0.043979801 & 0.0065212995 & 6723245 &  -6.7440241 & 6.929195e-10\\\\\n",
       "\t20 & mainstream democratic - left\\_center\\_media republican          & -0.015413976 & 0.0012360370 & 6723245 & -12.4704805 & 0.000000e+00\\\\\n",
       "\t21 & mainstream democratic - left\\_media republican                 & -0.051404725 & 0.0095036459 & 6723245 &  -5.4089478 & 2.824045e-06\\\\\n",
       "\t22 & mainstream democratic - mainstream republican                 & -0.008827251 & 0.0007767183 & 6723245 & -11.3648030 & 0.000000e+00\\\\\n",
       "\t23 & mainstream democratic - right\\_center\\_media republican         & -0.009712445 & 0.0016587772 & 6723245 &  -5.8551835 & 2.135260e-07\\\\\n",
       "\t24 & mainstream democratic - right\\_media republican                & -0.026527961 & 0.0042228684 & 6723245 &  -6.2819768 & 1.501817e-08\\\\\n",
       "\t25 & right\\_center\\_media democratic - right\\_media democratic        & -0.038234899 & 0.0066635591 & 6723245 &  -5.7379094 & 4.290563e-07\\\\\n",
       "\t26 & right\\_center\\_media democratic - left\\_center\\_media republican  & -0.009669073 & 0.0018448469 & 6723245 &  -5.2411250 & 7.082722e-06\\\\\n",
       "\t27 & right\\_center\\_media democratic - left\\_media republican         & -0.045659822 & 0.0096018206 & 6723245 &  -4.7553297 & 8.625582e-05\\\\\n",
       "\t28 & right\\_center\\_media democratic - mainstream republican         & -0.003082349 & 0.0016642203 & 6723245 &  -1.8521277 & 7.015309e-01\\\\\n",
       "\t29 & right\\_center\\_media democratic - right\\_center\\_media republican & -0.003967543 & 0.0011070615 & 6723245 &  -3.5838501 & 1.252434e-02\\\\\n",
       "\t30 & right\\_center\\_media democratic - right\\_media republican        & -0.020783059 & 0.0044394020 & 6723245 &  -4.6814996 & 1.234421e-04\\\\\n",
       "\t31 & right\\_media democratic - left\\_center\\_media republican         &  0.028565825 & 0.0065906446 & 6723245 &   4.3342991 & 6.161464e-04\\\\\n",
       "\t32 & right\\_media democratic - left\\_media republican                & -0.007424924 & 0.0114990476 & 6723245 &  -0.6456990 & 9.997532e-01\\\\\n",
       "\t33 & right\\_media democratic - mainstream republican                &  0.035152550 & 0.0065423823 & 6723245 &   5.3730504 & 3.446077e-06\\\\\n",
       "\t34 & right\\_media democratic - right\\_center\\_media republican        &  0.034267356 & 0.0066828400 & 6723245 &   5.1276637 & 1.297660e-05\\\\\n",
       "\t35 & right\\_media democratic - right\\_media republican               &  0.017451840 & 0.0042029167 & 6723245 &   4.1523164 & 1.357694e-03\\\\\n",
       "\t36 & left\\_center\\_media republican - left\\_media republican          & -0.035990749 & 0.0095513630 & 6723245 &  -3.7681270 & 6.357191e-03\\\\\n",
       "\t37 & left\\_center\\_media republican - mainstream republican          &  0.006586725 & 0.0013428352 & 6723245 &   4.9050880 & 4.096392e-05\\\\\n",
       "\t38 & left\\_center\\_media republican - right\\_center\\_media republican  &  0.005701531 & 0.0019133195 & 6723245 &   2.9799157 & 8.497734e-02\\\\\n",
       "\t39 & left\\_center\\_media republican - right\\_media republican         & -0.011113985 & 0.0043291878 & 6723245 &  -2.5672218 & 2.332861e-01\\\\\n",
       "\t40 & left\\_media republican - mainstream republican                 &  0.042577474 & 0.0095181251 & 6723245 &   4.4733047 & 3.287902e-04\\\\\n",
       "\t41 & left\\_media republican - right\\_center\\_media republican         &  0.041692280 & 0.0096152114 & 6723245 &   4.3360752 & 6.113031e-04\\\\\n",
       "\t42 & left\\_media republican - right\\_media republican                &  0.024876764 & 0.0103698296 & 6723245 &   2.3989559 & 3.262158e-01\\\\\n",
       "\t43 & mainstream republican - right\\_center\\_media republican         & -0.000885194 & 0.0017398163 & 6723245 &  -0.5087859 & 9.999668e-01\\\\\n",
       "\t44 & mainstream republican - right\\_media republican                & -0.017700710 & 0.0042553538 & 6723245 &  -4.1596330 & 1.316185e-03\\\\\n",
       "\t45 & right\\_center\\_media republican - right\\_media republican        & -0.016815516 & 0.0044682906 & 6723245 &  -3.7632996 & 6.474548e-03\\\\\n",
       "\\end{tabular}\n",
       "\n",
       "\\end{description}\n"
      ],
      "text/markdown": [
       "$emmeans\n",
       ":   \n",
       "A summary_emm: 10 × 7\n",
       "\n",
       "| <!--/--> | outlet_category &lt;fct&gt; | party &lt;fct&gt; | emmean &lt;dbl&gt; | SE &lt;dbl&gt; | df &lt;dbl&gt; | t.ratio &lt;dbl&gt; | p.value &lt;dbl&gt; |\n",
       "|---|---|---|---|---|---|---|---|\n",
       "| 1 | left_center_media  | democratic | 0.02781781 | 0.0008240137 | 6723245 | 33.758919 | 8.301337e-250 |\n",
       "| 2 | left_media         | democratic | 0.05577256 | 0.0075660401 | 6723245 |  7.371434 |  1.688216e-13 |\n",
       "| 3 | mainstream         | democratic | 0.02325576 | 0.0005561195 | 6723245 | 41.817924 |  0.000000e+00 |\n",
       "| 4 | right_center_media | democratic | 0.02900067 | 0.0014781548 | 6723245 | 19.619506 |  1.059574e-85 |\n",
       "| 5 | right_media        | democratic | 0.06723556 | 0.0064975440 | 6723245 | 10.347843 |  4.282064e-25 |\n",
       "| 6 | left_center_media  | republican | 0.03866974 | 0.0011038653 | 6723245 | 35.031212 | 7.970315e-269 |\n",
       "| 7 | left_media         | republican | 0.07466049 | 0.0094873609 | 6723245 |  7.869469 |  3.562033e-15 |\n",
       "| 8 | mainstream         | republican | 0.03208301 | 0.0007646488 | 6723245 | 41.957844 |  0.000000e+00 |\n",
       "| 9 | right_center_media | republican | 0.03296821 | 0.0015627773 | 6723245 | 21.095910 |  8.736488e-99 |\n",
       "| 10 | right_media        | republican | 0.04978373 | 0.0041860899 | 6723245 | 11.892656 |  1.293287e-32 |\n",
       "\n",
       "\n",
       "$contrasts\n",
       ":   \n",
       "A summary_emm: 45 × 6\n",
       "\n",
       "| <!--/--> | contrast &lt;fct&gt; | estimate &lt;dbl&gt; | SE &lt;dbl&gt; | df &lt;dbl&gt; | t.ratio &lt;dbl&gt; | p.value &lt;dbl&gt; |\n",
       "|---|---|---|---|---|---|---|\n",
       "| 1 | left_center_media democratic - left_media democratic          | -0.027954752 | 0.0076107793 | 6723245 |  -3.6730472 | 9.067162e-03 |\n",
       "| 2 | left_center_media democratic - mainstream democratic          |  0.004562049 | 0.0009941165 | 6723245 |   4.5890490 | 1.918100e-04 |\n",
       "| 3 | left_center_media democratic - right_center_media democratic  | -0.001182853 | 0.0016923180 | 6723245 |  -0.6989544 | 9.995269e-01 |\n",
       "| 4 | left_center_media democratic - right_media democratic         | -0.039417752 | 0.0065495860 | 6723245 |  -6.0183578 | 7.905362e-08 |\n",
       "| 5 | left_center_media democratic - left_center_media republican   | -0.010851927 | 0.0008851599 | 6723245 | -12.2598491 | 0.000000e+00 |\n",
       "| 6 | left_center_media democratic - left_media republican          | -0.046842675 | 0.0095230781 | 6723245 |  -4.9188587 | 3.820821e-05 |\n",
       "| 7 | left_center_media democratic - mainstream republican          | -0.004265202 | 0.0011241381 | 6723245 |  -3.7941973 | 5.756422e-03 |\n",
       "| 8 | left_center_media democratic - right_center_media republican  | -0.005150396 | 0.0017667120 | 6723245 |  -2.9152434 | 1.012456e-01 |\n",
       "| 9 | left_center_media democratic - right_media republican         | -0.021965912 | 0.0042664209 | 6723245 |  -5.1485572 | 1.161890e-05 |\n",
       "| 10 | left_media democratic - mainstream democratic                 |  0.032516801 | 0.0075864506 | 6723245 |   4.2861679 | 7.620566e-04 |\n",
       "| 11 | left_media democratic - right_center_media democratic         |  0.026771899 | 0.0077090794 | 6723245 |   3.4727751 | 1.846691e-02 |\n",
       "| 12 | left_media democratic - right_media democratic                | -0.011463000 | 0.0099731159 | 6723245 |  -1.1493900 | 9.794691e-01 |\n",
       "| 13 | left_media democratic - left_center_media republican          |  0.017102825 | 0.0076461416 | 6723245 |   2.2367916 | 4.312549e-01 |\n",
       "| 14 | left_media democratic - left_media republican                 | -0.018887924 | 0.0037050089 | 6723245 |  -5.0979429 | 1.517406e-05 |\n",
       "| 15 | left_media democratic - mainstream republican                 |  0.023689550 | 0.0076045809 | 6723245 |   3.1151684 | 5.778049e-02 |\n",
       "| 16 | left_media democratic - right_center_media republican         |  0.022804356 | 0.0077257515 | 6723245 |   2.9517331 | 9.178650e-02 |\n",
       "| 17 | left_media democratic - right_media republican                |  0.005988840 | 0.0086468672 | 6723245 |   0.6926023 | 9.995609e-01 |\n",
       "| 18 | mainstream democratic - right_center_media democratic         | -0.005744902 | 0.0015793070 | 6723245 |  -3.6376097 | 1.032090e-02 |\n",
       "| 19 | mainstream democratic - right_media democratic                | -0.043979801 | 0.0065212995 | 6723245 |  -6.7440241 | 6.929195e-10 |\n",
       "| 20 | mainstream democratic - left_center_media republican          | -0.015413976 | 0.0012360370 | 6723245 | -12.4704805 | 0.000000e+00 |\n",
       "| 21 | mainstream democratic - left_media republican                 | -0.051404725 | 0.0095036459 | 6723245 |  -5.4089478 | 2.824045e-06 |\n",
       "| 22 | mainstream democratic - mainstream republican                 | -0.008827251 | 0.0007767183 | 6723245 | -11.3648030 | 0.000000e+00 |\n",
       "| 23 | mainstream democratic - right_center_media republican         | -0.009712445 | 0.0016587772 | 6723245 |  -5.8551835 | 2.135260e-07 |\n",
       "| 24 | mainstream democratic - right_media republican                | -0.026527961 | 0.0042228684 | 6723245 |  -6.2819768 | 1.501817e-08 |\n",
       "| 25 | right_center_media democratic - right_media democratic        | -0.038234899 | 0.0066635591 | 6723245 |  -5.7379094 | 4.290563e-07 |\n",
       "| 26 | right_center_media democratic - left_center_media republican  | -0.009669073 | 0.0018448469 | 6723245 |  -5.2411250 | 7.082722e-06 |\n",
       "| 27 | right_center_media democratic - left_media republican         | -0.045659822 | 0.0096018206 | 6723245 |  -4.7553297 | 8.625582e-05 |\n",
       "| 28 | right_center_media democratic - mainstream republican         | -0.003082349 | 0.0016642203 | 6723245 |  -1.8521277 | 7.015309e-01 |\n",
       "| 29 | right_center_media democratic - right_center_media republican | -0.003967543 | 0.0011070615 | 6723245 |  -3.5838501 | 1.252434e-02 |\n",
       "| 30 | right_center_media democratic - right_media republican        | -0.020783059 | 0.0044394020 | 6723245 |  -4.6814996 | 1.234421e-04 |\n",
       "| 31 | right_media democratic - left_center_media republican         |  0.028565825 | 0.0065906446 | 6723245 |   4.3342991 | 6.161464e-04 |\n",
       "| 32 | right_media democratic - left_media republican                | -0.007424924 | 0.0114990476 | 6723245 |  -0.6456990 | 9.997532e-01 |\n",
       "| 33 | right_media democratic - mainstream republican                |  0.035152550 | 0.0065423823 | 6723245 |   5.3730504 | 3.446077e-06 |\n",
       "| 34 | right_media democratic - right_center_media republican        |  0.034267356 | 0.0066828400 | 6723245 |   5.1276637 | 1.297660e-05 |\n",
       "| 35 | right_media democratic - right_media republican               |  0.017451840 | 0.0042029167 | 6723245 |   4.1523164 | 1.357694e-03 |\n",
       "| 36 | left_center_media republican - left_media republican          | -0.035990749 | 0.0095513630 | 6723245 |  -3.7681270 | 6.357191e-03 |\n",
       "| 37 | left_center_media republican - mainstream republican          |  0.006586725 | 0.0013428352 | 6723245 |   4.9050880 | 4.096392e-05 |\n",
       "| 38 | left_center_media republican - right_center_media republican  |  0.005701531 | 0.0019133195 | 6723245 |   2.9799157 | 8.497734e-02 |\n",
       "| 39 | left_center_media republican - right_media republican         | -0.011113985 | 0.0043291878 | 6723245 |  -2.5672218 | 2.332861e-01 |\n",
       "| 40 | left_media republican - mainstream republican                 |  0.042577474 | 0.0095181251 | 6723245 |   4.4733047 | 3.287902e-04 |\n",
       "| 41 | left_media republican - right_center_media republican         |  0.041692280 | 0.0096152114 | 6723245 |   4.3360752 | 6.113031e-04 |\n",
       "| 42 | left_media republican - right_media republican                |  0.024876764 | 0.0103698296 | 6723245 |   2.3989559 | 3.262158e-01 |\n",
       "| 43 | mainstream republican - right_center_media republican         | -0.000885194 | 0.0017398163 | 6723245 |  -0.5087859 | 9.999668e-01 |\n",
       "| 44 | mainstream republican - right_media republican                | -0.017700710 | 0.0042553538 | 6723245 |  -4.1596330 | 1.316185e-03 |\n",
       "| 45 | right_center_media republican - right_media republican        | -0.016815516 | 0.0044682906 | 6723245 |  -3.7632996 | 6.474548e-03 |\n",
       "\n",
       "\n",
       "\n",
       "\n"
      ],
      "text/plain": [
       "$emmeans\n",
       " outlet_category    party      emmean       SE      df t.ratio p.value\n",
       " left_center_media  democratic 0.0278 0.000824 6723245  33.759  <.0001\n",
       " left_media         democratic 0.0558 0.007566 6723245   7.371  <.0001\n",
       " mainstream         democratic 0.0233 0.000556 6723245  41.818  <.0001\n",
       " right_center_media democratic 0.0290 0.001478 6723245  19.620  <.0001\n",
       " right_media        democratic 0.0672 0.006498 6723245  10.348  <.0001\n",
       " left_center_media  republican 0.0387 0.001104 6723245  35.031  <.0001\n",
       " left_media         republican 0.0747 0.009487 6723245   7.869  <.0001\n",
       " mainstream         republican 0.0321 0.000765 6723245  41.958  <.0001\n",
       " right_center_media republican 0.0330 0.001563 6723245  21.096  <.0001\n",
       " right_media        republican 0.0498 0.004186 6723245  11.893  <.0001\n",
       "\n",
       "\n",
       "$contrasts\n",
       " contrast                                                       estimate\n",
       " left_center_media democratic - left_media democratic          -0.027955\n",
       " left_center_media democratic - mainstream democratic           0.004562\n",
       " left_center_media democratic - right_center_media democratic  -0.001183\n",
       " left_center_media democratic - right_media democratic         -0.039418\n",
       " left_center_media democratic - left_center_media republican   -0.010852\n",
       " left_center_media democratic - left_media republican          -0.046843\n",
       " left_center_media democratic - mainstream republican          -0.004265\n",
       " left_center_media democratic - right_center_media republican  -0.005150\n",
       " left_center_media democratic - right_media republican         -0.021966\n",
       " left_media democratic - mainstream democratic                  0.032517\n",
       " left_media democratic - right_center_media democratic          0.026772\n",
       " left_media democratic - right_media democratic                -0.011463\n",
       " left_media democratic - left_center_media republican           0.017103\n",
       " left_media democratic - left_media republican                 -0.018888\n",
       " left_media democratic - mainstream republican                  0.023690\n",
       " left_media democratic - right_center_media republican          0.022804\n",
       " left_media democratic - right_media republican                 0.005989\n",
       " mainstream democratic - right_center_media democratic         -0.005745\n",
       " mainstream democratic - right_media democratic                -0.043980\n",
       " mainstream democratic - left_center_media republican          -0.015414\n",
       " mainstream democratic - left_media republican                 -0.051405\n",
       " mainstream democratic - mainstream republican                 -0.008827\n",
       " mainstream democratic - right_center_media republican         -0.009712\n",
       " mainstream democratic - right_media republican                -0.026528\n",
       " right_center_media democratic - right_media democratic        -0.038235\n",
       " right_center_media democratic - left_center_media republican  -0.009669\n",
       " right_center_media democratic - left_media republican         -0.045660\n",
       " right_center_media democratic - mainstream republican         -0.003082\n",
       " right_center_media democratic - right_center_media republican -0.003968\n",
       " right_center_media democratic - right_media republican        -0.020783\n",
       " right_media democratic - left_center_media republican          0.028566\n",
       " right_media democratic - left_media republican                -0.007425\n",
       " right_media democratic - mainstream republican                 0.035153\n",
       " right_media democratic - right_center_media republican         0.034267\n",
       " right_media democratic - right_media republican                0.017452\n",
       " left_center_media republican - left_media republican          -0.035991\n",
       " left_center_media republican - mainstream republican           0.006587\n",
       " left_center_media republican - right_center_media republican   0.005702\n",
       " left_center_media republican - right_media republican         -0.011114\n",
       " left_media republican - mainstream republican                  0.042577\n",
       " left_media republican - right_center_media republican          0.041692\n",
       " left_media republican - right_media republican                 0.024877\n",
       " mainstream republican - right_center_media republican         -0.000885\n",
       " mainstream republican - right_media republican                -0.017701\n",
       " right_center_media republican - right_media republican        -0.016816\n",
       "       SE      df t.ratio p.value\n",
       " 0.007611 6723245  -3.673  0.0091\n",
       " 0.000994 6723245   4.589  0.0002\n",
       " 0.001692 6723245  -0.699  0.9995\n",
       " 0.006550 6723245  -6.018  <.0001\n",
       " 0.000885 6723245 -12.260  <.0001\n",
       " 0.009523 6723245  -4.919  <.0001\n",
       " 0.001124 6723245  -3.794  0.0058\n",
       " 0.001767 6723245  -2.915  0.1012\n",
       " 0.004266 6723245  -5.149  <.0001\n",
       " 0.007586 6723245   4.286  0.0008\n",
       " 0.007709 6723245   3.473  0.0185\n",
       " 0.009973 6723245  -1.149  0.9795\n",
       " 0.007646 6723245   2.237  0.4313\n",
       " 0.003705 6723245  -5.098  <.0001\n",
       " 0.007605 6723245   3.115  0.0578\n",
       " 0.007726 6723245   2.952  0.0918\n",
       " 0.008647 6723245   0.693  0.9996\n",
       " 0.001579 6723245  -3.638  0.0103\n",
       " 0.006521 6723245  -6.744  <.0001\n",
       " 0.001236 6723245 -12.470  <.0001\n",
       " 0.009504 6723245  -5.409  <.0001\n",
       " 0.000777 6723245 -11.365  <.0001\n",
       " 0.001659 6723245  -5.855  <.0001\n",
       " 0.004223 6723245  -6.282  <.0001\n",
       " 0.006664 6723245  -5.738  <.0001\n",
       " 0.001845 6723245  -5.241  <.0001\n",
       " 0.009602 6723245  -4.755  0.0001\n",
       " 0.001664 6723245  -1.852  0.7015\n",
       " 0.001107 6723245  -3.584  0.0125\n",
       " 0.004439 6723245  -4.681  0.0001\n",
       " 0.006591 6723245   4.334  0.0006\n",
       " 0.011499 6723245  -0.646  0.9998\n",
       " 0.006542 6723245   5.373  <.0001\n",
       " 0.006683 6723245   5.128  <.0001\n",
       " 0.004203 6723245   4.152  0.0014\n",
       " 0.009551 6723245  -3.768  0.0064\n",
       " 0.001343 6723245   4.905  <.0001\n",
       " 0.001913 6723245   2.980  0.0850\n",
       " 0.004329 6723245  -2.567  0.2333\n",
       " 0.009518 6723245   4.473  0.0003\n",
       " 0.009615 6723245   4.336  0.0006\n",
       " 0.010370 6723245   2.399  0.3262\n",
       " 0.001740 6723245  -0.509  1.0000\n",
       " 0.004255 6723245  -4.160  0.0013\n",
       " 0.004468 6723245  -3.763  0.0065\n",
       "\n",
       "P value adjustment: tukey method for comparing a family of 10 estimates \n"
      ]
     },
     "metadata": {},
     "output_type": "display_data"
    }
   ],
   "source": [
    "test(emmeans(model2, specs = pairwise ~ outlet_category:party,vcov = as.matrix(cl_vcov_mat2)))"
   ]
  },
  {
   "cell_type": "code",
   "execution_count": 136,
   "id": "35b4861b",
   "metadata": {},
   "outputs": [
    {
     "data": {
      "text/plain": [
       "\n",
       "Call:\n",
       "lm(formula = unprofessional_verb ~ factor(outlet_category) + \n",
       "    factor(party) + factor(outlet_category):factor(party), data = df_shrunk)\n",
       "\n",
       "Residuals:\n",
       "     Min       1Q   Median       3Q      Max \n",
       "-0.07466 -0.03867 -0.03208 -0.02782  0.97674 \n",
       "\n",
       "Coefficients:\n",
       "                                                                    Estimate\n",
       "(Intercept)                                                        0.0278178\n",
       "factor(outlet_category)left_media                                  0.0279548\n",
       "factor(outlet_category)mainstream                                 -0.0045620\n",
       "factor(outlet_category)right_center_media                          0.0011829\n",
       "factor(outlet_category)right_media                                 0.0394178\n",
       "factor(party)republican                                            0.0108519\n",
       "factor(outlet_category)left_media:factor(party)republican          0.0080360\n",
       "factor(outlet_category)mainstream:factor(party)republican         -0.0020247\n",
       "factor(outlet_category)right_center_media:factor(party)republican -0.0068844\n",
       "factor(outlet_category)right_media:factor(party)republican        -0.0283038\n",
       "                                                                  Std. Error\n",
       "(Intercept)                                                        0.0001751\n",
       "factor(outlet_category)left_media                                  0.0004616\n",
       "factor(outlet_category)mainstream                                  0.0002612\n",
       "factor(outlet_category)right_center_media                          0.0003409\n",
       "factor(outlet_category)right_media                                 0.0003848\n",
       "factor(party)republican                                            0.0002392\n",
       "factor(outlet_category)left_media:factor(party)republican          0.0006093\n",
       "factor(outlet_category)mainstream:factor(party)republican          0.0003524\n",
       "factor(outlet_category)right_center_media:factor(party)republican  0.0004565\n",
       "factor(outlet_category)right_media:factor(party)republican         0.0005011\n",
       "                                                                  t value\n",
       "(Intercept)                                                       158.868\n",
       "factor(outlet_category)left_media                                  60.561\n",
       "factor(outlet_category)mainstream                                 -17.467\n",
       "factor(outlet_category)right_center_media                           3.470\n",
       "factor(outlet_category)right_media                                102.425\n",
       "factor(party)republican                                            45.366\n",
       "factor(outlet_category)left_media:factor(party)republican          13.189\n",
       "factor(outlet_category)mainstream:factor(party)republican          -5.745\n",
       "factor(outlet_category)right_center_media:factor(party)republican -15.082\n",
       "factor(outlet_category)right_media:factor(party)republican        -56.484\n",
       "                                                                  Pr(>|t|)    \n",
       "(Intercept)                                                        < 2e-16 ***\n",
       "factor(outlet_category)left_media                                  < 2e-16 ***\n",
       "factor(outlet_category)mainstream                                  < 2e-16 ***\n",
       "factor(outlet_category)right_center_media                         0.000521 ***\n",
       "factor(outlet_category)right_media                                 < 2e-16 ***\n",
       "factor(party)republican                                            < 2e-16 ***\n",
       "factor(outlet_category)left_media:factor(party)republican          < 2e-16 ***\n",
       "factor(outlet_category)mainstream:factor(party)republican         9.21e-09 ***\n",
       "factor(outlet_category)right_center_media:factor(party)republican  < 2e-16 ***\n",
       "factor(outlet_category)right_media:factor(party)republican         < 2e-16 ***\n",
       "---\n",
       "Signif. codes:  0 '***' 0.001 '**' 0.01 '*' 0.05 '.' 0.1 ' ' 1\n",
       "\n",
       "Residual standard error: 0.1869 on 6723245 degrees of freedom\n",
       "Multiple R-squared:  0.004777,\tAdjusted R-squared:  0.004776 \n",
       "F-statistic:  3586 on 9 and 6723245 DF,  p-value: < 2.2e-16\n"
      ]
     },
     "metadata": {},
     "output_type": "display_data"
    }
   ],
   "source": [
    "summary(model2)"
   ]
  },
  {
   "cell_type": "code",
   "execution_count": 159,
   "id": "683ced2d",
   "metadata": {},
   "outputs": [],
   "source": [
    "emmeans_plot_2=test(emmeans(model2, specs = pairwise ~ outlet_category:party,vcov = as.matrix(cl_vcov_mat2)))"
   ]
  },
  {
   "cell_type": "code",
   "execution_count": 160,
   "id": "123188e8",
   "metadata": {},
   "outputs": [],
   "source": [
    "emmeans_plot_2_table=as.data.table(emmeans_plot_2$contrasts)\n",
    "emmeans_plot_2_table=emmeans_plot_2_table[c(14,5,22,29,35),]\n",
    "emmeans_plot_2_table$contrast=c('Left','Left-Center','Least-Biased','Right-Center','Right')\n",
    "emmeans_plot_2_table$estimate=emmeans_plot_2_table$estimate*100\n",
    "emmeans_plot_2_table$SE=emmeans_plot_2_table$SE*100\n",
    "emmeans_plot_2_table$estimate=round(emmeans_plot_2_table$estimate,4)"
   ]
  },
  {
   "cell_type": "code",
   "execution_count": 161,
   "id": "ad712235",
   "metadata": {},
   "outputs": [
    {
     "data": {
      "text/html": [
       "<table class=\"dataframe\">\n",
       "<caption>A data.table: 5 × 6</caption>\n",
       "<thead>\n",
       "\t<tr><th scope=col>contrast</th><th scope=col>estimate</th><th scope=col>SE</th><th scope=col>df</th><th scope=col>t.ratio</th><th scope=col>p.value</th></tr>\n",
       "\t<tr><th scope=col>&lt;chr&gt;</th><th scope=col>&lt;dbl&gt;</th><th scope=col>&lt;dbl&gt;</th><th scope=col>&lt;dbl&gt;</th><th scope=col>&lt;dbl&gt;</th><th scope=col>&lt;dbl&gt;</th></tr>\n",
       "</thead>\n",
       "<tbody>\n",
       "\t<tr><td>Left        </td><td>-1.8888</td><td>0.37050089</td><td>6723245</td><td> -5.097943</td><td>1.517406e-05</td></tr>\n",
       "\t<tr><td>Left-Center </td><td>-1.0852</td><td>0.08851599</td><td>6723245</td><td>-12.259849</td><td>0.000000e+00</td></tr>\n",
       "\t<tr><td>Least-Biased</td><td>-0.8827</td><td>0.07767183</td><td>6723245</td><td>-11.364803</td><td>0.000000e+00</td></tr>\n",
       "\t<tr><td>Right-Center</td><td>-0.3968</td><td>0.11070615</td><td>6723245</td><td> -3.583850</td><td>1.252434e-02</td></tr>\n",
       "\t<tr><td>Right       </td><td> 1.7452</td><td>0.42029167</td><td>6723245</td><td>  4.152316</td><td>1.357694e-03</td></tr>\n",
       "</tbody>\n",
       "</table>\n"
      ],
      "text/latex": [
       "A data.table: 5 × 6\n",
       "\\begin{tabular}{llllll}\n",
       " contrast & estimate & SE & df & t.ratio & p.value\\\\\n",
       " <chr> & <dbl> & <dbl> & <dbl> & <dbl> & <dbl>\\\\\n",
       "\\hline\n",
       "\t Left         & -1.8888 & 0.37050089 & 6723245 &  -5.097943 & 1.517406e-05\\\\\n",
       "\t Left-Center  & -1.0852 & 0.08851599 & 6723245 & -12.259849 & 0.000000e+00\\\\\n",
       "\t Least-Biased & -0.8827 & 0.07767183 & 6723245 & -11.364803 & 0.000000e+00\\\\\n",
       "\t Right-Center & -0.3968 & 0.11070615 & 6723245 &  -3.583850 & 1.252434e-02\\\\\n",
       "\t Right        &  1.7452 & 0.42029167 & 6723245 &   4.152316 & 1.357694e-03\\\\\n",
       "\\end{tabular}\n"
      ],
      "text/markdown": [
       "\n",
       "A data.table: 5 × 6\n",
       "\n",
       "| contrast &lt;chr&gt; | estimate &lt;dbl&gt; | SE &lt;dbl&gt; | df &lt;dbl&gt; | t.ratio &lt;dbl&gt; | p.value &lt;dbl&gt; |\n",
       "|---|---|---|---|---|---|\n",
       "| Left         | -1.8888 | 0.37050089 | 6723245 |  -5.097943 | 1.517406e-05 |\n",
       "| Left-Center  | -1.0852 | 0.08851599 | 6723245 | -12.259849 | 0.000000e+00 |\n",
       "| Least-Biased | -0.8827 | 0.07767183 | 6723245 | -11.364803 | 0.000000e+00 |\n",
       "| Right-Center | -0.3968 | 0.11070615 | 6723245 |  -3.583850 | 1.252434e-02 |\n",
       "| Right        |  1.7452 | 0.42029167 | 6723245 |   4.152316 | 1.357694e-03 |\n",
       "\n"
      ],
      "text/plain": [
       "  contrast     estimate SE         df      t.ratio    p.value     \n",
       "1 Left         -1.8888  0.37050089 6723245  -5.097943 1.517406e-05\n",
       "2 Left-Center  -1.0852  0.08851599 6723245 -12.259849 0.000000e+00\n",
       "3 Least-Biased -0.8827  0.07767183 6723245 -11.364803 0.000000e+00\n",
       "4 Right-Center -0.3968  0.11070615 6723245  -3.583850 1.252434e-02\n",
       "5 Right         1.7452  0.42029167 6723245   4.152316 1.357694e-03"
      ]
     },
     "metadata": {},
     "output_type": "display_data"
    }
   ],
   "source": [
    "emmeans_plot_2_table"
   ]
  },
  {
   "cell_type": "code",
   "execution_count": 162,
   "id": "2c938930",
   "metadata": {},
   "outputs": [
    {
     "name": "stdout",
     "output_type": "stream",
     "text": [
      "% latex table generated in R 3.6.3 by xtable 1.8-4 package\n",
      "% Sat Jan 14 16:18:07 2023\n",
      "\\begin{table}[ht]\n",
      "\\centering\n",
      "\\begin{tabular}{lrrrr}\n",
      "  \\toprule\n",
      "contrast & estimate & SE & t.ratio & p.value \\\\ \n",
      "  \\midrule\n",
      "Left & -1.89 & 0.37 & -5.10 & 0.000 \\\\ \n",
      "  Left-Center & -1.09 & 0.09 & -12.26 & 0.000 \\\\ \n",
      "  Least-Biased & -0.88 & 0.08 & -11.36 & 0.000 \\\\ \n",
      "  Right-Center & -0.40 & 0.11 & -3.58 & 0.013 \\\\ \n",
      "  Right & 1.75 & 0.42 & 4.15 & 0.001 \\\\ \n",
      "   \\bottomrule\n",
      "\\end{tabular}\n",
      "\\end{table}\n"
     ]
    }
   ],
   "source": [
    "print(xtable((emmeans_plot_2_table)[,c(1,2,3,5,6)],digits=c(-5,-2,2,2,2,3)), include.rownames = F,booktabs=T)\n"
   ]
  },
  {
   "cell_type": "markdown",
   "id": "65f723ef",
   "metadata": {},
   "source": [
    "# Model 3 (Equation 3), investigate how quotative bias change over time: "
   ]
  },
  {
   "cell_type": "code",
   "execution_count": 163,
   "id": "851d4ebd",
   "metadata": {},
   "outputs": [],
   "source": [
    "model3=lm(unprofessional_verb ~ domain_proxy + factor(party) + factor(outlet_category)+factor(outlet_category):factor(party):relative_time, data = df_shrunk)"
   ]
  },
  {
   "cell_type": "code",
   "execution_count": 164,
   "id": "c4ff098f",
   "metadata": {},
   "outputs": [],
   "source": [
    "cl_vcov_mat3 <- vcovCL(model3,cluster = factor(df_shrunk$domain))\n"
   ]
  },
  {
   "cell_type": "code",
   "execution_count": 165,
   "id": "6cc65134",
   "metadata": {},
   "outputs": [
    {
     "data": {
      "text/html": [
       "<dl>\n",
       "\t<dt>$emtrends</dt>\n",
       "\t\t<dd><table class=\"dataframe\">\n",
       "<caption>A summary_emm: 10 × 7</caption>\n",
       "<thead>\n",
       "\t<tr><th></th><th scope=col>outlet_category</th><th scope=col>party</th><th scope=col>relative_time.trend</th><th scope=col>SE</th><th scope=col>df</th><th scope=col>t.ratio</th><th scope=col>p.value</th></tr>\n",
       "\t<tr><th></th><th scope=col>&lt;fct&gt;</th><th scope=col>&lt;fct&gt;</th><th scope=col>&lt;dbl&gt;</th><th scope=col>&lt;dbl&gt;</th><th scope=col>&lt;dbl&gt;</th><th scope=col>&lt;dbl&gt;</th><th scope=col>&lt;dbl&gt;</th></tr>\n",
       "</thead>\n",
       "<tbody>\n",
       "\t<tr><th scope=row>1</th><td>left_center_media </td><td>democratic</td><td>-8.340343e-05</td><td>1.501678e-05</td><td>6723238</td><td>-5.5540154</td><td>2.791914e-08</td></tr>\n",
       "\t<tr><th scope=row>2</th><td>left_media        </td><td>democratic</td><td>-3.162371e-04</td><td>6.796460e-05</td><td>6723238</td><td>-4.6529682</td><td>3.271969e-06</td></tr>\n",
       "\t<tr><th scope=row>3</th><td>mainstream        </td><td>democratic</td><td>-5.338583e-05</td><td>1.565020e-05</td><td>6723238</td><td>-3.4111912</td><td>6.468009e-04</td></tr>\n",
       "\t<tr><th scope=row>4</th><td>right_center_media</td><td>democratic</td><td>-2.119240e-05</td><td>2.097462e-05</td><td>6723238</td><td>-1.0103830</td><td>3.123119e-01</td></tr>\n",
       "\t<tr><th scope=row>5</th><td>right_media       </td><td>democratic</td><td> 8.349669e-05</td><td>1.008216e-04</td><td>6723238</td><td> 0.8281625</td><td>4.075785e-01</td></tr>\n",
       "\t<tr><th scope=row>6</th><td>left_center_media </td><td>republican</td><td> 1.936316e-04</td><td>2.371174e-05</td><td>6723238</td><td> 8.1660626</td><td>3.186723e-16</td></tr>\n",
       "\t<tr><th scope=row>7</th><td>left_media        </td><td>republican</td><td> 9.926601e-05</td><td>5.441294e-05</td><td>6723238</td><td> 1.8243086</td><td>6.810547e-02</td></tr>\n",
       "\t<tr><th scope=row>8</th><td>mainstream        </td><td>republican</td><td> 1.855987e-04</td><td>1.895075e-05</td><td>6723238</td><td> 9.7937352</td><td>1.198290e-22</td></tr>\n",
       "\t<tr><th scope=row>9</th><td>right_center_media</td><td>republican</td><td> 1.656143e-04</td><td>2.972831e-05</td><td>6723238</td><td> 5.5709295</td><td>2.533934e-08</td></tr>\n",
       "\t<tr><th scope=row>10</th><td>right_media       </td><td>republican</td><td>-6.090928e-05</td><td>6.637195e-05</td><td>6723238</td><td>-0.9176961</td><td>3.587780e-01</td></tr>\n",
       "</tbody>\n",
       "</table>\n",
       "</dd>\n",
       "\t<dt>$contrasts</dt>\n",
       "\t\t<dd><table class=\"dataframe\">\n",
       "<caption>A summary_emm: 20 × 7</caption>\n",
       "<thead>\n",
       "\t<tr><th></th><th scope=col>contrast</th><th scope=col>party</th><th scope=col>estimate</th><th scope=col>SE</th><th scope=col>df</th><th scope=col>t.ratio</th><th scope=col>p.value</th></tr>\n",
       "\t<tr><th></th><th scope=col>&lt;fct&gt;</th><th scope=col>&lt;fct&gt;</th><th scope=col>&lt;dbl&gt;</th><th scope=col>&lt;dbl&gt;</th><th scope=col>&lt;dbl&gt;</th><th scope=col>&lt;dbl&gt;</th><th scope=col>&lt;dbl&gt;</th></tr>\n",
       "</thead>\n",
       "<tbody>\n",
       "\t<tr><th scope=row>1</th><td>left_center_media - left_media        </td><td>democratic</td><td> 2.328337e-04</td><td>6.966218e-05</td><td>6723238</td><td> 3.3423255</td><td>0.0074202377</td></tr>\n",
       "\t<tr><th scope=row>2</th><td>left_center_media - mainstream        </td><td>democratic</td><td>-3.001759e-05</td><td>2.031102e-05</td><td>6723238</td><td>-1.4778968</td><td>0.5769146101</td></tr>\n",
       "\t<tr><th scope=row>3</th><td>left_center_media - right_center_media</td><td>democratic</td><td>-6.221103e-05</td><td>2.511625e-05</td><td>6723238</td><td>-2.4769238</td><td>0.0958578345</td></tr>\n",
       "\t<tr><th scope=row>4</th><td>left_center_media - right_media       </td><td>democratic</td><td>-1.669001e-04</td><td>1.020093e-04</td><td>6723238</td><td>-1.6361260</td><td>0.4741331641</td></tr>\n",
       "\t<tr><th scope=row>5</th><td>left_media - mainstream               </td><td>democratic</td><td>-2.628513e-04</td><td>6.944021e-05</td><td>6723238</td><td>-3.7852892</td><td>0.0014441838</td></tr>\n",
       "\t<tr><th scope=row>6</th><td>left_media - right_center_media       </td><td>democratic</td><td>-2.950447e-04</td><td>7.098608e-05</td><td>6723238</td><td>-4.1563740</td><td>0.0003121989</td></tr>\n",
       "\t<tr><th scope=row>7</th><td>left_media - right_media              </td><td>democratic</td><td>-3.997338e-04</td><td>1.214945e-04</td><td>6723238</td><td>-3.2901379</td><td>0.0088721489</td></tr>\n",
       "\t<tr><th scope=row>8</th><td>mainstream - right_center_media       </td><td>democratic</td><td>-3.219344e-05</td><td>2.441147e-05</td><td>6723238</td><td>-1.3187834</td><td>0.6794946524</td></tr>\n",
       "\t<tr><th scope=row>9</th><td>mainstream - right_media              </td><td>democratic</td><td>-1.368825e-04</td><td>1.018652e-04</td><td>6723238</td><td>-1.3437610</td><td>0.6637246273</td></tr>\n",
       "\t<tr><th scope=row>10</th><td>right_center_media - right_media      </td><td>democratic</td><td>-1.046891e-04</td><td>1.029006e-04</td><td>6723238</td><td>-1.0173806</td><td>0.8474888326</td></tr>\n",
       "\t<tr><th scope=row>11</th><td>left_center_media - left_media        </td><td>republican</td><td> 9.436557e-05</td><td>5.787612e-05</td><td>6723238</td><td> 1.6304751</td><td>0.4777433836</td></tr>\n",
       "\t<tr><th scope=row>12</th><td>left_center_media - mainstream        </td><td>republican</td><td> 8.032902e-06</td><td>2.751844e-05</td><td>6723238</td><td> 0.2919098</td><td>0.9984188829</td></tr>\n",
       "\t<tr><th scope=row>13</th><td>left_center_media - right_center_media</td><td>republican</td><td> 2.801725e-05</td><td>3.548274e-05</td><td>6723238</td><td> 0.7896023</td><td>0.9337252220</td></tr>\n",
       "\t<tr><th scope=row>14</th><td>left_center_media - right_media       </td><td>republican</td><td> 2.545408e-04</td><td>7.006516e-05</td><td>6723238</td><td> 3.6329163</td><td>0.0025972187</td></tr>\n",
       "\t<tr><th scope=row>15</th><td>left_media - mainstream               </td><td>republican</td><td>-8.633266e-05</td><td>5.670180e-05</td><td>6723238</td><td>-1.5225735</td><td>0.5476814148</td></tr>\n",
       "\t<tr><th scope=row>16</th><td>left_media - right_center_media       </td><td>republican</td><td>-6.634831e-05</td><td>6.095154e-05</td><td>6723238</td><td>-1.0885420</td><td>0.8125671718</td></tr>\n",
       "\t<tr><th scope=row>17</th><td>left_media - right_media              </td><td>republican</td><td> 1.601753e-04</td><td>8.548969e-05</td><td>6723238</td><td> 1.8736210</td><td>0.3316120230</td></tr>\n",
       "\t<tr><th scope=row>18</th><td>mainstream - right_center_media       </td><td>republican</td><td> 1.998435e-05</td><td>3.355442e-05</td><td>6723238</td><td> 0.5955803</td><td>0.9757902073</td></tr>\n",
       "\t<tr><th scope=row>19</th><td>mainstream - right_media              </td><td>republican</td><td> 2.465079e-04</td><td>6.901200e-05</td><td>6723238</td><td> 3.5719577</td><td>0.0032617622</td></tr>\n",
       "\t<tr><th scope=row>20</th><td>right_center_media - right_media      </td><td>republican</td><td> 2.265236e-04</td><td>7.249756e-05</td><td>6723238</td><td> 3.1245687</td><td>0.0153282711</td></tr>\n",
       "</tbody>\n",
       "</table>\n",
       "</dd>\n",
       "</dl>\n"
      ],
      "text/latex": [
       "\\begin{description}\n",
       "\\item[\\$emtrends] A summary\\_emm: 10 × 7\n",
       "\\begin{tabular}{r|lllllll}\n",
       "  & outlet\\_category & party & relative\\_time.trend & SE & df & t.ratio & p.value\\\\\n",
       "  & <fct> & <fct> & <dbl> & <dbl> & <dbl> & <dbl> & <dbl>\\\\\n",
       "\\hline\n",
       "\t1 & left\\_center\\_media  & democratic & -8.340343e-05 & 1.501678e-05 & 6723238 & -5.5540154 & 2.791914e-08\\\\\n",
       "\t2 & left\\_media         & democratic & -3.162371e-04 & 6.796460e-05 & 6723238 & -4.6529682 & 3.271969e-06\\\\\n",
       "\t3 & mainstream         & democratic & -5.338583e-05 & 1.565020e-05 & 6723238 & -3.4111912 & 6.468009e-04\\\\\n",
       "\t4 & right\\_center\\_media & democratic & -2.119240e-05 & 2.097462e-05 & 6723238 & -1.0103830 & 3.123119e-01\\\\\n",
       "\t5 & right\\_media        & democratic &  8.349669e-05 & 1.008216e-04 & 6723238 &  0.8281625 & 4.075785e-01\\\\\n",
       "\t6 & left\\_center\\_media  & republican &  1.936316e-04 & 2.371174e-05 & 6723238 &  8.1660626 & 3.186723e-16\\\\\n",
       "\t7 & left\\_media         & republican &  9.926601e-05 & 5.441294e-05 & 6723238 &  1.8243086 & 6.810547e-02\\\\\n",
       "\t8 & mainstream         & republican &  1.855987e-04 & 1.895075e-05 & 6723238 &  9.7937352 & 1.198290e-22\\\\\n",
       "\t9 & right\\_center\\_media & republican &  1.656143e-04 & 2.972831e-05 & 6723238 &  5.5709295 & 2.533934e-08\\\\\n",
       "\t10 & right\\_media        & republican & -6.090928e-05 & 6.637195e-05 & 6723238 & -0.9176961 & 3.587780e-01\\\\\n",
       "\\end{tabular}\n",
       "\n",
       "\\item[\\$contrasts] A summary\\_emm: 20 × 7\n",
       "\\begin{tabular}{r|lllllll}\n",
       "  & contrast & party & estimate & SE & df & t.ratio & p.value\\\\\n",
       "  & <fct> & <fct> & <dbl> & <dbl> & <dbl> & <dbl> & <dbl>\\\\\n",
       "\\hline\n",
       "\t1 & left\\_center\\_media - left\\_media         & democratic &  2.328337e-04 & 6.966218e-05 & 6723238 &  3.3423255 & 0.0074202377\\\\\n",
       "\t2 & left\\_center\\_media - mainstream         & democratic & -3.001759e-05 & 2.031102e-05 & 6723238 & -1.4778968 & 0.5769146101\\\\\n",
       "\t3 & left\\_center\\_media - right\\_center\\_media & democratic & -6.221103e-05 & 2.511625e-05 & 6723238 & -2.4769238 & 0.0958578345\\\\\n",
       "\t4 & left\\_center\\_media - right\\_media        & democratic & -1.669001e-04 & 1.020093e-04 & 6723238 & -1.6361260 & 0.4741331641\\\\\n",
       "\t5 & left\\_media - mainstream                & democratic & -2.628513e-04 & 6.944021e-05 & 6723238 & -3.7852892 & 0.0014441838\\\\\n",
       "\t6 & left\\_media - right\\_center\\_media        & democratic & -2.950447e-04 & 7.098608e-05 & 6723238 & -4.1563740 & 0.0003121989\\\\\n",
       "\t7 & left\\_media - right\\_media               & democratic & -3.997338e-04 & 1.214945e-04 & 6723238 & -3.2901379 & 0.0088721489\\\\\n",
       "\t8 & mainstream - right\\_center\\_media        & democratic & -3.219344e-05 & 2.441147e-05 & 6723238 & -1.3187834 & 0.6794946524\\\\\n",
       "\t9 & mainstream - right\\_media               & democratic & -1.368825e-04 & 1.018652e-04 & 6723238 & -1.3437610 & 0.6637246273\\\\\n",
       "\t10 & right\\_center\\_media - right\\_media       & democratic & -1.046891e-04 & 1.029006e-04 & 6723238 & -1.0173806 & 0.8474888326\\\\\n",
       "\t11 & left\\_center\\_media - left\\_media         & republican &  9.436557e-05 & 5.787612e-05 & 6723238 &  1.6304751 & 0.4777433836\\\\\n",
       "\t12 & left\\_center\\_media - mainstream         & republican &  8.032902e-06 & 2.751844e-05 & 6723238 &  0.2919098 & 0.9984188829\\\\\n",
       "\t13 & left\\_center\\_media - right\\_center\\_media & republican &  2.801725e-05 & 3.548274e-05 & 6723238 &  0.7896023 & 0.9337252220\\\\\n",
       "\t14 & left\\_center\\_media - right\\_media        & republican &  2.545408e-04 & 7.006516e-05 & 6723238 &  3.6329163 & 0.0025972187\\\\\n",
       "\t15 & left\\_media - mainstream                & republican & -8.633266e-05 & 5.670180e-05 & 6723238 & -1.5225735 & 0.5476814148\\\\\n",
       "\t16 & left\\_media - right\\_center\\_media        & republican & -6.634831e-05 & 6.095154e-05 & 6723238 & -1.0885420 & 0.8125671718\\\\\n",
       "\t17 & left\\_media - right\\_media               & republican &  1.601753e-04 & 8.548969e-05 & 6723238 &  1.8736210 & 0.3316120230\\\\\n",
       "\t18 & mainstream - right\\_center\\_media        & republican &  1.998435e-05 & 3.355442e-05 & 6723238 &  0.5955803 & 0.9757902073\\\\\n",
       "\t19 & mainstream - right\\_media               & republican &  2.465079e-04 & 6.901200e-05 & 6723238 &  3.5719577 & 0.0032617622\\\\\n",
       "\t20 & right\\_center\\_media - right\\_media       & republican &  2.265236e-04 & 7.249756e-05 & 6723238 &  3.1245687 & 0.0153282711\\\\\n",
       "\\end{tabular}\n",
       "\n",
       "\\end{description}\n"
      ],
      "text/markdown": [
       "$emtrends\n",
       ":   \n",
       "A summary_emm: 10 × 7\n",
       "\n",
       "| <!--/--> | outlet_category &lt;fct&gt; | party &lt;fct&gt; | relative_time.trend &lt;dbl&gt; | SE &lt;dbl&gt; | df &lt;dbl&gt; | t.ratio &lt;dbl&gt; | p.value &lt;dbl&gt; |\n",
       "|---|---|---|---|---|---|---|---|\n",
       "| 1 | left_center_media  | democratic | -8.340343e-05 | 1.501678e-05 | 6723238 | -5.5540154 | 2.791914e-08 |\n",
       "| 2 | left_media         | democratic | -3.162371e-04 | 6.796460e-05 | 6723238 | -4.6529682 | 3.271969e-06 |\n",
       "| 3 | mainstream         | democratic | -5.338583e-05 | 1.565020e-05 | 6723238 | -3.4111912 | 6.468009e-04 |\n",
       "| 4 | right_center_media | democratic | -2.119240e-05 | 2.097462e-05 | 6723238 | -1.0103830 | 3.123119e-01 |\n",
       "| 5 | right_media        | democratic |  8.349669e-05 | 1.008216e-04 | 6723238 |  0.8281625 | 4.075785e-01 |\n",
       "| 6 | left_center_media  | republican |  1.936316e-04 | 2.371174e-05 | 6723238 |  8.1660626 | 3.186723e-16 |\n",
       "| 7 | left_media         | republican |  9.926601e-05 | 5.441294e-05 | 6723238 |  1.8243086 | 6.810547e-02 |\n",
       "| 8 | mainstream         | republican |  1.855987e-04 | 1.895075e-05 | 6723238 |  9.7937352 | 1.198290e-22 |\n",
       "| 9 | right_center_media | republican |  1.656143e-04 | 2.972831e-05 | 6723238 |  5.5709295 | 2.533934e-08 |\n",
       "| 10 | right_media        | republican | -6.090928e-05 | 6.637195e-05 | 6723238 | -0.9176961 | 3.587780e-01 |\n",
       "\n",
       "\n",
       "$contrasts\n",
       ":   \n",
       "A summary_emm: 20 × 7\n",
       "\n",
       "| <!--/--> | contrast &lt;fct&gt; | party &lt;fct&gt; | estimate &lt;dbl&gt; | SE &lt;dbl&gt; | df &lt;dbl&gt; | t.ratio &lt;dbl&gt; | p.value &lt;dbl&gt; |\n",
       "|---|---|---|---|---|---|---|---|\n",
       "| 1 | left_center_media - left_media         | democratic |  2.328337e-04 | 6.966218e-05 | 6723238 |  3.3423255 | 0.0074202377 |\n",
       "| 2 | left_center_media - mainstream         | democratic | -3.001759e-05 | 2.031102e-05 | 6723238 | -1.4778968 | 0.5769146101 |\n",
       "| 3 | left_center_media - right_center_media | democratic | -6.221103e-05 | 2.511625e-05 | 6723238 | -2.4769238 | 0.0958578345 |\n",
       "| 4 | left_center_media - right_media        | democratic | -1.669001e-04 | 1.020093e-04 | 6723238 | -1.6361260 | 0.4741331641 |\n",
       "| 5 | left_media - mainstream                | democratic | -2.628513e-04 | 6.944021e-05 | 6723238 | -3.7852892 | 0.0014441838 |\n",
       "| 6 | left_media - right_center_media        | democratic | -2.950447e-04 | 7.098608e-05 | 6723238 | -4.1563740 | 0.0003121989 |\n",
       "| 7 | left_media - right_media               | democratic | -3.997338e-04 | 1.214945e-04 | 6723238 | -3.2901379 | 0.0088721489 |\n",
       "| 8 | mainstream - right_center_media        | democratic | -3.219344e-05 | 2.441147e-05 | 6723238 | -1.3187834 | 0.6794946524 |\n",
       "| 9 | mainstream - right_media               | democratic | -1.368825e-04 | 1.018652e-04 | 6723238 | -1.3437610 | 0.6637246273 |\n",
       "| 10 | right_center_media - right_media       | democratic | -1.046891e-04 | 1.029006e-04 | 6723238 | -1.0173806 | 0.8474888326 |\n",
       "| 11 | left_center_media - left_media         | republican |  9.436557e-05 | 5.787612e-05 | 6723238 |  1.6304751 | 0.4777433836 |\n",
       "| 12 | left_center_media - mainstream         | republican |  8.032902e-06 | 2.751844e-05 | 6723238 |  0.2919098 | 0.9984188829 |\n",
       "| 13 | left_center_media - right_center_media | republican |  2.801725e-05 | 3.548274e-05 | 6723238 |  0.7896023 | 0.9337252220 |\n",
       "| 14 | left_center_media - right_media        | republican |  2.545408e-04 | 7.006516e-05 | 6723238 |  3.6329163 | 0.0025972187 |\n",
       "| 15 | left_media - mainstream                | republican | -8.633266e-05 | 5.670180e-05 | 6723238 | -1.5225735 | 0.5476814148 |\n",
       "| 16 | left_media - right_center_media        | republican | -6.634831e-05 | 6.095154e-05 | 6723238 | -1.0885420 | 0.8125671718 |\n",
       "| 17 | left_media - right_media               | republican |  1.601753e-04 | 8.548969e-05 | 6723238 |  1.8736210 | 0.3316120230 |\n",
       "| 18 | mainstream - right_center_media        | republican |  1.998435e-05 | 3.355442e-05 | 6723238 |  0.5955803 | 0.9757902073 |\n",
       "| 19 | mainstream - right_media               | republican |  2.465079e-04 | 6.901200e-05 | 6723238 |  3.5719577 | 0.0032617622 |\n",
       "| 20 | right_center_media - right_media       | republican |  2.265236e-04 | 7.249756e-05 | 6723238 |  3.1245687 | 0.0153282711 |\n",
       "\n",
       "\n",
       "\n",
       "\n"
      ],
      "text/plain": [
       "$emtrends\n",
       "party = democratic:\n",
       " outlet_category    relative_time.trend       SE      df t.ratio p.value\n",
       " left_center_media            -8.34e-05 1.50e-05 6723238  -5.554  <.0001\n",
       " left_media                   -3.16e-04 6.80e-05 6723238  -4.653  <.0001\n",
       " mainstream                   -5.34e-05 1.57e-05 6723238  -3.411  0.0006\n",
       " right_center_media           -2.12e-05 2.10e-05 6723238  -1.010  0.3123\n",
       " right_media                   8.35e-05 1.01e-04 6723238   0.828  0.4076\n",
       "\n",
       "party = republican:\n",
       " outlet_category    relative_time.trend       SE      df t.ratio p.value\n",
       " left_center_media             1.94e-04 2.37e-05 6723238   8.166  <.0001\n",
       " left_media                    9.93e-05 5.44e-05 6723238   1.824  0.0681\n",
       " mainstream                    1.86e-04 1.90e-05 6723238   9.794  <.0001\n",
       " right_center_media            1.66e-04 2.97e-05 6723238   5.571  <.0001\n",
       " right_media                  -6.09e-05 6.64e-05 6723238  -0.918  0.3588\n",
       "\n",
       "\n",
       "$contrasts\n",
       "party = democratic:\n",
       " contrast                                estimate       SE      df t.ratio\n",
       " left_center_media - left_media          2.33e-04 6.97e-05 6723238   3.342\n",
       " left_center_media - mainstream         -3.00e-05 2.03e-05 6723238  -1.478\n",
       " left_center_media - right_center_media -6.22e-05 2.51e-05 6723238  -2.477\n",
       " left_center_media - right_media        -1.67e-04 1.02e-04 6723238  -1.636\n",
       " left_media - mainstream                -2.63e-04 6.94e-05 6723238  -3.785\n",
       " left_media - right_center_media        -2.95e-04 7.10e-05 6723238  -4.156\n",
       " left_media - right_media               -4.00e-04 1.21e-04 6723238  -3.290\n",
       " mainstream - right_center_media        -3.22e-05 2.44e-05 6723238  -1.319\n",
       " mainstream - right_media               -1.37e-04 1.02e-04 6723238  -1.344\n",
       " right_center_media - right_media       -1.05e-04 1.03e-04 6723238  -1.017\n",
       " p.value\n",
       "  0.0074\n",
       "  0.5769\n",
       "  0.0959\n",
       "  0.4741\n",
       "  0.0014\n",
       "  0.0003\n",
       "  0.0089\n",
       "  0.6795\n",
       "  0.6637\n",
       "  0.8475\n",
       "\n",
       "party = republican:\n",
       " contrast                                estimate       SE      df t.ratio\n",
       " left_center_media - left_media          9.44e-05 5.79e-05 6723238   1.630\n",
       " left_center_media - mainstream          8.03e-06 2.75e-05 6723238   0.292\n",
       " left_center_media - right_center_media  2.80e-05 3.55e-05 6723238   0.790\n",
       " left_center_media - right_media         2.55e-04 7.01e-05 6723238   3.633\n",
       " left_media - mainstream                -8.63e-05 5.67e-05 6723238  -1.523\n",
       " left_media - right_center_media        -6.63e-05 6.10e-05 6723238  -1.089\n",
       " left_media - right_media                1.60e-04 8.55e-05 6723238   1.874\n",
       " mainstream - right_center_media         2.00e-05 3.36e-05 6723238   0.596\n",
       " mainstream - right_media                2.47e-04 6.90e-05 6723238   3.572\n",
       " right_center_media - right_media        2.27e-04 7.25e-05 6723238   3.125\n",
       " p.value\n",
       "  0.4777\n",
       "  0.9984\n",
       "  0.9337\n",
       "  0.0026\n",
       "  0.5477\n",
       "  0.8126\n",
       "  0.3316\n",
       "  0.9758\n",
       "  0.0033\n",
       "  0.0153\n",
       "\n",
       "P value adjustment: tukey method for comparing a family of 5 estimates \n"
      ]
     },
     "metadata": {},
     "output_type": "display_data"
    }
   ],
   "source": [
    "test(emtrends(model3, specs = pairwise ~ outlet_category | party,var = 'relative_time',vcov = as.matrix(cl_vcov_mat3)))\n"
   ]
  },
  {
   "cell_type": "code",
   "execution_count": 30,
   "id": "1bd82827",
   "metadata": {},
   "outputs": [
    {
     "data": {
      "text/plain": [
       "\n",
       "Call:\n",
       "lm(formula = unprofessional_verb ~ domain_proxy + factor(party) + \n",
       "    factor(outlet_category) + factor(outlet_category):factor(party):relative_time, \n",
       "    data = df_shrunk)\n",
       "\n",
       "Residuals:\n",
       "     Min       1Q   Median       3Q      Max \n",
       "-0.27656 -0.04052 -0.03108 -0.02347  1.00022 \n",
       "\n",
       "Coefficients:\n",
       "                                                                                  Estimate\n",
       "(Intercept)                                                                     -7.285e-04\n",
       "domain_proxy                                                                     9.901e-01\n",
       "factor(party)republican                                                         -4.296e-03\n",
       "factor(outlet_category)left_media                                                7.691e-03\n",
       "factor(outlet_category)mainstream                                               -8.889e-04\n",
       "factor(outlet_category)right_center_media                                       -7.919e-04\n",
       "factor(outlet_category)right_media                                               4.153e-03\n",
       "factor(party)democratic:factor(outlet_category)left_center_media:relative_time  -8.340e-05\n",
       "factor(party)republican:factor(outlet_category)left_center_media:relative_time   1.936e-04\n",
       "factor(party)democratic:factor(outlet_category)left_media:relative_time         -3.162e-04\n",
       "factor(party)republican:factor(outlet_category)left_media:relative_time          9.927e-05\n",
       "factor(party)democratic:factor(outlet_category)mainstream:relative_time         -5.339e-05\n",
       "factor(party)republican:factor(outlet_category)mainstream:relative_time          1.856e-04\n",
       "factor(party)democratic:factor(outlet_category)right_center_media:relative_time -2.119e-05\n",
       "factor(party)republican:factor(outlet_category)right_center_media:relative_time  1.656e-04\n",
       "factor(party)democratic:factor(outlet_category)right_media:relative_time         8.350e-05\n",
       "factor(party)republican:factor(outlet_category)right_media:relative_time        -6.091e-05\n",
       "                                                                                Std. Error\n",
       "(Intercept)                                                                      3.367e-04\n",
       "domain_proxy                                                                     3.961e-03\n",
       "factor(party)republican                                                          3.471e-04\n",
       "factor(outlet_category)left_media                                                7.552e-04\n",
       "factor(outlet_category)mainstream                                                4.266e-04\n",
       "factor(outlet_category)right_center_media                                        5.166e-04\n",
       "factor(outlet_category)right_media                                               6.373e-04\n",
       "factor(party)democratic:factor(outlet_category)left_center_media:relative_time   6.045e-06\n",
       "factor(party)republican:factor(outlet_category)left_center_media:relative_time   6.334e-06\n",
       "factor(party)democratic:factor(outlet_category)left_media:relative_time          1.361e-05\n",
       "factor(party)republican:factor(outlet_category)left_media:relative_time          1.347e-05\n",
       "factor(party)democratic:factor(outlet_category)mainstream:relative_time          6.743e-06\n",
       "factor(party)republican:factor(outlet_category)mainstream:relative_time          6.788e-06\n",
       "factor(party)democratic:factor(outlet_category)right_center_media:relative_time  9.498e-06\n",
       "factor(party)republican:factor(outlet_category)right_center_media:relative_time  9.167e-06\n",
       "factor(party)democratic:factor(outlet_category)right_media:relative_time         1.106e-05\n",
       "factor(party)republican:factor(outlet_category)right_media:relative_time         1.081e-05\n",
       "                                                                                t value\n",
       "(Intercept)                                                                      -2.164\n",
       "domain_proxy                                                                    249.958\n",
       "factor(party)republican                                                         -12.375\n",
       "factor(outlet_category)left_media                                                10.184\n",
       "factor(outlet_category)mainstream                                                -2.084\n",
       "factor(outlet_category)right_center_media                                        -1.533\n",
       "factor(outlet_category)right_media                                                6.515\n",
       "factor(party)democratic:factor(outlet_category)left_center_media:relative_time  -13.797\n",
       "factor(party)republican:factor(outlet_category)left_center_media:relative_time   30.569\n",
       "factor(party)democratic:factor(outlet_category)left_media:relative_time         -23.240\n",
       "factor(party)republican:factor(outlet_category)left_media:relative_time           7.367\n",
       "factor(party)democratic:factor(outlet_category)mainstream:relative_time          -7.918\n",
       "factor(party)republican:factor(outlet_category)mainstream:relative_time          27.344\n",
       "factor(party)democratic:factor(outlet_category)right_center_media:relative_time  -2.231\n",
       "factor(party)republican:factor(outlet_category)right_center_media:relative_time  18.067\n",
       "factor(party)democratic:factor(outlet_category)right_media:relative_time          7.551\n",
       "factor(party)republican:factor(outlet_category)right_media:relative_time         -5.633\n",
       "                                                                                Pr(>|t|)\n",
       "(Intercept)                                                                       0.0305\n",
       "domain_proxy                                                                     < 2e-16\n",
       "factor(party)republican                                                          < 2e-16\n",
       "factor(outlet_category)left_media                                                < 2e-16\n",
       "factor(outlet_category)mainstream                                                 0.0372\n",
       "factor(outlet_category)right_center_media                                         0.1253\n",
       "factor(outlet_category)right_media                                              7.25e-11\n",
       "factor(party)democratic:factor(outlet_category)left_center_media:relative_time   < 2e-16\n",
       "factor(party)republican:factor(outlet_category)left_center_media:relative_time   < 2e-16\n",
       "factor(party)democratic:factor(outlet_category)left_media:relative_time          < 2e-16\n",
       "factor(party)republican:factor(outlet_category)left_media:relative_time         1.74e-13\n",
       "factor(party)democratic:factor(outlet_category)mainstream:relative_time         2.42e-15\n",
       "factor(party)republican:factor(outlet_category)mainstream:relative_time          < 2e-16\n",
       "factor(party)democratic:factor(outlet_category)right_center_media:relative_time   0.0257\n",
       "factor(party)republican:factor(outlet_category)right_center_media:relative_time  < 2e-16\n",
       "factor(party)democratic:factor(outlet_category)right_media:relative_time        4.33e-14\n",
       "factor(party)republican:factor(outlet_category)right_media:relative_time        1.77e-08\n",
       "                                                                                   \n",
       "(Intercept)                                                                     *  \n",
       "domain_proxy                                                                    ***\n",
       "factor(party)republican                                                         ***\n",
       "factor(outlet_category)left_media                                               ***\n",
       "factor(outlet_category)mainstream                                               *  \n",
       "factor(outlet_category)right_center_media                                          \n",
       "factor(outlet_category)right_media                                              ***\n",
       "factor(party)democratic:factor(outlet_category)left_center_media:relative_time  ***\n",
       "factor(party)republican:factor(outlet_category)left_center_media:relative_time  ***\n",
       "factor(party)democratic:factor(outlet_category)left_media:relative_time         ***\n",
       "factor(party)republican:factor(outlet_category)left_media:relative_time         ***\n",
       "factor(party)democratic:factor(outlet_category)mainstream:relative_time         ***\n",
       "factor(party)republican:factor(outlet_category)mainstream:relative_time         ***\n",
       "factor(party)democratic:factor(outlet_category)right_center_media:relative_time *  \n",
       "factor(party)republican:factor(outlet_category)right_center_media:relative_time ***\n",
       "factor(party)democratic:factor(outlet_category)right_media:relative_time        ***\n",
       "factor(party)republican:factor(outlet_category)right_media:relative_time        ***\n",
       "---\n",
       "Signif. codes:  0 '***' 0.001 '**' 0.01 '*' 0.05 '.' 0.1 ' ' 1\n",
       "\n",
       "Residual standard error: 0.186 on 6723238 degrees of freedom\n",
       "Multiple R-squared:  0.01426,\tAdjusted R-squared:  0.01426 \n",
       "F-statistic:  6078 on 16 and 6723238 DF,  p-value: < 2.2e-16\n"
      ]
     },
     "metadata": {},
     "output_type": "display_data"
    }
   ],
   "source": [
    "summary(model3)"
   ]
  },
  {
   "cell_type": "code",
   "execution_count": 166,
   "id": "5e116ea9",
   "metadata": {},
   "outputs": [],
   "source": [
    "emmeans_plot_3=test(emtrends(model3, specs = pairwise ~ outlet_category : party,var = 'relative_time',vcov = as.matrix(cl_vcov_mat3)))\n"
   ]
  },
  {
   "cell_type": "code",
   "execution_count": 168,
   "id": "1707dbd0",
   "metadata": {},
   "outputs": [
    {
     "data": {
      "text/html": [
       "<dl>\n",
       "\t<dt>$emtrends</dt>\n",
       "\t\t<dd><table class=\"dataframe\">\n",
       "<caption>A summary_emm: 10 × 7</caption>\n",
       "<thead>\n",
       "\t<tr><th></th><th scope=col>outlet_category</th><th scope=col>party</th><th scope=col>relative_time.trend</th><th scope=col>SE</th><th scope=col>df</th><th scope=col>t.ratio</th><th scope=col>p.value</th></tr>\n",
       "\t<tr><th></th><th scope=col>&lt;fct&gt;</th><th scope=col>&lt;fct&gt;</th><th scope=col>&lt;dbl&gt;</th><th scope=col>&lt;dbl&gt;</th><th scope=col>&lt;dbl&gt;</th><th scope=col>&lt;dbl&gt;</th><th scope=col>&lt;dbl&gt;</th></tr>\n",
       "</thead>\n",
       "<tbody>\n",
       "\t<tr><th scope=row>1</th><td>left_center_media </td><td>democratic</td><td>-8.340343e-05</td><td>1.501678e-05</td><td>6723238</td><td>-5.5540154</td><td>2.791914e-08</td></tr>\n",
       "\t<tr><th scope=row>2</th><td>left_media        </td><td>democratic</td><td>-3.162371e-04</td><td>6.796460e-05</td><td>6723238</td><td>-4.6529682</td><td>3.271969e-06</td></tr>\n",
       "\t<tr><th scope=row>3</th><td>mainstream        </td><td>democratic</td><td>-5.338583e-05</td><td>1.565020e-05</td><td>6723238</td><td>-3.4111912</td><td>6.468009e-04</td></tr>\n",
       "\t<tr><th scope=row>4</th><td>right_center_media</td><td>democratic</td><td>-2.119240e-05</td><td>2.097462e-05</td><td>6723238</td><td>-1.0103830</td><td>3.123119e-01</td></tr>\n",
       "\t<tr><th scope=row>5</th><td>right_media       </td><td>democratic</td><td> 8.349669e-05</td><td>1.008216e-04</td><td>6723238</td><td> 0.8281625</td><td>4.075785e-01</td></tr>\n",
       "\t<tr><th scope=row>6</th><td>left_center_media </td><td>republican</td><td> 1.936316e-04</td><td>2.371174e-05</td><td>6723238</td><td> 8.1660626</td><td>3.186723e-16</td></tr>\n",
       "\t<tr><th scope=row>7</th><td>left_media        </td><td>republican</td><td> 9.926601e-05</td><td>5.441294e-05</td><td>6723238</td><td> 1.8243086</td><td>6.810547e-02</td></tr>\n",
       "\t<tr><th scope=row>8</th><td>mainstream        </td><td>republican</td><td> 1.855987e-04</td><td>1.895075e-05</td><td>6723238</td><td> 9.7937352</td><td>1.198290e-22</td></tr>\n",
       "\t<tr><th scope=row>9</th><td>right_center_media</td><td>republican</td><td> 1.656143e-04</td><td>2.972831e-05</td><td>6723238</td><td> 5.5709295</td><td>2.533934e-08</td></tr>\n",
       "\t<tr><th scope=row>10</th><td>right_media       </td><td>republican</td><td>-6.090928e-05</td><td>6.637195e-05</td><td>6723238</td><td>-0.9176961</td><td>3.587780e-01</td></tr>\n",
       "</tbody>\n",
       "</table>\n",
       "</dd>\n",
       "\t<dt>$contrasts</dt>\n",
       "\t\t<dd><table class=\"dataframe\">\n",
       "<caption>A summary_emm: 45 × 6</caption>\n",
       "<thead>\n",
       "\t<tr><th></th><th scope=col>contrast</th><th scope=col>estimate</th><th scope=col>SE</th><th scope=col>df</th><th scope=col>t.ratio</th><th scope=col>p.value</th></tr>\n",
       "\t<tr><th></th><th scope=col>&lt;fct&gt;</th><th scope=col>&lt;dbl&gt;</th><th scope=col>&lt;dbl&gt;</th><th scope=col>&lt;dbl&gt;</th><th scope=col>&lt;dbl&gt;</th><th scope=col>&lt;dbl&gt;</th></tr>\n",
       "</thead>\n",
       "<tbody>\n",
       "\t<tr><th scope=row>1</th><td>left_center_media democratic - left_media democratic         </td><td> 2.328337e-04</td><td>6.966218e-05</td><td>6723238</td><td>  3.3423255</td><td>2.855404e-02</td></tr>\n",
       "\t<tr><th scope=row>2</th><td>left_center_media democratic - mainstream democratic         </td><td>-3.001759e-05</td><td>2.031102e-05</td><td>6723238</td><td> -1.4778968</td><td>9.011667e-01</td></tr>\n",
       "\t<tr><th scope=row>3</th><td>left_center_media democratic - right_center_media democratic </td><td>-6.221103e-05</td><td>2.511625e-05</td><td>6723238</td><td> -2.4769238</td><td>2.808733e-01</td></tr>\n",
       "\t<tr><th scope=row>4</th><td>left_center_media democratic - right_media democratic        </td><td>-1.669001e-04</td><td>1.020093e-04</td><td>6723238</td><td> -1.6361260</td><td>8.305300e-01</td></tr>\n",
       "\t<tr><th scope=row>5</th><td>left_center_media democratic - left_center_media republican  </td><td>-2.770350e-04</td><td>2.215581e-05</td><td>6723238</td><td>-12.5039428</td><td>0.000000e+00</td></tr>\n",
       "\t<tr><th scope=row>6</th><td>left_center_media democratic - left_media republican         </td><td>-1.826694e-04</td><td>5.699628e-05</td><td>6723238</td><td> -3.2049361</td><td>4.410141e-02</td></tr>\n",
       "\t<tr><th scope=row>7</th><td>left_center_media democratic - mainstream republican         </td><td>-2.690021e-04</td><td>2.511695e-05</td><td>6723238</td><td>-10.7099814</td><td>8.937295e-14</td></tr>\n",
       "\t<tr><th scope=row>8</th><td>left_center_media democratic - right_center_media republican </td><td>-2.490177e-04</td><td>3.425861e-05</td><td>6723238</td><td> -7.2687634</td><td>1.639000e-11</td></tr>\n",
       "\t<tr><th scope=row>9</th><td>left_center_media democratic - right_media republican        </td><td>-2.249415e-05</td><td>6.797832e-05</td><td>6723238</td><td> -0.3309018</td><td>9.999992e-01</td></tr>\n",
       "\t<tr><th scope=row>10</th><td>left_media democratic - mainstream democratic                </td><td>-2.628513e-04</td><td>6.944021e-05</td><td>6723238</td><td> -3.7852892</td><td>5.955577e-03</td></tr>\n",
       "\t<tr><th scope=row>11</th><td>left_media democratic - right_center_media democratic        </td><td>-2.950447e-04</td><td>7.098608e-05</td><td>6723238</td><td> -4.1563740</td><td>1.334525e-03</td></tr>\n",
       "\t<tr><th scope=row>12</th><td>left_media democratic - right_media democratic               </td><td>-3.997338e-04</td><td>1.214945e-04</td><td>6723238</td><td> -3.2901379</td><td>3.378096e-02</td></tr>\n",
       "\t<tr><th scope=row>13</th><td>left_media democratic - left_center_media republican         </td><td>-5.098687e-04</td><td>7.267234e-05</td><td>6723238</td><td> -7.0159935</td><td>1.027786e-10</td></tr>\n",
       "\t<tr><th scope=row>14</th><td>left_media democratic - left_media republican                </td><td>-4.155031e-04</td><td>5.419480e-05</td><td>6723238</td><td> -7.6668447</td><td>8.523182e-13</td></tr>\n",
       "\t<tr><th scope=row>15</th><td>left_media democratic - mainstream republican                </td><td>-5.018358e-04</td><td>7.087220e-05</td><td>6723238</td><td> -7.0808556</td><td>6.451895e-11</td></tr>\n",
       "\t<tr><th scope=row>16</th><td>left_media democratic - right_center_media republican        </td><td>-4.818514e-04</td><td>7.455952e-05</td><td>6723238</td><td> -6.4626414</td><td>4.624972e-09</td></tr>\n",
       "\t<tr><th scope=row>17</th><td>left_media democratic - right_media republican               </td><td>-2.553278e-04</td><td>9.458859e-05</td><td>6723238</td><td> -2.6993513</td><td>1.736914e-01</td></tr>\n",
       "\t<tr><th scope=row>18</th><td>mainstream democratic - right_center_media democratic        </td><td>-3.219344e-05</td><td>2.441147e-05</td><td>6723238</td><td> -1.3187834</td><td>9.496321e-01</td></tr>\n",
       "\t<tr><th scope=row>19</th><td>mainstream democratic - right_media democratic               </td><td>-1.368825e-04</td><td>1.018652e-04</td><td>6723238</td><td> -1.3437610</td><td>9.434542e-01</td></tr>\n",
       "\t<tr><th scope=row>20</th><td>mainstream democratic - left_center_media republican         </td><td>-2.470174e-04</td><td>3.120971e-05</td><td>6723238</td><td> -7.9147602</td><td>2.527978e-13</td></tr>\n",
       "\t<tr><th scope=row>21</th><td>mainstream democratic - left_media republican                </td><td>-1.526518e-04</td><td>5.766905e-05</td><td>6723238</td><td> -2.6470324</td><td>1.958524e-01</td></tr>\n",
       "\t<tr><th scope=row>22</th><td>mainstream democratic - mainstream republican                </td><td>-2.389845e-04</td><td>1.961397e-05</td><td>6723238</td><td>-12.1844044</td><td>0.000000e+00</td></tr>\n",
       "\t<tr><th scope=row>23</th><td>mainstream democratic - right_center_media republican        </td><td>-2.190002e-04</td><td>3.538452e-05</td><td>6723238</td><td> -6.1891512</td><td>2.716435e-08</td></tr>\n",
       "\t<tr><th scope=row>24</th><td>mainstream democratic - right_media republican               </td><td> 7.523443e-06</td><td>6.849741e-05</td><td>6723238</td><td>  0.1098354</td><td>1.000000e+00</td></tr>\n",
       "\t<tr><th scope=row>25</th><td>right_center_media democratic - right_media democratic       </td><td>-1.046891e-04</td><td>1.029006e-04</td><td>6723238</td><td> -1.0173806</td><td>9.913106e-01</td></tr>\n",
       "\t<tr><th scope=row>26</th><td>right_center_media democratic - left_center_media republican </td><td>-2.148240e-04</td><td>3.383293e-05</td><td>6723238</td><td> -6.3495535</td><td>9.703398e-09</td></tr>\n",
       "\t<tr><th scope=row>27</th><td>right_center_media democratic - left_media republican        </td><td>-1.204584e-04</td><td>5.911881e-05</td><td>6723238</td><td> -2.0375646</td><td>5.721702e-01</td></tr>\n",
       "\t<tr><th scope=row>28</th><td>right_center_media democratic - mainstream republican        </td><td>-2.067911e-04</td><td>2.964279e-05</td><td>6723238</td><td> -6.9761011</td><td>1.365882e-10</td></tr>\n",
       "\t<tr><th scope=row>29</th><td>right_center_media democratic - right_center_media republican</td><td>-1.868067e-04</td><td>2.387624e-05</td><td>6723238</td><td> -7.8239592</td><td>2.863265e-13</td></tr>\n",
       "\t<tr><th scope=row>30</th><td>right_center_media democratic - right_media republican       </td><td> 3.971688e-05</td><td>6.966888e-05</td><td>6723238</td><td>  0.5700806</td><td>9.999128e-01</td></tr>\n",
       "\t<tr><th scope=row>31</th><td>right_media democratic - left_center_media republican        </td><td>-1.101349e-04</td><td>1.041068e-04</td><td>6723238</td><td> -1.0579031</td><td>9.884912e-01</td></tr>\n",
       "\t<tr><th scope=row>32</th><td>right_media democratic - left_media republican               </td><td>-1.576931e-05</td><td>1.146584e-04</td><td>6723238</td><td> -0.1375331</td><td>1.000000e+00</td></tr>\n",
       "\t<tr><th scope=row>33</th><td>right_media democratic - mainstream republican               </td><td>-1.021020e-04</td><td>1.028667e-04</td><td>6723238</td><td> -0.9925656</td><td>9.927438e-01</td></tr>\n",
       "\t<tr><th scope=row>34</th><td>right_media democratic - right_center_media republican       </td><td>-8.211762e-05</td><td>1.053908e-04</td><td>6723238</td><td> -0.7791725</td><td>9.988654e-01</td></tr>\n",
       "\t<tr><th scope=row>35</th><td>right_media democratic - right_media republican              </td><td> 1.444060e-04</td><td>5.331160e-05</td><td>6723238</td><td>  2.7087160</td><td>1.699217e-01</td></tr>\n",
       "\t<tr><th scope=row>36</th><td>left_center_media republican - left_media republican         </td><td> 9.436557e-05</td><td>5.787612e-05</td><td>6723238</td><td>  1.6304751</td><td>8.334338e-01</td></tr>\n",
       "\t<tr><th scope=row>37</th><td>left_center_media republican - mainstream republican         </td><td> 8.032902e-06</td><td>2.751844e-05</td><td>6723238</td><td>  0.2919098</td><td>9.999997e-01</td></tr>\n",
       "\t<tr><th scope=row>38</th><td>left_center_media republican - right_center_media republican </td><td> 2.801725e-05</td><td>3.548274e-05</td><td>6723238</td><td>  0.7896023</td><td>9.987391e-01</td></tr>\n",
       "\t<tr><th scope=row>39</th><td>left_center_media republican - right_media republican        </td><td> 2.545408e-04</td><td>7.006516e-05</td><td>6723238</td><td>  3.6329163</td><td>1.049824e-02</td></tr>\n",
       "\t<tr><th scope=row>40</th><td>left_media republican - mainstream republican                </td><td>-8.633266e-05</td><td>5.670180e-05</td><td>6723238</td><td> -1.5225735</td><td>8.835071e-01</td></tr>\n",
       "\t<tr><th scope=row>41</th><td>left_media republican - right_center_media republican        </td><td>-6.634831e-05</td><td>6.095154e-05</td><td>6723238</td><td> -1.0885420</td><td>9.859135e-01</td></tr>\n",
       "\t<tr><th scope=row>42</th><td>left_media republican - right_media republican               </td><td> 1.601753e-04</td><td>8.548969e-05</td><td>6723238</td><td>  1.8736210</td><td>6.871232e-01</td></tr>\n",
       "\t<tr><th scope=row>43</th><td>mainstream republican - right_center_media republican        </td><td> 1.998435e-05</td><td>3.355442e-05</td><td>6723238</td><td>  0.5955803</td><td>9.998740e-01</td></tr>\n",
       "\t<tr><th scope=row>44</th><td>mainstream republican - right_media republican               </td><td> 2.465079e-04</td><td>6.901200e-05</td><td>6723238</td><td>  3.5719577</td><td>1.306573e-02</td></tr>\n",
       "\t<tr><th scope=row>45</th><td>right_center_media republican - right_media republican       </td><td> 2.265236e-04</td><td>7.249756e-05</td><td>6723238</td><td>  3.1245687</td><td>5.619811e-02</td></tr>\n",
       "</tbody>\n",
       "</table>\n",
       "</dd>\n",
       "</dl>\n"
      ],
      "text/latex": [
       "\\begin{description}\n",
       "\\item[\\$emtrends] A summary\\_emm: 10 × 7\n",
       "\\begin{tabular}{r|lllllll}\n",
       "  & outlet\\_category & party & relative\\_time.trend & SE & df & t.ratio & p.value\\\\\n",
       "  & <fct> & <fct> & <dbl> & <dbl> & <dbl> & <dbl> & <dbl>\\\\\n",
       "\\hline\n",
       "\t1 & left\\_center\\_media  & democratic & -8.340343e-05 & 1.501678e-05 & 6723238 & -5.5540154 & 2.791914e-08\\\\\n",
       "\t2 & left\\_media         & democratic & -3.162371e-04 & 6.796460e-05 & 6723238 & -4.6529682 & 3.271969e-06\\\\\n",
       "\t3 & mainstream         & democratic & -5.338583e-05 & 1.565020e-05 & 6723238 & -3.4111912 & 6.468009e-04\\\\\n",
       "\t4 & right\\_center\\_media & democratic & -2.119240e-05 & 2.097462e-05 & 6723238 & -1.0103830 & 3.123119e-01\\\\\n",
       "\t5 & right\\_media        & democratic &  8.349669e-05 & 1.008216e-04 & 6723238 &  0.8281625 & 4.075785e-01\\\\\n",
       "\t6 & left\\_center\\_media  & republican &  1.936316e-04 & 2.371174e-05 & 6723238 &  8.1660626 & 3.186723e-16\\\\\n",
       "\t7 & left\\_media         & republican &  9.926601e-05 & 5.441294e-05 & 6723238 &  1.8243086 & 6.810547e-02\\\\\n",
       "\t8 & mainstream         & republican &  1.855987e-04 & 1.895075e-05 & 6723238 &  9.7937352 & 1.198290e-22\\\\\n",
       "\t9 & right\\_center\\_media & republican &  1.656143e-04 & 2.972831e-05 & 6723238 &  5.5709295 & 2.533934e-08\\\\\n",
       "\t10 & right\\_media        & republican & -6.090928e-05 & 6.637195e-05 & 6723238 & -0.9176961 & 3.587780e-01\\\\\n",
       "\\end{tabular}\n",
       "\n",
       "\\item[\\$contrasts] A summary\\_emm: 45 × 6\n",
       "\\begin{tabular}{r|llllll}\n",
       "  & contrast & estimate & SE & df & t.ratio & p.value\\\\\n",
       "  & <fct> & <dbl> & <dbl> & <dbl> & <dbl> & <dbl>\\\\\n",
       "\\hline\n",
       "\t1 & left\\_center\\_media democratic - left\\_media democratic          &  2.328337e-04 & 6.966218e-05 & 6723238 &   3.3423255 & 2.855404e-02\\\\\n",
       "\t2 & left\\_center\\_media democratic - mainstream democratic          & -3.001759e-05 & 2.031102e-05 & 6723238 &  -1.4778968 & 9.011667e-01\\\\\n",
       "\t3 & left\\_center\\_media democratic - right\\_center\\_media democratic  & -6.221103e-05 & 2.511625e-05 & 6723238 &  -2.4769238 & 2.808733e-01\\\\\n",
       "\t4 & left\\_center\\_media democratic - right\\_media democratic         & -1.669001e-04 & 1.020093e-04 & 6723238 &  -1.6361260 & 8.305300e-01\\\\\n",
       "\t5 & left\\_center\\_media democratic - left\\_center\\_media republican   & -2.770350e-04 & 2.215581e-05 & 6723238 & -12.5039428 & 0.000000e+00\\\\\n",
       "\t6 & left\\_center\\_media democratic - left\\_media republican          & -1.826694e-04 & 5.699628e-05 & 6723238 &  -3.2049361 & 4.410141e-02\\\\\n",
       "\t7 & left\\_center\\_media democratic - mainstream republican          & -2.690021e-04 & 2.511695e-05 & 6723238 & -10.7099814 & 8.937295e-14\\\\\n",
       "\t8 & left\\_center\\_media democratic - right\\_center\\_media republican  & -2.490177e-04 & 3.425861e-05 & 6723238 &  -7.2687634 & 1.639000e-11\\\\\n",
       "\t9 & left\\_center\\_media democratic - right\\_media republican         & -2.249415e-05 & 6.797832e-05 & 6723238 &  -0.3309018 & 9.999992e-01\\\\\n",
       "\t10 & left\\_media democratic - mainstream democratic                 & -2.628513e-04 & 6.944021e-05 & 6723238 &  -3.7852892 & 5.955577e-03\\\\\n",
       "\t11 & left\\_media democratic - right\\_center\\_media democratic         & -2.950447e-04 & 7.098608e-05 & 6723238 &  -4.1563740 & 1.334525e-03\\\\\n",
       "\t12 & left\\_media democratic - right\\_media democratic                & -3.997338e-04 & 1.214945e-04 & 6723238 &  -3.2901379 & 3.378096e-02\\\\\n",
       "\t13 & left\\_media democratic - left\\_center\\_media republican          & -5.098687e-04 & 7.267234e-05 & 6723238 &  -7.0159935 & 1.027786e-10\\\\\n",
       "\t14 & left\\_media democratic - left\\_media republican                 & -4.155031e-04 & 5.419480e-05 & 6723238 &  -7.6668447 & 8.523182e-13\\\\\n",
       "\t15 & left\\_media democratic - mainstream republican                 & -5.018358e-04 & 7.087220e-05 & 6723238 &  -7.0808556 & 6.451895e-11\\\\\n",
       "\t16 & left\\_media democratic - right\\_center\\_media republican         & -4.818514e-04 & 7.455952e-05 & 6723238 &  -6.4626414 & 4.624972e-09\\\\\n",
       "\t17 & left\\_media democratic - right\\_media republican                & -2.553278e-04 & 9.458859e-05 & 6723238 &  -2.6993513 & 1.736914e-01\\\\\n",
       "\t18 & mainstream democratic - right\\_center\\_media democratic         & -3.219344e-05 & 2.441147e-05 & 6723238 &  -1.3187834 & 9.496321e-01\\\\\n",
       "\t19 & mainstream democratic - right\\_media democratic                & -1.368825e-04 & 1.018652e-04 & 6723238 &  -1.3437610 & 9.434542e-01\\\\\n",
       "\t20 & mainstream democratic - left\\_center\\_media republican          & -2.470174e-04 & 3.120971e-05 & 6723238 &  -7.9147602 & 2.527978e-13\\\\\n",
       "\t21 & mainstream democratic - left\\_media republican                 & -1.526518e-04 & 5.766905e-05 & 6723238 &  -2.6470324 & 1.958524e-01\\\\\n",
       "\t22 & mainstream democratic - mainstream republican                 & -2.389845e-04 & 1.961397e-05 & 6723238 & -12.1844044 & 0.000000e+00\\\\\n",
       "\t23 & mainstream democratic - right\\_center\\_media republican         & -2.190002e-04 & 3.538452e-05 & 6723238 &  -6.1891512 & 2.716435e-08\\\\\n",
       "\t24 & mainstream democratic - right\\_media republican                &  7.523443e-06 & 6.849741e-05 & 6723238 &   0.1098354 & 1.000000e+00\\\\\n",
       "\t25 & right\\_center\\_media democratic - right\\_media democratic        & -1.046891e-04 & 1.029006e-04 & 6723238 &  -1.0173806 & 9.913106e-01\\\\\n",
       "\t26 & right\\_center\\_media democratic - left\\_center\\_media republican  & -2.148240e-04 & 3.383293e-05 & 6723238 &  -6.3495535 & 9.703398e-09\\\\\n",
       "\t27 & right\\_center\\_media democratic - left\\_media republican         & -1.204584e-04 & 5.911881e-05 & 6723238 &  -2.0375646 & 5.721702e-01\\\\\n",
       "\t28 & right\\_center\\_media democratic - mainstream republican         & -2.067911e-04 & 2.964279e-05 & 6723238 &  -6.9761011 & 1.365882e-10\\\\\n",
       "\t29 & right\\_center\\_media democratic - right\\_center\\_media republican & -1.868067e-04 & 2.387624e-05 & 6723238 &  -7.8239592 & 2.863265e-13\\\\\n",
       "\t30 & right\\_center\\_media democratic - right\\_media republican        &  3.971688e-05 & 6.966888e-05 & 6723238 &   0.5700806 & 9.999128e-01\\\\\n",
       "\t31 & right\\_media democratic - left\\_center\\_media republican         & -1.101349e-04 & 1.041068e-04 & 6723238 &  -1.0579031 & 9.884912e-01\\\\\n",
       "\t32 & right\\_media democratic - left\\_media republican                & -1.576931e-05 & 1.146584e-04 & 6723238 &  -0.1375331 & 1.000000e+00\\\\\n",
       "\t33 & right\\_media democratic - mainstream republican                & -1.021020e-04 & 1.028667e-04 & 6723238 &  -0.9925656 & 9.927438e-01\\\\\n",
       "\t34 & right\\_media democratic - right\\_center\\_media republican        & -8.211762e-05 & 1.053908e-04 & 6723238 &  -0.7791725 & 9.988654e-01\\\\\n",
       "\t35 & right\\_media democratic - right\\_media republican               &  1.444060e-04 & 5.331160e-05 & 6723238 &   2.7087160 & 1.699217e-01\\\\\n",
       "\t36 & left\\_center\\_media republican - left\\_media republican          &  9.436557e-05 & 5.787612e-05 & 6723238 &   1.6304751 & 8.334338e-01\\\\\n",
       "\t37 & left\\_center\\_media republican - mainstream republican          &  8.032902e-06 & 2.751844e-05 & 6723238 &   0.2919098 & 9.999997e-01\\\\\n",
       "\t38 & left\\_center\\_media republican - right\\_center\\_media republican  &  2.801725e-05 & 3.548274e-05 & 6723238 &   0.7896023 & 9.987391e-01\\\\\n",
       "\t39 & left\\_center\\_media republican - right\\_media republican         &  2.545408e-04 & 7.006516e-05 & 6723238 &   3.6329163 & 1.049824e-02\\\\\n",
       "\t40 & left\\_media republican - mainstream republican                 & -8.633266e-05 & 5.670180e-05 & 6723238 &  -1.5225735 & 8.835071e-01\\\\\n",
       "\t41 & left\\_media republican - right\\_center\\_media republican         & -6.634831e-05 & 6.095154e-05 & 6723238 &  -1.0885420 & 9.859135e-01\\\\\n",
       "\t42 & left\\_media republican - right\\_media republican                &  1.601753e-04 & 8.548969e-05 & 6723238 &   1.8736210 & 6.871232e-01\\\\\n",
       "\t43 & mainstream republican - right\\_center\\_media republican         &  1.998435e-05 & 3.355442e-05 & 6723238 &   0.5955803 & 9.998740e-01\\\\\n",
       "\t44 & mainstream republican - right\\_media republican                &  2.465079e-04 & 6.901200e-05 & 6723238 &   3.5719577 & 1.306573e-02\\\\\n",
       "\t45 & right\\_center\\_media republican - right\\_media republican        &  2.265236e-04 & 7.249756e-05 & 6723238 &   3.1245687 & 5.619811e-02\\\\\n",
       "\\end{tabular}\n",
       "\n",
       "\\end{description}\n"
      ],
      "text/markdown": [
       "$emtrends\n",
       ":   \n",
       "A summary_emm: 10 × 7\n",
       "\n",
       "| <!--/--> | outlet_category &lt;fct&gt; | party &lt;fct&gt; | relative_time.trend &lt;dbl&gt; | SE &lt;dbl&gt; | df &lt;dbl&gt; | t.ratio &lt;dbl&gt; | p.value &lt;dbl&gt; |\n",
       "|---|---|---|---|---|---|---|---|\n",
       "| 1 | left_center_media  | democratic | -8.340343e-05 | 1.501678e-05 | 6723238 | -5.5540154 | 2.791914e-08 |\n",
       "| 2 | left_media         | democratic | -3.162371e-04 | 6.796460e-05 | 6723238 | -4.6529682 | 3.271969e-06 |\n",
       "| 3 | mainstream         | democratic | -5.338583e-05 | 1.565020e-05 | 6723238 | -3.4111912 | 6.468009e-04 |\n",
       "| 4 | right_center_media | democratic | -2.119240e-05 | 2.097462e-05 | 6723238 | -1.0103830 | 3.123119e-01 |\n",
       "| 5 | right_media        | democratic |  8.349669e-05 | 1.008216e-04 | 6723238 |  0.8281625 | 4.075785e-01 |\n",
       "| 6 | left_center_media  | republican |  1.936316e-04 | 2.371174e-05 | 6723238 |  8.1660626 | 3.186723e-16 |\n",
       "| 7 | left_media         | republican |  9.926601e-05 | 5.441294e-05 | 6723238 |  1.8243086 | 6.810547e-02 |\n",
       "| 8 | mainstream         | republican |  1.855987e-04 | 1.895075e-05 | 6723238 |  9.7937352 | 1.198290e-22 |\n",
       "| 9 | right_center_media | republican |  1.656143e-04 | 2.972831e-05 | 6723238 |  5.5709295 | 2.533934e-08 |\n",
       "| 10 | right_media        | republican | -6.090928e-05 | 6.637195e-05 | 6723238 | -0.9176961 | 3.587780e-01 |\n",
       "\n",
       "\n",
       "$contrasts\n",
       ":   \n",
       "A summary_emm: 45 × 6\n",
       "\n",
       "| <!--/--> | contrast &lt;fct&gt; | estimate &lt;dbl&gt; | SE &lt;dbl&gt; | df &lt;dbl&gt; | t.ratio &lt;dbl&gt; | p.value &lt;dbl&gt; |\n",
       "|---|---|---|---|---|---|---|\n",
       "| 1 | left_center_media democratic - left_media democratic          |  2.328337e-04 | 6.966218e-05 | 6723238 |   3.3423255 | 2.855404e-02 |\n",
       "| 2 | left_center_media democratic - mainstream democratic          | -3.001759e-05 | 2.031102e-05 | 6723238 |  -1.4778968 | 9.011667e-01 |\n",
       "| 3 | left_center_media democratic - right_center_media democratic  | -6.221103e-05 | 2.511625e-05 | 6723238 |  -2.4769238 | 2.808733e-01 |\n",
       "| 4 | left_center_media democratic - right_media democratic         | -1.669001e-04 | 1.020093e-04 | 6723238 |  -1.6361260 | 8.305300e-01 |\n",
       "| 5 | left_center_media democratic - left_center_media republican   | -2.770350e-04 | 2.215581e-05 | 6723238 | -12.5039428 | 0.000000e+00 |\n",
       "| 6 | left_center_media democratic - left_media republican          | -1.826694e-04 | 5.699628e-05 | 6723238 |  -3.2049361 | 4.410141e-02 |\n",
       "| 7 | left_center_media democratic - mainstream republican          | -2.690021e-04 | 2.511695e-05 | 6723238 | -10.7099814 | 8.937295e-14 |\n",
       "| 8 | left_center_media democratic - right_center_media republican  | -2.490177e-04 | 3.425861e-05 | 6723238 |  -7.2687634 | 1.639000e-11 |\n",
       "| 9 | left_center_media democratic - right_media republican         | -2.249415e-05 | 6.797832e-05 | 6723238 |  -0.3309018 | 9.999992e-01 |\n",
       "| 10 | left_media democratic - mainstream democratic                 | -2.628513e-04 | 6.944021e-05 | 6723238 |  -3.7852892 | 5.955577e-03 |\n",
       "| 11 | left_media democratic - right_center_media democratic         | -2.950447e-04 | 7.098608e-05 | 6723238 |  -4.1563740 | 1.334525e-03 |\n",
       "| 12 | left_media democratic - right_media democratic                | -3.997338e-04 | 1.214945e-04 | 6723238 |  -3.2901379 | 3.378096e-02 |\n",
       "| 13 | left_media democratic - left_center_media republican          | -5.098687e-04 | 7.267234e-05 | 6723238 |  -7.0159935 | 1.027786e-10 |\n",
       "| 14 | left_media democratic - left_media republican                 | -4.155031e-04 | 5.419480e-05 | 6723238 |  -7.6668447 | 8.523182e-13 |\n",
       "| 15 | left_media democratic - mainstream republican                 | -5.018358e-04 | 7.087220e-05 | 6723238 |  -7.0808556 | 6.451895e-11 |\n",
       "| 16 | left_media democratic - right_center_media republican         | -4.818514e-04 | 7.455952e-05 | 6723238 |  -6.4626414 | 4.624972e-09 |\n",
       "| 17 | left_media democratic - right_media republican                | -2.553278e-04 | 9.458859e-05 | 6723238 |  -2.6993513 | 1.736914e-01 |\n",
       "| 18 | mainstream democratic - right_center_media democratic         | -3.219344e-05 | 2.441147e-05 | 6723238 |  -1.3187834 | 9.496321e-01 |\n",
       "| 19 | mainstream democratic - right_media democratic                | -1.368825e-04 | 1.018652e-04 | 6723238 |  -1.3437610 | 9.434542e-01 |\n",
       "| 20 | mainstream democratic - left_center_media republican          | -2.470174e-04 | 3.120971e-05 | 6723238 |  -7.9147602 | 2.527978e-13 |\n",
       "| 21 | mainstream democratic - left_media republican                 | -1.526518e-04 | 5.766905e-05 | 6723238 |  -2.6470324 | 1.958524e-01 |\n",
       "| 22 | mainstream democratic - mainstream republican                 | -2.389845e-04 | 1.961397e-05 | 6723238 | -12.1844044 | 0.000000e+00 |\n",
       "| 23 | mainstream democratic - right_center_media republican         | -2.190002e-04 | 3.538452e-05 | 6723238 |  -6.1891512 | 2.716435e-08 |\n",
       "| 24 | mainstream democratic - right_media republican                |  7.523443e-06 | 6.849741e-05 | 6723238 |   0.1098354 | 1.000000e+00 |\n",
       "| 25 | right_center_media democratic - right_media democratic        | -1.046891e-04 | 1.029006e-04 | 6723238 |  -1.0173806 | 9.913106e-01 |\n",
       "| 26 | right_center_media democratic - left_center_media republican  | -2.148240e-04 | 3.383293e-05 | 6723238 |  -6.3495535 | 9.703398e-09 |\n",
       "| 27 | right_center_media democratic - left_media republican         | -1.204584e-04 | 5.911881e-05 | 6723238 |  -2.0375646 | 5.721702e-01 |\n",
       "| 28 | right_center_media democratic - mainstream republican         | -2.067911e-04 | 2.964279e-05 | 6723238 |  -6.9761011 | 1.365882e-10 |\n",
       "| 29 | right_center_media democratic - right_center_media republican | -1.868067e-04 | 2.387624e-05 | 6723238 |  -7.8239592 | 2.863265e-13 |\n",
       "| 30 | right_center_media democratic - right_media republican        |  3.971688e-05 | 6.966888e-05 | 6723238 |   0.5700806 | 9.999128e-01 |\n",
       "| 31 | right_media democratic - left_center_media republican         | -1.101349e-04 | 1.041068e-04 | 6723238 |  -1.0579031 | 9.884912e-01 |\n",
       "| 32 | right_media democratic - left_media republican                | -1.576931e-05 | 1.146584e-04 | 6723238 |  -0.1375331 | 1.000000e+00 |\n",
       "| 33 | right_media democratic - mainstream republican                | -1.021020e-04 | 1.028667e-04 | 6723238 |  -0.9925656 | 9.927438e-01 |\n",
       "| 34 | right_media democratic - right_center_media republican        | -8.211762e-05 | 1.053908e-04 | 6723238 |  -0.7791725 | 9.988654e-01 |\n",
       "| 35 | right_media democratic - right_media republican               |  1.444060e-04 | 5.331160e-05 | 6723238 |   2.7087160 | 1.699217e-01 |\n",
       "| 36 | left_center_media republican - left_media republican          |  9.436557e-05 | 5.787612e-05 | 6723238 |   1.6304751 | 8.334338e-01 |\n",
       "| 37 | left_center_media republican - mainstream republican          |  8.032902e-06 | 2.751844e-05 | 6723238 |   0.2919098 | 9.999997e-01 |\n",
       "| 38 | left_center_media republican - right_center_media republican  |  2.801725e-05 | 3.548274e-05 | 6723238 |   0.7896023 | 9.987391e-01 |\n",
       "| 39 | left_center_media republican - right_media republican         |  2.545408e-04 | 7.006516e-05 | 6723238 |   3.6329163 | 1.049824e-02 |\n",
       "| 40 | left_media republican - mainstream republican                 | -8.633266e-05 | 5.670180e-05 | 6723238 |  -1.5225735 | 8.835071e-01 |\n",
       "| 41 | left_media republican - right_center_media republican         | -6.634831e-05 | 6.095154e-05 | 6723238 |  -1.0885420 | 9.859135e-01 |\n",
       "| 42 | left_media republican - right_media republican                |  1.601753e-04 | 8.548969e-05 | 6723238 |   1.8736210 | 6.871232e-01 |\n",
       "| 43 | mainstream republican - right_center_media republican         |  1.998435e-05 | 3.355442e-05 | 6723238 |   0.5955803 | 9.998740e-01 |\n",
       "| 44 | mainstream republican - right_media republican                |  2.465079e-04 | 6.901200e-05 | 6723238 |   3.5719577 | 1.306573e-02 |\n",
       "| 45 | right_center_media republican - right_media republican        |  2.265236e-04 | 7.249756e-05 | 6723238 |   3.1245687 | 5.619811e-02 |\n",
       "\n",
       "\n",
       "\n",
       "\n"
      ],
      "text/plain": [
       "$emtrends\n",
       " outlet_category    party      relative_time.trend       SE      df t.ratio\n",
       " left_center_media  democratic           -8.34e-05 1.50e-05 6723238  -5.554\n",
       " left_media         democratic           -3.16e-04 6.80e-05 6723238  -4.653\n",
       " mainstream         democratic           -5.34e-05 1.57e-05 6723238  -3.411\n",
       " right_center_media democratic           -2.12e-05 2.10e-05 6723238  -1.010\n",
       " right_media        democratic            8.35e-05 1.01e-04 6723238   0.828\n",
       " left_center_media  republican            1.94e-04 2.37e-05 6723238   8.166\n",
       " left_media         republican            9.93e-05 5.44e-05 6723238   1.824\n",
       " mainstream         republican            1.86e-04 1.90e-05 6723238   9.794\n",
       " right_center_media republican            1.66e-04 2.97e-05 6723238   5.571\n",
       " right_media        republican           -6.09e-05 6.64e-05 6723238  -0.918\n",
       " p.value\n",
       "  <.0001\n",
       "  <.0001\n",
       "  0.0006\n",
       "  0.3123\n",
       "  0.4076\n",
       "  <.0001\n",
       "  0.0681\n",
       "  <.0001\n",
       "  <.0001\n",
       "  0.3588\n",
       "\n",
       "\n",
       "$contrasts\n",
       " contrast                                                       estimate\n",
       " left_center_media democratic - left_media democratic           2.33e-04\n",
       " left_center_media democratic - mainstream democratic          -3.00e-05\n",
       " left_center_media democratic - right_center_media democratic  -6.22e-05\n",
       " left_center_media democratic - right_media democratic         -1.67e-04\n",
       " left_center_media democratic - left_center_media republican   -2.77e-04\n",
       " left_center_media democratic - left_media republican          -1.83e-04\n",
       " left_center_media democratic - mainstream republican          -2.69e-04\n",
       " left_center_media democratic - right_center_media republican  -2.49e-04\n",
       " left_center_media democratic - right_media republican         -2.25e-05\n",
       " left_media democratic - mainstream democratic                 -2.63e-04\n",
       " left_media democratic - right_center_media democratic         -2.95e-04\n",
       " left_media democratic - right_media democratic                -4.00e-04\n",
       " left_media democratic - left_center_media republican          -5.10e-04\n",
       " left_media democratic - left_media republican                 -4.16e-04\n",
       " left_media democratic - mainstream republican                 -5.02e-04\n",
       " left_media democratic - right_center_media republican         -4.82e-04\n",
       " left_media democratic - right_media republican                -2.55e-04\n",
       " mainstream democratic - right_center_media democratic         -3.22e-05\n",
       " mainstream democratic - right_media democratic                -1.37e-04\n",
       " mainstream democratic - left_center_media republican          -2.47e-04\n",
       " mainstream democratic - left_media republican                 -1.53e-04\n",
       " mainstream democratic - mainstream republican                 -2.39e-04\n",
       " mainstream democratic - right_center_media republican         -2.19e-04\n",
       " mainstream democratic - right_media republican                 7.52e-06\n",
       " right_center_media democratic - right_media democratic        -1.05e-04\n",
       " right_center_media democratic - left_center_media republican  -2.15e-04\n",
       " right_center_media democratic - left_media republican         -1.20e-04\n",
       " right_center_media democratic - mainstream republican         -2.07e-04\n",
       " right_center_media democratic - right_center_media republican -1.87e-04\n",
       " right_center_media democratic - right_media republican         3.97e-05\n",
       " right_media democratic - left_center_media republican         -1.10e-04\n",
       " right_media democratic - left_media republican                -1.58e-05\n",
       " right_media democratic - mainstream republican                -1.02e-04\n",
       " right_media democratic - right_center_media republican        -8.21e-05\n",
       " right_media democratic - right_media republican                1.44e-04\n",
       " left_center_media republican - left_media republican           9.44e-05\n",
       " left_center_media republican - mainstream republican           8.03e-06\n",
       " left_center_media republican - right_center_media republican   2.80e-05\n",
       " left_center_media republican - right_media republican          2.55e-04\n",
       " left_media republican - mainstream republican                 -8.63e-05\n",
       " left_media republican - right_center_media republican         -6.63e-05\n",
       " left_media republican - right_media republican                 1.60e-04\n",
       " mainstream republican - right_center_media republican          2.00e-05\n",
       " mainstream republican - right_media republican                 2.47e-04\n",
       " right_center_media republican - right_media republican         2.27e-04\n",
       "       SE      df t.ratio p.value\n",
       " 6.97e-05 6723238   3.342  0.0286\n",
       " 2.03e-05 6723238  -1.478  0.9012\n",
       " 2.51e-05 6723238  -2.477  0.2809\n",
       " 1.02e-04 6723238  -1.636  0.8305\n",
       " 2.22e-05 6723238 -12.504  <.0001\n",
       " 5.70e-05 6723238  -3.205  0.0441\n",
       " 2.51e-05 6723238 -10.710  <.0001\n",
       " 3.43e-05 6723238  -7.269  <.0001\n",
       " 6.80e-05 6723238  -0.331  1.0000\n",
       " 6.94e-05 6723238  -3.785  0.0060\n",
       " 7.10e-05 6723238  -4.156  0.0013\n",
       " 1.21e-04 6723238  -3.290  0.0338\n",
       " 7.27e-05 6723238  -7.016  <.0001\n",
       " 5.42e-05 6723238  -7.667  <.0001\n",
       " 7.09e-05 6723238  -7.081  <.0001\n",
       " 7.46e-05 6723238  -6.463  <.0001\n",
       " 9.46e-05 6723238  -2.699  0.1737\n",
       " 2.44e-05 6723238  -1.319  0.9496\n",
       " 1.02e-04 6723238  -1.344  0.9435\n",
       " 3.12e-05 6723238  -7.915  <.0001\n",
       " 5.77e-05 6723238  -2.647  0.1959\n",
       " 1.96e-05 6723238 -12.184  <.0001\n",
       " 3.54e-05 6723238  -6.189  <.0001\n",
       " 6.85e-05 6723238   0.110  1.0000\n",
       " 1.03e-04 6723238  -1.017  0.9913\n",
       " 3.38e-05 6723238  -6.350  <.0001\n",
       " 5.91e-05 6723238  -2.038  0.5722\n",
       " 2.96e-05 6723238  -6.976  <.0001\n",
       " 2.39e-05 6723238  -7.824  <.0001\n",
       " 6.97e-05 6723238   0.570  0.9999\n",
       " 1.04e-04 6723238  -1.058  0.9885\n",
       " 1.15e-04 6723238  -0.138  1.0000\n",
       " 1.03e-04 6723238  -0.993  0.9927\n",
       " 1.05e-04 6723238  -0.779  0.9989\n",
       " 5.33e-05 6723238   2.709  0.1699\n",
       " 5.79e-05 6723238   1.630  0.8334\n",
       " 2.75e-05 6723238   0.292  1.0000\n",
       " 3.55e-05 6723238   0.790  0.9987\n",
       " 7.01e-05 6723238   3.633  0.0105\n",
       " 5.67e-05 6723238  -1.523  0.8835\n",
       " 6.10e-05 6723238  -1.089  0.9859\n",
       " 8.55e-05 6723238   1.874  0.6871\n",
       " 3.36e-05 6723238   0.596  0.9999\n",
       " 6.90e-05 6723238   3.572  0.0131\n",
       " 7.25e-05 6723238   3.125  0.0562\n",
       "\n",
       "P value adjustment: tukey method for comparing a family of 10 estimates \n"
      ]
     },
     "metadata": {},
     "output_type": "display_data"
    }
   ],
   "source": [
    "emmeans_plot_3"
   ]
  },
  {
   "cell_type": "code",
   "execution_count": 169,
   "id": "6daa90ac",
   "metadata": {},
   "outputs": [],
   "source": [
    "emmeans_plot_3_table=as.data.table(emmeans_plot_3$contrasts)\n",
    "emmeans_plot_3_table=emmeans_plot_3_table[c(14,5,22,29,35),]\n",
    "emmeans_plot_3_table$contrast=c('Left','Left-Center','Least-Biased','Right-Center','Right')\n",
    "emmeans_plot_3_table$estimate=emmeans_plot_3_table$estimate*12*100\n",
    "emmeans_plot_3_table$SE=emmeans_plot_3_table$SE*12*100\n",
    "emmeans_plot_3_table$estimate=round(emmeans_plot_3_table$estimate,4)\n"
   ]
  },
  {
   "cell_type": "code",
   "execution_count": 170,
   "id": "be4de2e1",
   "metadata": {},
   "outputs": [
    {
     "data": {
      "text/html": [
       "<table class=\"dataframe\">\n",
       "<caption>A data.table: 5 × 6</caption>\n",
       "<thead>\n",
       "\t<tr><th scope=col>contrast</th><th scope=col>estimate</th><th scope=col>SE</th><th scope=col>df</th><th scope=col>t.ratio</th><th scope=col>p.value</th></tr>\n",
       "\t<tr><th scope=col>&lt;chr&gt;</th><th scope=col>&lt;dbl&gt;</th><th scope=col>&lt;dbl&gt;</th><th scope=col>&lt;dbl&gt;</th><th scope=col>&lt;dbl&gt;</th><th scope=col>&lt;dbl&gt;</th></tr>\n",
       "</thead>\n",
       "<tbody>\n",
       "\t<tr><td>Left        </td><td>-0.4986</td><td>0.06503376</td><td>6723238</td><td> -7.666845</td><td>8.523182e-13</td></tr>\n",
       "\t<tr><td>Left-Center </td><td>-0.3324</td><td>0.02658697</td><td>6723238</td><td>-12.503943</td><td>0.000000e+00</td></tr>\n",
       "\t<tr><td>Least-Biased</td><td>-0.2868</td><td>0.02353676</td><td>6723238</td><td>-12.184404</td><td>0.000000e+00</td></tr>\n",
       "\t<tr><td>Right-Center</td><td>-0.2242</td><td>0.02865149</td><td>6723238</td><td> -7.823959</td><td>2.863265e-13</td></tr>\n",
       "\t<tr><td>Right       </td><td> 0.1733</td><td>0.06397391</td><td>6723238</td><td>  2.708716</td><td>1.699217e-01</td></tr>\n",
       "</tbody>\n",
       "</table>\n"
      ],
      "text/latex": [
       "A data.table: 5 × 6\n",
       "\\begin{tabular}{llllll}\n",
       " contrast & estimate & SE & df & t.ratio & p.value\\\\\n",
       " <chr> & <dbl> & <dbl> & <dbl> & <dbl> & <dbl>\\\\\n",
       "\\hline\n",
       "\t Left         & -0.4986 & 0.06503376 & 6723238 &  -7.666845 & 8.523182e-13\\\\\n",
       "\t Left-Center  & -0.3324 & 0.02658697 & 6723238 & -12.503943 & 0.000000e+00\\\\\n",
       "\t Least-Biased & -0.2868 & 0.02353676 & 6723238 & -12.184404 & 0.000000e+00\\\\\n",
       "\t Right-Center & -0.2242 & 0.02865149 & 6723238 &  -7.823959 & 2.863265e-13\\\\\n",
       "\t Right        &  0.1733 & 0.06397391 & 6723238 &   2.708716 & 1.699217e-01\\\\\n",
       "\\end{tabular}\n"
      ],
      "text/markdown": [
       "\n",
       "A data.table: 5 × 6\n",
       "\n",
       "| contrast &lt;chr&gt; | estimate &lt;dbl&gt; | SE &lt;dbl&gt; | df &lt;dbl&gt; | t.ratio &lt;dbl&gt; | p.value &lt;dbl&gt; |\n",
       "|---|---|---|---|---|---|\n",
       "| Left         | -0.4986 | 0.06503376 | 6723238 |  -7.666845 | 8.523182e-13 |\n",
       "| Left-Center  | -0.3324 | 0.02658697 | 6723238 | -12.503943 | 0.000000e+00 |\n",
       "| Least-Biased | -0.2868 | 0.02353676 | 6723238 | -12.184404 | 0.000000e+00 |\n",
       "| Right-Center | -0.2242 | 0.02865149 | 6723238 |  -7.823959 | 2.863265e-13 |\n",
       "| Right        |  0.1733 | 0.06397391 | 6723238 |   2.708716 | 1.699217e-01 |\n",
       "\n"
      ],
      "text/plain": [
       "  contrast     estimate SE         df      t.ratio    p.value     \n",
       "1 Left         -0.4986  0.06503376 6723238  -7.666845 8.523182e-13\n",
       "2 Left-Center  -0.3324  0.02658697 6723238 -12.503943 0.000000e+00\n",
       "3 Least-Biased -0.2868  0.02353676 6723238 -12.184404 0.000000e+00\n",
       "4 Right-Center -0.2242  0.02865149 6723238  -7.823959 2.863265e-13\n",
       "5 Right         0.1733  0.06397391 6723238   2.708716 1.699217e-01"
      ]
     },
     "metadata": {},
     "output_type": "display_data"
    }
   ],
   "source": [
    "emmeans_plot_3_table"
   ]
  },
  {
   "cell_type": "code",
   "execution_count": 172,
   "id": "c8942793",
   "metadata": {},
   "outputs": [
    {
     "name": "stdout",
     "output_type": "stream",
     "text": [
      "% latex table generated in R 3.6.3 by xtable 1.8-4 package\n",
      "% Sat Jan 14 17:09:20 2023\n",
      "\\begin{table}[ht]\n",
      "\\centering\n",
      "\\begin{tabular}{lrrrr}\n",
      "  \\toprule\n",
      "contrast & estimate & SE & t.ratio & p.value \\\\ \n",
      "  \\midrule\n",
      "Left & -0.50 & 0.07 & -7.67 & 0.000 \\\\ \n",
      "  Left-Center & -0.33 & 0.03 & -12.50 & 0.000 \\\\ \n",
      "  Least-Biased & -0.29 & 0.02 & -12.18 & 0.000 \\\\ \n",
      "  Right-Center & -0.22 & 0.03 & -7.82 & 0.000 \\\\ \n",
      "  Right & 0.17 & 0.06 & 2.71 & 0.170 \\\\ \n",
      "   \\bottomrule\n",
      "\\end{tabular}\n",
      "\\end{table}\n"
     ]
    }
   ],
   "source": [
    "print(xtable((emmeans_plot_3_table)[,c(1,2,3,5,6)],digits=c(-5,-2,2,2,2,3)), include.rownames = F,booktabs=T)\n"
   ]
  },
  {
   "cell_type": "markdown",
   "id": "d506ee2d",
   "metadata": {},
   "source": [
    "# matched analysis (for equation 2, matched analysis)"
   ]
  },
  {
   "cell_type": "code",
   "execution_count": 31,
   "id": "077296ba",
   "metadata": {},
   "outputs": [],
   "source": [
    "dF_matched <- fread('zstdcat quote_centric_regression_withmatch.zst')\n"
   ]
  },
  {
   "cell_type": "code",
   "execution_count": 32,
   "id": "36f20fe1",
   "metadata": {},
   "outputs": [],
   "source": [
    "dF_matched_selected <- select(dF_matched, outlet_lean_binary,cluster_assignment,domain, party, professional_verb,unprofessional_verb,outlet_category,outlet_category_binary,relative_time,speaker_verbosity_weight,yearmonth,top_speaker,domain_proxy,verb_trf)\n"
   ]
  },
  {
   "cell_type": "code",
   "execution_count": 33,
   "id": "668bdb48",
   "metadata": {},
   "outputs": [],
   "source": [
    "dF_matched_selected <- dF_matched_selected[dF_matched_selected$verb_trf != 'opine']\n",
    "dF_matched_selected <- dF_matched_selected[dF_matched_selected$verb_trf != 'pen']\n",
    "dF_matched_selected <- dF_matched_selected[dF_matched_selected$verb_trf != 'utter']\n"
   ]
  },
  {
   "cell_type": "code",
   "execution_count": 34,
   "id": "c0a247c7",
   "metadata": {},
   "outputs": [],
   "source": [
    "model2_matched=lm(unprofessional_verb ~ factor(outlet_lean_binary) + factor(party) + factor(outlet_lean_binary):factor(party), data = dF_matched_selected)"
   ]
  },
  {
   "cell_type": "code",
   "execution_count": 35,
   "id": "0d04a803",
   "metadata": {},
   "outputs": [],
   "source": [
    "cl_vcov_mat2_matched <- vcovCL(model2_matched,cluster = factor(dF_matched_selected$domain))\n"
   ]
  },
  {
   "cell_type": "code",
   "execution_count": 36,
   "id": "1a1443b0",
   "metadata": {},
   "outputs": [
    {
     "data": {
      "text/html": [
       "<dl>\n",
       "\t<dt>$emmeans</dt>\n",
       "\t\t<dd><table class=\"dataframe\">\n",
       "<caption>A summary_emm: 4 × 7</caption>\n",
       "<thead>\n",
       "\t<tr><th></th><th scope=col>outlet_lean_binary</th><th scope=col>party</th><th scope=col>emmean</th><th scope=col>SE</th><th scope=col>df</th><th scope=col>t.ratio</th><th scope=col>p.value</th></tr>\n",
       "\t<tr><th></th><th scope=col>&lt;fct&gt;</th><th scope=col>&lt;fct&gt;</th><th scope=col>&lt;dbl&gt;</th><th scope=col>&lt;dbl&gt;</th><th scope=col>&lt;dbl&gt;</th><th scope=col>&lt;dbl&gt;</th><th scope=col>&lt;dbl&gt;</th></tr>\n",
       "</thead>\n",
       "<tbody>\n",
       "\t<tr><th scope=row>1</th><td>left </td><td>democratic</td><td>0.03447996</td><td>0.001059839</td><td>1017119</td><td>32.53322</td><td>4.764590e-232</td></tr>\n",
       "\t<tr><th scope=row>2</th><td>right</td><td>democratic</td><td>0.04032961</td><td>0.001931486</td><td>1017119</td><td>20.88010</td><td> 8.512576e-97</td></tr>\n",
       "\t<tr><th scope=row>3</th><td>left </td><td>republican</td><td>0.04170393</td><td>0.001409934</td><td>1017119</td><td>29.57863</td><td>3.397659e-192</td></tr>\n",
       "\t<tr><th scope=row>4</th><td>right</td><td>republican</td><td>0.03927371</td><td>0.001485107</td><td>1017119</td><td>26.44503</td><td>4.694735e-154</td></tr>\n",
       "</tbody>\n",
       "</table>\n",
       "</dd>\n",
       "\t<dt>$contrasts</dt>\n",
       "\t\t<dd><table class=\"dataframe\">\n",
       "<caption>A summary_emm: 6 × 6</caption>\n",
       "<thead>\n",
       "\t<tr><th></th><th scope=col>contrast</th><th scope=col>estimate</th><th scope=col>SE</th><th scope=col>df</th><th scope=col>t.ratio</th><th scope=col>p.value</th></tr>\n",
       "\t<tr><th></th><th scope=col>&lt;fct&gt;</th><th scope=col>&lt;dbl&gt;</th><th scope=col>&lt;dbl&gt;</th><th scope=col>&lt;dbl&gt;</th><th scope=col>&lt;dbl&gt;</th><th scope=col>&lt;dbl&gt;</th></tr>\n",
       "</thead>\n",
       "<tbody>\n",
       "\t<tr><th scope=row>1</th><td>left democratic - right democratic </td><td>-0.005849650</td><td>0.0022031556</td><td>1017119</td><td>-2.6551233</td><td>3.961856e-02</td></tr>\n",
       "\t<tr><th scope=row>2</th><td>left democratic - left republican  </td><td>-0.007223967</td><td>0.0009032911</td><td>1017119</td><td>-7.9973848</td><td>6.095124e-14</td></tr>\n",
       "\t<tr><th scope=row>3</th><td>left democratic - right republican </td><td>-0.004793747</td><td>0.0018245002</td><td>1017119</td><td>-2.6274302</td><td>4.273718e-02</td></tr>\n",
       "\t<tr><th scope=row>4</th><td>right democratic - left republican </td><td>-0.001374317</td><td>0.0023913493</td><td>1017119</td><td>-0.5747036</td><td>9.396660e-01</td></tr>\n",
       "\t<tr><th scope=row>5</th><td>right democratic - right republican</td><td> 0.001055903</td><td>0.0014406903</td><td>1017119</td><td> 0.7329145</td><td>8.838885e-01</td></tr>\n",
       "\t<tr><th scope=row>6</th><td>left republican - right republican </td><td> 0.002430220</td><td>0.0020477935</td><td>1017119</td><td> 1.1867504</td><td>6.352422e-01</td></tr>\n",
       "</tbody>\n",
       "</table>\n",
       "</dd>\n",
       "</dl>\n"
      ],
      "text/latex": [
       "\\begin{description}\n",
       "\\item[\\$emmeans] A summary\\_emm: 4 × 7\n",
       "\\begin{tabular}{r|lllllll}\n",
       "  & outlet\\_lean\\_binary & party & emmean & SE & df & t.ratio & p.value\\\\\n",
       "  & <fct> & <fct> & <dbl> & <dbl> & <dbl> & <dbl> & <dbl>\\\\\n",
       "\\hline\n",
       "\t1 & left  & democratic & 0.03447996 & 0.001059839 & 1017119 & 32.53322 & 4.764590e-232\\\\\n",
       "\t2 & right & democratic & 0.04032961 & 0.001931486 & 1017119 & 20.88010 &  8.512576e-97\\\\\n",
       "\t3 & left  & republican & 0.04170393 & 0.001409934 & 1017119 & 29.57863 & 3.397659e-192\\\\\n",
       "\t4 & right & republican & 0.03927371 & 0.001485107 & 1017119 & 26.44503 & 4.694735e-154\\\\\n",
       "\\end{tabular}\n",
       "\n",
       "\\item[\\$contrasts] A summary\\_emm: 6 × 6\n",
       "\\begin{tabular}{r|llllll}\n",
       "  & contrast & estimate & SE & df & t.ratio & p.value\\\\\n",
       "  & <fct> & <dbl> & <dbl> & <dbl> & <dbl> & <dbl>\\\\\n",
       "\\hline\n",
       "\t1 & left democratic - right democratic  & -0.005849650 & 0.0022031556 & 1017119 & -2.6551233 & 3.961856e-02\\\\\n",
       "\t2 & left democratic - left republican   & -0.007223967 & 0.0009032911 & 1017119 & -7.9973848 & 6.095124e-14\\\\\n",
       "\t3 & left democratic - right republican  & -0.004793747 & 0.0018245002 & 1017119 & -2.6274302 & 4.273718e-02\\\\\n",
       "\t4 & right democratic - left republican  & -0.001374317 & 0.0023913493 & 1017119 & -0.5747036 & 9.396660e-01\\\\\n",
       "\t5 & right democratic - right republican &  0.001055903 & 0.0014406903 & 1017119 &  0.7329145 & 8.838885e-01\\\\\n",
       "\t6 & left republican - right republican  &  0.002430220 & 0.0020477935 & 1017119 &  1.1867504 & 6.352422e-01\\\\\n",
       "\\end{tabular}\n",
       "\n",
       "\\end{description}\n"
      ],
      "text/markdown": [
       "$emmeans\n",
       ":   \n",
       "A summary_emm: 4 × 7\n",
       "\n",
       "| <!--/--> | outlet_lean_binary &lt;fct&gt; | party &lt;fct&gt; | emmean &lt;dbl&gt; | SE &lt;dbl&gt; | df &lt;dbl&gt; | t.ratio &lt;dbl&gt; | p.value &lt;dbl&gt; |\n",
       "|---|---|---|---|---|---|---|---|\n",
       "| 1 | left  | democratic | 0.03447996 | 0.001059839 | 1017119 | 32.53322 | 4.764590e-232 |\n",
       "| 2 | right | democratic | 0.04032961 | 0.001931486 | 1017119 | 20.88010 |  8.512576e-97 |\n",
       "| 3 | left  | republican | 0.04170393 | 0.001409934 | 1017119 | 29.57863 | 3.397659e-192 |\n",
       "| 4 | right | republican | 0.03927371 | 0.001485107 | 1017119 | 26.44503 | 4.694735e-154 |\n",
       "\n",
       "\n",
       "$contrasts\n",
       ":   \n",
       "A summary_emm: 6 × 6\n",
       "\n",
       "| <!--/--> | contrast &lt;fct&gt; | estimate &lt;dbl&gt; | SE &lt;dbl&gt; | df &lt;dbl&gt; | t.ratio &lt;dbl&gt; | p.value &lt;dbl&gt; |\n",
       "|---|---|---|---|---|---|---|\n",
       "| 1 | left democratic - right democratic  | -0.005849650 | 0.0022031556 | 1017119 | -2.6551233 | 3.961856e-02 |\n",
       "| 2 | left democratic - left republican   | -0.007223967 | 0.0009032911 | 1017119 | -7.9973848 | 6.095124e-14 |\n",
       "| 3 | left democratic - right republican  | -0.004793747 | 0.0018245002 | 1017119 | -2.6274302 | 4.273718e-02 |\n",
       "| 4 | right democratic - left republican  | -0.001374317 | 0.0023913493 | 1017119 | -0.5747036 | 9.396660e-01 |\n",
       "| 5 | right democratic - right republican |  0.001055903 | 0.0014406903 | 1017119 |  0.7329145 | 8.838885e-01 |\n",
       "| 6 | left republican - right republican  |  0.002430220 | 0.0020477935 | 1017119 |  1.1867504 | 6.352422e-01 |\n",
       "\n",
       "\n",
       "\n",
       "\n"
      ],
      "text/plain": [
       "$emmeans\n",
       " outlet_lean_binary party      emmean      SE      df t.ratio p.value\n",
       " left               democratic 0.0345 0.00106 1017119  32.533  <.0001\n",
       " right              democratic 0.0403 0.00193 1017119  20.880  <.0001\n",
       " left               republican 0.0417 0.00141 1017119  29.579  <.0001\n",
       " right              republican 0.0393 0.00149 1017119  26.445  <.0001\n",
       "\n",
       "\n",
       "$contrasts\n",
       " contrast                            estimate       SE      df t.ratio p.value\n",
       " left democratic - right democratic  -0.00585 0.002203 1017119  -2.655  0.0396\n",
       " left democratic - left republican   -0.00722 0.000903 1017119  -7.997  <.0001\n",
       " left democratic - right republican  -0.00479 0.001825 1017119  -2.627  0.0427\n",
       " right democratic - left republican  -0.00137 0.002391 1017119  -0.575  0.9397\n",
       " right democratic - right republican  0.00106 0.001441 1017119   0.733  0.8839\n",
       " left republican - right republican   0.00243 0.002048 1017119   1.187  0.6352\n",
       "\n",
       "P value adjustment: tukey method for comparing a family of 4 estimates \n"
      ]
     },
     "metadata": {},
     "output_type": "display_data"
    }
   ],
   "source": [
    "test(emmeans(model2_matched, specs = pairwise ~ outlet_lean_binary:party,vcov = as.matrix(cl_vcov_mat2_matched)))"
   ]
  },
  {
   "cell_type": "code",
   "execution_count": 37,
   "id": "a4d201ce",
   "metadata": {
    "scrolled": true
   },
   "outputs": [
    {
     "data": {
      "text/plain": [
       "\n",
       "Call:\n",
       "lm(formula = unprofessional_verb ~ factor(outlet_lean_binary) + \n",
       "    factor(party) + factor(outlet_lean_binary):factor(party), \n",
       "    data = dF_matched_selected)\n",
       "\n",
       "Residuals:\n",
       "     Min       1Q   Median       3Q      Max \n",
       "-0.04170 -0.04170 -0.04033 -0.03927  0.96552 \n",
       "\n",
       "Coefficients:\n",
       "                                                          Estimate Std. Error\n",
       "(Intercept)                                              0.0344800  0.0004127\n",
       "factor(outlet_lean_binary)right                          0.0058496  0.0006381\n",
       "factor(party)republican                                  0.0072240  0.0005163\n",
       "factor(outlet_lean_binary)right:factor(party)republican -0.0082799  0.0008116\n",
       "                                                        t value Pr(>|t|)    \n",
       "(Intercept)                                              83.555   <2e-16 ***\n",
       "factor(outlet_lean_binary)right                           9.167   <2e-16 ***\n",
       "factor(party)republican                                  13.993   <2e-16 ***\n",
       "factor(outlet_lean_binary)right:factor(party)republican -10.202   <2e-16 ***\n",
       "---\n",
       "Signif. codes:  0 '***' 0.001 '**' 0.01 '*' 0.05 '.' 0.1 ' ' 1\n",
       "\n",
       "Residual standard error: 0.1944 on 1017119 degrees of freedom\n",
       "Multiple R-squared:  0.0001975,\tAdjusted R-squared:  0.0001946 \n",
       "F-statistic: 66.97 on 3 and 1017119 DF,  p-value: < 2.2e-16\n"
      ]
     },
     "metadata": {},
     "output_type": "display_data"
    }
   ],
   "source": [
    "summary(model2_matched)"
   ]
  },
  {
   "cell_type": "code",
   "execution_count": 38,
   "id": "e2bfdd89",
   "metadata": {},
   "outputs": [
    {
     "name": "stderr",
     "output_type": "stream",
     "text": [
      "Loading required package: grid\n",
      "\n",
      "Loading required package: magrittr\n",
      "\n",
      "Loading required package: checkmate\n",
      "\n"
     ]
    }
   ],
   "source": [
    "library('forestplot')"
   ]
  },
  {
   "cell_type": "markdown",
   "id": "65ed0442",
   "metadata": {},
   "source": [
    "# Generate Plot for Equation 1 (Figure 3)"
   ]
  },
  {
   "cell_type": "code",
   "execution_count": 39,
   "id": "45b66716",
   "metadata": {},
   "outputs": [],
   "source": [
    "emmeans_plot_1=emtrends(model1, specs = pairwise ~ outlet_category,var = 'relative_time',vcov = as.matrix(cl_vcov_mat1))\n",
    "emmeans_plot_1_table=as.data.table(emmeans_plot_1$emtrends)\n",
    "emmeans_plot_1_table=emmeans_plot_1_table[c(2,1,3,4,5),]\n",
    "emmeans_plot_1_table$outlet_category=c('Left','Left-Center','Least-Biased', 'Right-Center','Right')\n",
    "emmeans_plot_1_table$relative_time.trend=emmeans_plot_1_table$relative_time.trend*12*100\n",
    "emmeans_plot_1_table$relative_time.trend=round(emmeans_plot_1_table$relative_time.trend,4)\n",
    "emmeans_plot_1_table$lower.CL=emmeans_plot_1_table$lower.CL*12*100\n",
    "emmeans_plot_1_table$upper.CL=emmeans_plot_1_table$upper.CL*12*100\n",
    "emmeans_plot_1_table$relative_time.trend=as.character(emmeans_plot_1_table$relative_time.trend)"
   ]
  },
  {
   "cell_type": "code",
   "execution_count": 40,
   "id": "2e6ffe4a",
   "metadata": {},
   "outputs": [
    {
     "data": {
      "text/html": [
       "<table class=\"dataframe\">\n",
       "<caption>A data.table: 5 × 6</caption>\n",
       "<thead>\n",
       "\t<tr><th scope=col>outlet_category</th><th scope=col>relative_time.trend</th><th scope=col>SE</th><th scope=col>df</th><th scope=col>lower.CL</th><th scope=col>upper.CL</th></tr>\n",
       "\t<tr><th scope=col>&lt;chr&gt;</th><th scope=col>&lt;chr&gt;</th><th scope=col>&lt;dbl&gt;</th><th scope=col>&lt;dbl&gt;</th><th scope=col>&lt;dbl&gt;</th><th scope=col>&lt;dbl&gt;</th></tr>\n",
       "</thead>\n",
       "<tbody>\n",
       "\t<tr><td>Left        </td><td>-0.1219</td><td>5.455714e-05</td><td>6723244</td><td>-0.25017819</td><td>0.00645391</td></tr>\n",
       "\t<tr><td>Left-Center </td><td>0.0646 </td><td>1.601666e-05</td><td>6723244</td><td> 0.02689516</td><td>0.10223616</td></tr>\n",
       "\t<tr><td>Least-Biased</td><td>0.08   </td><td>1.397661e-05</td><td>6723244</td><td> 0.04716248</td><td>0.11290725</td></tr>\n",
       "\t<tr><td>Right-Center</td><td>0.095  </td><td>2.300137e-05</td><td>6723244</td><td> 0.04087975</td><td>0.14907621</td></tr>\n",
       "\t<tr><td>Right       </td><td>0.0067 </td><td>7.853086e-05</td><td>6723244</td><td>-0.17798699</td><td>0.19141547</td></tr>\n",
       "</tbody>\n",
       "</table>\n"
      ],
      "text/latex": [
       "A data.table: 5 × 6\n",
       "\\begin{tabular}{llllll}\n",
       " outlet\\_category & relative\\_time.trend & SE & df & lower.CL & upper.CL\\\\\n",
       " <chr> & <chr> & <dbl> & <dbl> & <dbl> & <dbl>\\\\\n",
       "\\hline\n",
       "\t Left         & -0.1219 & 5.455714e-05 & 6723244 & -0.25017819 & 0.00645391\\\\\n",
       "\t Left-Center  & 0.0646  & 1.601666e-05 & 6723244 &  0.02689516 & 0.10223616\\\\\n",
       "\t Least-Biased & 0.08    & 1.397661e-05 & 6723244 &  0.04716248 & 0.11290725\\\\\n",
       "\t Right-Center & 0.095   & 2.300137e-05 & 6723244 &  0.04087975 & 0.14907621\\\\\n",
       "\t Right        & 0.0067  & 7.853086e-05 & 6723244 & -0.17798699 & 0.19141547\\\\\n",
       "\\end{tabular}\n"
      ],
      "text/markdown": [
       "\n",
       "A data.table: 5 × 6\n",
       "\n",
       "| outlet_category &lt;chr&gt; | relative_time.trend &lt;chr&gt; | SE &lt;dbl&gt; | df &lt;dbl&gt; | lower.CL &lt;dbl&gt; | upper.CL &lt;dbl&gt; |\n",
       "|---|---|---|---|---|---|\n",
       "| Left         | -0.1219 | 5.455714e-05 | 6723244 | -0.25017819 | 0.00645391 |\n",
       "| Left-Center  | 0.0646  | 1.601666e-05 | 6723244 |  0.02689516 | 0.10223616 |\n",
       "| Least-Biased | 0.08    | 1.397661e-05 | 6723244 |  0.04716248 | 0.11290725 |\n",
       "| Right-Center | 0.095   | 2.300137e-05 | 6723244 |  0.04087975 | 0.14907621 |\n",
       "| Right        | 0.0067  | 7.853086e-05 | 6723244 | -0.17798699 | 0.19141547 |\n",
       "\n"
      ],
      "text/plain": [
       "  outlet_category relative_time.trend SE           df      lower.CL   \n",
       "1 Left            -0.1219             5.455714e-05 6723244 -0.25017819\n",
       "2 Left-Center     0.0646              1.601666e-05 6723244  0.02689516\n",
       "3 Least-Biased    0.08                1.397661e-05 6723244  0.04716248\n",
       "4 Right-Center    0.095               2.300137e-05 6723244  0.04087975\n",
       "5 Right           0.0067              7.853086e-05 6723244 -0.17798699\n",
       "  upper.CL  \n",
       "1 0.00645391\n",
       "2 0.10223616\n",
       "3 0.11290725\n",
       "4 0.14907621\n",
       "5 0.19141547"
      ]
     },
     "metadata": {},
     "output_type": "display_data"
    }
   ],
   "source": [
    "emmeans_plot_1_table"
   ]
  },
  {
   "cell_type": "code",
   "execution_count": 41,
   "id": "6e120c4e",
   "metadata": {},
   "outputs": [],
   "source": [
    "library(repr)\n",
    "# Change Jupyter plots size \n",
    "options(repr.plot.width=16, repr.plot.height=9)"
   ]
  },
  {
   "cell_type": "code",
   "execution_count": 42,
   "id": "ee0d1dd4",
   "metadata": {
    "scrolled": true
   },
   "outputs": [
    {
     "data": {
      "text/html": [
       "<strong>png:</strong> 2"
      ],
      "text/latex": [
       "\\textbf{png:} 2"
      ],
      "text/markdown": [
       "**png:** 2"
      ],
      "text/plain": [
       "png \n",
       "  2 "
      ]
     },
     "metadata": {},
     "output_type": "display_data"
    }
   ],
   "source": [
    "pdf(file='model1_coeff.pdf',width = 7.1, height = 2.9,onefile=F)\n",
    "emmeans_plot_1_table%>%forestplot(labeltext = c(outlet_category),\n",
    "                mean = relative_time.trend,\n",
    "            lower = lower.CL, \n",
    "            upper = upper.CL,\n",
    "          boxsize = c(0.25/0.7227,0.25,0.25,0.25,0.25/0.7227),\n",
    "           xticks = c(-0.25, -0.125,0,0.125,0.25),\n",
    "\n",
    "                fn.ci_norm = c(\"fpDrawPointCI\",\"fpDrawCircleCI\",\"fpDrawCircleCI\",\"fpDrawCircleCI\",\"fpDrawPointCI\"),\n",
    "\n",
    "                col = fpColors(box = \"royalblue\",\n",
    "                line = \"darkblue\",\n",
    "                summary = \"royalblue\"),\n",
    "                                  grid=TRUE,\n",
    "                                  graphwidth=unit(12, \"cm\"),\n",
    "                                  lineheight=unit(1.5, \"cm\"),\n",
    "                lwd.zero=gpar(lwd = 2),\n",
    "                                  align=c('r','l'),\n",
    "                xlab=expression(paste(\"Percentage rate of change (\", beta,\")\")),\n",
    "\n",
    "               txt_gp = fpTxtGp(label =  gpar(cex=1.5),\n",
    "                              ticks = gpar(cex = 1.5),\n",
    "                              xlab  = gpar(cex = 1.5)))\n",
    "dev.off()\n",
    "\n"
   ]
  },
  {
   "cell_type": "markdown",
   "id": "e8bc0add",
   "metadata": {},
   "source": [
    "# Generate Plot for Equation 2 (Mean) - NOT USED IN PAPER"
   ]
  },
  {
   "cell_type": "code",
   "execution_count": 43,
   "id": "1783470b",
   "metadata": {},
   "outputs": [],
   "source": [
    "emmeans_plot_2=emmeans(model2, specs = pairwise ~ outlet_category:party,vcov = as.matrix(cl_vcov_mat2))"
   ]
  },
  {
   "cell_type": "code",
   "execution_count": 44,
   "id": "1d49139a",
   "metadata": {},
   "outputs": [],
   "source": [
    "emmeans_plot_2_table=as.data.table(emmeans_plot_2$emmeans)\n",
    "emmeans_plot_2_table=emmeans_plot_2_table[c(2,1,3,4,5,7,6,8,9,10),]\n",
    "emmeans_plot_2_table$outlet_category=c('Left','Left-Center','Least-Biased', 'Right-Center','Right','Left','Left-Center','Least-Biased', 'Right-Center','Right')\n",
    "emmeans_plot_2_table$party=c(rep('Democratic',5),rep('Republican',5))\n",
    "header <- tibble(outlet_category = c(\"Outlet Category\"),\n",
    "                 emmean = c(\"% Nonobjective\"))\n",
    "emmeans_plot_2_table$emmean=emmeans_plot_2_table$emmean*100\n",
    "emmeans_plot_2_table$lower.CL=emmeans_plot_2_table$lower.CL*100\n",
    "emmeans_plot_2_table$upper.CL=emmeans_plot_2_table$upper.CL*100"
   ]
  },
  {
   "cell_type": "code",
   "execution_count": 45,
   "id": "84be52c5",
   "metadata": {},
   "outputs": [
    {
     "data": {
      "text/html": [
       "<table class=\"dataframe\">\n",
       "<caption>A data.table: 10 × 7</caption>\n",
       "<thead>\n",
       "\t<tr><th scope=col>outlet_category</th><th scope=col>party</th><th scope=col>emmean</th><th scope=col>SE</th><th scope=col>df</th><th scope=col>lower.CL</th><th scope=col>upper.CL</th></tr>\n",
       "\t<tr><th scope=col>&lt;chr&gt;</th><th scope=col>&lt;chr&gt;</th><th scope=col>&lt;dbl&gt;</th><th scope=col>&lt;dbl&gt;</th><th scope=col>&lt;dbl&gt;</th><th scope=col>&lt;dbl&gt;</th><th scope=col>&lt;dbl&gt;</th></tr>\n",
       "</thead>\n",
       "<tbody>\n",
       "\t<tr><td>Left        </td><td>Democratic</td><td>5.577256</td><td>0.0075660401</td><td>6723245</td><td>4.094340</td><td>7.060173</td></tr>\n",
       "\t<tr><td>Left-Center </td><td>Democratic</td><td>2.781781</td><td>0.0008240137</td><td>6723245</td><td>2.620278</td><td>2.943285</td></tr>\n",
       "\t<tr><td>Least-Biased</td><td>Democratic</td><td>2.325576</td><td>0.0005561195</td><td>6723245</td><td>2.216579</td><td>2.434574</td></tr>\n",
       "\t<tr><td>Right-Center</td><td>Democratic</td><td>2.900067</td><td>0.0014781548</td><td>6723245</td><td>2.610354</td><td>3.189780</td></tr>\n",
       "\t<tr><td>Right       </td><td>Democratic</td><td>6.723556</td><td>0.0064975440</td><td>6723245</td><td>5.450061</td><td>7.997052</td></tr>\n",
       "\t<tr><td>Left        </td><td>Republican</td><td>7.466049</td><td>0.0094873609</td><td>6723245</td><td>5.606560</td><td>9.325538</td></tr>\n",
       "\t<tr><td>Left-Center </td><td>Republican</td><td>3.866974</td><td>0.0011038653</td><td>6723245</td><td>3.650620</td><td>4.083328</td></tr>\n",
       "\t<tr><td>Least-Biased</td><td>Republican</td><td>3.208301</td><td>0.0007646488</td><td>6723245</td><td>3.058433</td><td>3.358170</td></tr>\n",
       "\t<tr><td>Right-Center</td><td>Republican</td><td>3.296821</td><td>0.0015627773</td><td>6723245</td><td>2.990522</td><td>3.603120</td></tr>\n",
       "\t<tr><td>Right       </td><td>Republican</td><td>4.978373</td><td>0.0041860899</td><td>6723245</td><td>4.157914</td><td>5.798831</td></tr>\n",
       "</tbody>\n",
       "</table>\n"
      ],
      "text/latex": [
       "A data.table: 10 × 7\n",
       "\\begin{tabular}{lllllll}\n",
       " outlet\\_category & party & emmean & SE & df & lower.CL & upper.CL\\\\\n",
       " <chr> & <chr> & <dbl> & <dbl> & <dbl> & <dbl> & <dbl>\\\\\n",
       "\\hline\n",
       "\t Left         & Democratic & 5.577256 & 0.0075660401 & 6723245 & 4.094340 & 7.060173\\\\\n",
       "\t Left-Center  & Democratic & 2.781781 & 0.0008240137 & 6723245 & 2.620278 & 2.943285\\\\\n",
       "\t Least-Biased & Democratic & 2.325576 & 0.0005561195 & 6723245 & 2.216579 & 2.434574\\\\\n",
       "\t Right-Center & Democratic & 2.900067 & 0.0014781548 & 6723245 & 2.610354 & 3.189780\\\\\n",
       "\t Right        & Democratic & 6.723556 & 0.0064975440 & 6723245 & 5.450061 & 7.997052\\\\\n",
       "\t Left         & Republican & 7.466049 & 0.0094873609 & 6723245 & 5.606560 & 9.325538\\\\\n",
       "\t Left-Center  & Republican & 3.866974 & 0.0011038653 & 6723245 & 3.650620 & 4.083328\\\\\n",
       "\t Least-Biased & Republican & 3.208301 & 0.0007646488 & 6723245 & 3.058433 & 3.358170\\\\\n",
       "\t Right-Center & Republican & 3.296821 & 0.0015627773 & 6723245 & 2.990522 & 3.603120\\\\\n",
       "\t Right        & Republican & 4.978373 & 0.0041860899 & 6723245 & 4.157914 & 5.798831\\\\\n",
       "\\end{tabular}\n"
      ],
      "text/markdown": [
       "\n",
       "A data.table: 10 × 7\n",
       "\n",
       "| outlet_category &lt;chr&gt; | party &lt;chr&gt; | emmean &lt;dbl&gt; | SE &lt;dbl&gt; | df &lt;dbl&gt; | lower.CL &lt;dbl&gt; | upper.CL &lt;dbl&gt; |\n",
       "|---|---|---|---|---|---|---|\n",
       "| Left         | Democratic | 5.577256 | 0.0075660401 | 6723245 | 4.094340 | 7.060173 |\n",
       "| Left-Center  | Democratic | 2.781781 | 0.0008240137 | 6723245 | 2.620278 | 2.943285 |\n",
       "| Least-Biased | Democratic | 2.325576 | 0.0005561195 | 6723245 | 2.216579 | 2.434574 |\n",
       "| Right-Center | Democratic | 2.900067 | 0.0014781548 | 6723245 | 2.610354 | 3.189780 |\n",
       "| Right        | Democratic | 6.723556 | 0.0064975440 | 6723245 | 5.450061 | 7.997052 |\n",
       "| Left         | Republican | 7.466049 | 0.0094873609 | 6723245 | 5.606560 | 9.325538 |\n",
       "| Left-Center  | Republican | 3.866974 | 0.0011038653 | 6723245 | 3.650620 | 4.083328 |\n",
       "| Least-Biased | Republican | 3.208301 | 0.0007646488 | 6723245 | 3.058433 | 3.358170 |\n",
       "| Right-Center | Republican | 3.296821 | 0.0015627773 | 6723245 | 2.990522 | 3.603120 |\n",
       "| Right        | Republican | 4.978373 | 0.0041860899 | 6723245 | 4.157914 | 5.798831 |\n",
       "\n"
      ],
      "text/plain": [
       "   outlet_category party      emmean   SE           df      lower.CL upper.CL\n",
       "1  Left            Democratic 5.577256 0.0075660401 6723245 4.094340 7.060173\n",
       "2  Left-Center     Democratic 2.781781 0.0008240137 6723245 2.620278 2.943285\n",
       "3  Least-Biased    Democratic 2.325576 0.0005561195 6723245 2.216579 2.434574\n",
       "4  Right-Center    Democratic 2.900067 0.0014781548 6723245 2.610354 3.189780\n",
       "5  Right           Democratic 6.723556 0.0064975440 6723245 5.450061 7.997052\n",
       "6  Left            Republican 7.466049 0.0094873609 6723245 5.606560 9.325538\n",
       "7  Left-Center     Republican 3.866974 0.0011038653 6723245 3.650620 4.083328\n",
       "8  Least-Biased    Republican 3.208301 0.0007646488 6723245 3.058433 3.358170\n",
       "9  Right-Center    Republican 3.296821 0.0015627773 6723245 2.990522 3.603120\n",
       "10 Right           Republican 4.978373 0.0041860899 6723245 4.157914 5.798831"
      ]
     },
     "metadata": {},
     "output_type": "display_data"
    }
   ],
   "source": [
    "emmeans_plot_2_table"
   ]
  },
  {
   "cell_type": "code",
   "execution_count": 46,
   "id": "886ca50e",
   "metadata": {},
   "outputs": [
    {
     "data": {
      "text/html": [
       "<strong>png:</strong> 2"
      ],
      "text/latex": [
       "\\textbf{png:} 2"
      ],
      "text/markdown": [
       "**png:** 2"
      ],
      "text/plain": [
       "png \n",
       "  2 "
      ]
     },
     "metadata": {},
     "output_type": "display_data"
    }
   ],
   "source": [
    "pdf(file='model2_coeff_percentage.pdf',width = 6.8, height = 3.0,onefile=F)\n",
    "emmeans_plot_2_table%>%\n",
    "group_by(party) %>% \n",
    "forestplot(labeltext = outlet_category, \n",
    "                mean = emmean,\n",
    "            lower = lower.CL, \n",
    "            upper = upper.CL,\n",
    "                boxsize = 0.25,\n",
    "\n",
    "                fn.ci_norm = fpDrawCircleCI,\n",
    "           \n",
    "                col = fpColors(box = c(\"royalblue\", \"red\"),\n",
    "                line = c(\"darkblue\", \"red\"),\n",
    "                summary = c(\"royalblue\",\"red\")),\n",
    "                        grid=TRUE,\n",
    "                                  graphwidth=unit(12, \"cm\"),\n",
    "                            lineheight=unit(1.5, \"cm\"),\n",
    "                    align=c('r','l'),\n",
    "                   xticks = c(0, 2.5, 5,7.5,10),\n",
    "                xlab=expression(paste(\"Percentage nonobjective quotative (\",gamma+eta+sigma,\")\")),\n",
    "\n",
    "                lwd.zero=gpar(lwd = 2),\n",
    "                 txt_gp = fpTxtGp(label =  gpar(cex=1.5),\n",
    "                              ticks = gpar(cex = 1.5),\n",
    "                              xlab  = gpar(cex = 1.5)))\n",
    "dev.off()\n",
    "\n"
   ]
  },
  {
   "cell_type": "markdown",
   "id": "abf7043d",
   "metadata": {},
   "source": [
    "# Generate Plot for Equation 2 (Contrast) - Figure 6"
   ]
  },
  {
   "cell_type": "code",
   "execution_count": 47,
   "id": "6e40981c",
   "metadata": {},
   "outputs": [],
   "source": [
    "emmeans_plot_2=emmeans(model2, specs = pairwise ~ outlet_category:party,vcov = as.matrix(cl_vcov_mat2))"
   ]
  },
  {
   "cell_type": "code",
   "execution_count": 48,
   "id": "4e8d0759",
   "metadata": {},
   "outputs": [],
   "source": [
    "emmeans_plot_2_table=as.data.table(emmeans_plot_2$contrasts)\n",
    "emmeans_plot_2_table=emmeans_plot_2_table[c(14,5,22,29,35),]\n",
    "emmeans_plot_2_table$contrast=c('Left','Left-Center','Least-Biased','Right-Center','Right')\n",
    "emmeans_plot_2_table$estimate=emmeans_plot_2_table$estimate*100\n",
    "conf=confint(emmeans_plot_2$contrasts, adjust = \"tukey\")\n",
    "conf=conf[c(14,5,22,29,35),]\n",
    "emmeans_plot_2_table$lower.CL=conf$lower.CL*100\n",
    "emmeans_plot_2_table$upper.CL=conf$upper.CL*100\n",
    "emmeans_plot_2_table$estimate=round(emmeans_plot_2_table$estimate,4)"
   ]
  },
  {
   "cell_type": "code",
   "execution_count": 49,
   "id": "7b28d4cf",
   "metadata": {},
   "outputs": [
    {
     "data": {
      "text/html": [
       "<table class=\"dataframe\">\n",
       "<caption>A data.table: 5 × 8</caption>\n",
       "<thead>\n",
       "\t<tr><th scope=col>contrast</th><th scope=col>estimate</th><th scope=col>SE</th><th scope=col>df</th><th scope=col>t.ratio</th><th scope=col>p.value</th><th scope=col>lower.CL</th><th scope=col>upper.CL</th></tr>\n",
       "\t<tr><th scope=col>&lt;chr&gt;</th><th scope=col>&lt;dbl&gt;</th><th scope=col>&lt;dbl&gt;</th><th scope=col>&lt;dbl&gt;</th><th scope=col>&lt;dbl&gt;</th><th scope=col>&lt;dbl&gt;</th><th scope=col>&lt;dbl&gt;</th><th scope=col>&lt;dbl&gt;</th></tr>\n",
       "</thead>\n",
       "<tbody>\n",
       "\t<tr><td>Left        </td><td>-1.8888</td><td>0.0037050089</td><td>6723245</td><td> -5.097943</td><td>1.517406e-05</td><td>-3.0609400</td><td>-0.7166447</td></tr>\n",
       "\t<tr><td>Left-Center </td><td>-1.0852</td><td>0.0008851599</td><td>6723245</td><td>-12.259849</td><td>0.000000e+00</td><td>-1.3652292</td><td>-0.8051561</td></tr>\n",
       "\t<tr><td>Least-Biased</td><td>-0.8827</td><td>0.0007767183</td><td>6723245</td><td>-11.364803</td><td>0.000000e+00</td><td>-1.1284542</td><td>-0.6369960</td></tr>\n",
       "\t<tr><td>Right-Center</td><td>-0.3968</td><td>0.0011070615</td><td>6723245</td><td> -3.583850</td><td>1.252434e-02</td><td>-0.7469935</td><td>-0.0465150</td></tr>\n",
       "\t<tr><td>Right       </td><td> 1.7452</td><td>0.0042029167</td><td>6723245</td><td>  4.152316</td><td>1.357694e-03</td><td> 0.4155141</td><td> 3.0748539</td></tr>\n",
       "</tbody>\n",
       "</table>\n"
      ],
      "text/latex": [
       "A data.table: 5 × 8\n",
       "\\begin{tabular}{llllllll}\n",
       " contrast & estimate & SE & df & t.ratio & p.value & lower.CL & upper.CL\\\\\n",
       " <chr> & <dbl> & <dbl> & <dbl> & <dbl> & <dbl> & <dbl> & <dbl>\\\\\n",
       "\\hline\n",
       "\t Left         & -1.8888 & 0.0037050089 & 6723245 &  -5.097943 & 1.517406e-05 & -3.0609400 & -0.7166447\\\\\n",
       "\t Left-Center  & -1.0852 & 0.0008851599 & 6723245 & -12.259849 & 0.000000e+00 & -1.3652292 & -0.8051561\\\\\n",
       "\t Least-Biased & -0.8827 & 0.0007767183 & 6723245 & -11.364803 & 0.000000e+00 & -1.1284542 & -0.6369960\\\\\n",
       "\t Right-Center & -0.3968 & 0.0011070615 & 6723245 &  -3.583850 & 1.252434e-02 & -0.7469935 & -0.0465150\\\\\n",
       "\t Right        &  1.7452 & 0.0042029167 & 6723245 &   4.152316 & 1.357694e-03 &  0.4155141 &  3.0748539\\\\\n",
       "\\end{tabular}\n"
      ],
      "text/markdown": [
       "\n",
       "A data.table: 5 × 8\n",
       "\n",
       "| contrast &lt;chr&gt; | estimate &lt;dbl&gt; | SE &lt;dbl&gt; | df &lt;dbl&gt; | t.ratio &lt;dbl&gt; | p.value &lt;dbl&gt; | lower.CL &lt;dbl&gt; | upper.CL &lt;dbl&gt; |\n",
       "|---|---|---|---|---|---|---|---|\n",
       "| Left         | -1.8888 | 0.0037050089 | 6723245 |  -5.097943 | 1.517406e-05 | -3.0609400 | -0.7166447 |\n",
       "| Left-Center  | -1.0852 | 0.0008851599 | 6723245 | -12.259849 | 0.000000e+00 | -1.3652292 | -0.8051561 |\n",
       "| Least-Biased | -0.8827 | 0.0007767183 | 6723245 | -11.364803 | 0.000000e+00 | -1.1284542 | -0.6369960 |\n",
       "| Right-Center | -0.3968 | 0.0011070615 | 6723245 |  -3.583850 | 1.252434e-02 | -0.7469935 | -0.0465150 |\n",
       "| Right        |  1.7452 | 0.0042029167 | 6723245 |   4.152316 | 1.357694e-03 |  0.4155141 |  3.0748539 |\n",
       "\n"
      ],
      "text/plain": [
       "  contrast     estimate SE           df      t.ratio    p.value      lower.CL  \n",
       "1 Left         -1.8888  0.0037050089 6723245  -5.097943 1.517406e-05 -3.0609400\n",
       "2 Left-Center  -1.0852  0.0008851599 6723245 -12.259849 0.000000e+00 -1.3652292\n",
       "3 Least-Biased -0.8827  0.0007767183 6723245 -11.364803 0.000000e+00 -1.1284542\n",
       "4 Right-Center -0.3968  0.0011070615 6723245  -3.583850 1.252434e-02 -0.7469935\n",
       "5 Right         1.7452  0.0042029167 6723245   4.152316 1.357694e-03  0.4155141\n",
       "  upper.CL  \n",
       "1 -0.7166447\n",
       "2 -0.8051561\n",
       "3 -0.6369960\n",
       "4 -0.0465150\n",
       "5  3.0748539"
      ]
     },
     "metadata": {},
     "output_type": "display_data"
    }
   ],
   "source": [
    "emmeans_plot_2_table"
   ]
  },
  {
   "cell_type": "code",
   "execution_count": 50,
   "id": "ba1e2a7a",
   "metadata": {},
   "outputs": [
    {
     "data": {
      "text/html": [
       "<strong>png:</strong> 2"
      ],
      "text/latex": [
       "\\textbf{png:} 2"
      ],
      "text/markdown": [
       "**png:** 2"
      ],
      "text/plain": [
       "png \n",
       "  2 "
      ]
     },
     "metadata": {},
     "output_type": "display_data"
    }
   ],
   "source": [
    "pdf(file='model2_coeff_contrast.pdf',width =8.2, height = 3.5,onefile=F)\n",
    "emmeans_plot_2_table%>%forestplot(labeltext = c(contrast), \n",
    "                                  ,\n",
    "                    fn.ci_norm = c(\"fpDrawCircleCI\",\"fpDrawCircleCI\",\"fpDrawCircleCI\",\"fpDrawCircleCI\",\"fpDrawCircleCI\"),\n",
    "                    boxsize = c(0.25,0.25,0.25,0.25,0.25),\n",
    "                mean = estimate,\n",
    "            lower = lower.CL, \n",
    "            upper = upper.CL,\n",
    "                col = fpColors(box = \"royalblue\",\n",
    "                line = \"royalblue\",\n",
    "                summary = \"royalblue\"),\n",
    "                                  grid=TRUE,\n",
    "                                  graphwidth=unit(15, \"cm\"),\n",
    "                                  lineheight=unit(1.5, \"cm\"),\n",
    "                lwd.zero=gpar(lwd = 2),\n",
    "                         align=c('r','l'),\n",
    "                #xticks = seq(from = -.5, to = .5, by = 0.25),\n",
    "                xlab = expression(atop(\"Democratic - Republican\",paste(\"Percentage nonobjective quotative (\",sigma,\")\"))),\n",
    "                #xlab=expression(paste(\"Percentage nonobjective quotative (\",gamma+eta+sigma,\")\")),\n",
    "                #xlab= \"Democratic - Republican\",\n",
    "                 txt_gp = fpTxtGp(label =  gpar(cex=1.5),\n",
    "                              ticks = gpar(cex = 1.5),\n",
    "                              xlab  = gpar(cex = 1.5)))\n",
    "dev.off()\n",
    "\n"
   ]
  },
  {
   "cell_type": "markdown",
   "id": "04e4438f",
   "metadata": {},
   "source": [
    "# Generate Plot for Equation 2 (Mean,Matched) - NOT USED IN PAPER"
   ]
  },
  {
   "cell_type": "code",
   "execution_count": 51,
   "id": "810ae6cf",
   "metadata": {},
   "outputs": [],
   "source": [
    "emmeans_plot_2_matched=emmeans(model2_matched, specs = pairwise ~ outlet_lean_binary:party,vcov = as.matrix(cl_vcov_mat2_matched))\n",
    "emmeans_plot_2_matched_table=as.data.table(emmeans_plot_2_matched$emmeans)\n",
    "emmeans_plot_2_matched_table$outlet_category=c('Left - Combined','Right - Combined','Left - Combined','Right - Combined')\n",
    "emmeans_plot_2_matched_table$party=c(rep('Democratic',2),rep('Republican',2))\n",
    "emmeans_plot_2_matched_table$emmean=emmeans_plot_2_matched_table$emmean*100\n",
    "emmeans_plot_2_matched_table$lower.CL=emmeans_plot_2_matched_table$lower.CL*100\n",
    "emmeans_plot_2_matched_table$upper.CL=emmeans_plot_2_matched_table$upper.CL*100\n"
   ]
  },
  {
   "cell_type": "code",
   "execution_count": 52,
   "id": "beec260b",
   "metadata": {},
   "outputs": [
    {
     "data": {
      "text/html": [
       "<table class=\"dataframe\">\n",
       "<caption>A data.table: 4 × 8</caption>\n",
       "<thead>\n",
       "\t<tr><th scope=col>outlet_lean_binary</th><th scope=col>party</th><th scope=col>emmean</th><th scope=col>SE</th><th scope=col>df</th><th scope=col>lower.CL</th><th scope=col>upper.CL</th><th scope=col>outlet_category</th></tr>\n",
       "\t<tr><th scope=col>&lt;fct&gt;</th><th scope=col>&lt;chr&gt;</th><th scope=col>&lt;dbl&gt;</th><th scope=col>&lt;dbl&gt;</th><th scope=col>&lt;dbl&gt;</th><th scope=col>&lt;dbl&gt;</th><th scope=col>&lt;dbl&gt;</th><th scope=col>&lt;chr&gt;</th></tr>\n",
       "</thead>\n",
       "<tbody>\n",
       "\t<tr><td>left </td><td>Democratic</td><td>3.447996</td><td>0.001059839</td><td>1017119</td><td>3.240271</td><td>3.655721</td><td>Left - Combined </td></tr>\n",
       "\t<tr><td>right</td><td>Democratic</td><td>4.032961</td><td>0.001931486</td><td>1017119</td><td>3.654396</td><td>4.411526</td><td>Right - Combined</td></tr>\n",
       "\t<tr><td>left </td><td>Republican</td><td>4.170393</td><td>0.001409934</td><td>1017119</td><td>3.894050</td><td>4.446735</td><td>Left - Combined </td></tr>\n",
       "\t<tr><td>right</td><td>Republican</td><td>3.927371</td><td>0.001485107</td><td>1017119</td><td>3.636295</td><td>4.218447</td><td>Right - Combined</td></tr>\n",
       "</tbody>\n",
       "</table>\n"
      ],
      "text/latex": [
       "A data.table: 4 × 8\n",
       "\\begin{tabular}{llllllll}\n",
       " outlet\\_lean\\_binary & party & emmean & SE & df & lower.CL & upper.CL & outlet\\_category\\\\\n",
       " <fct> & <chr> & <dbl> & <dbl> & <dbl> & <dbl> & <dbl> & <chr>\\\\\n",
       "\\hline\n",
       "\t left  & Democratic & 3.447996 & 0.001059839 & 1017119 & 3.240271 & 3.655721 & Left - Combined \\\\\n",
       "\t right & Democratic & 4.032961 & 0.001931486 & 1017119 & 3.654396 & 4.411526 & Right - Combined\\\\\n",
       "\t left  & Republican & 4.170393 & 0.001409934 & 1017119 & 3.894050 & 4.446735 & Left - Combined \\\\\n",
       "\t right & Republican & 3.927371 & 0.001485107 & 1017119 & 3.636295 & 4.218447 & Right - Combined\\\\\n",
       "\\end{tabular}\n"
      ],
      "text/markdown": [
       "\n",
       "A data.table: 4 × 8\n",
       "\n",
       "| outlet_lean_binary &lt;fct&gt; | party &lt;chr&gt; | emmean &lt;dbl&gt; | SE &lt;dbl&gt; | df &lt;dbl&gt; | lower.CL &lt;dbl&gt; | upper.CL &lt;dbl&gt; | outlet_category &lt;chr&gt; |\n",
       "|---|---|---|---|---|---|---|---|\n",
       "| left  | Democratic | 3.447996 | 0.001059839 | 1017119 | 3.240271 | 3.655721 | Left - Combined  |\n",
       "| right | Democratic | 4.032961 | 0.001931486 | 1017119 | 3.654396 | 4.411526 | Right - Combined |\n",
       "| left  | Republican | 4.170393 | 0.001409934 | 1017119 | 3.894050 | 4.446735 | Left - Combined  |\n",
       "| right | Republican | 3.927371 | 0.001485107 | 1017119 | 3.636295 | 4.218447 | Right - Combined |\n",
       "\n"
      ],
      "text/plain": [
       "  outlet_lean_binary party      emmean   SE          df      lower.CL upper.CL\n",
       "1 left               Democratic 3.447996 0.001059839 1017119 3.240271 3.655721\n",
       "2 right              Democratic 4.032961 0.001931486 1017119 3.654396 4.411526\n",
       "3 left               Republican 4.170393 0.001409934 1017119 3.894050 4.446735\n",
       "4 right              Republican 3.927371 0.001485107 1017119 3.636295 4.218447\n",
       "  outlet_category \n",
       "1 Left - Combined \n",
       "2 Right - Combined\n",
       "3 Left - Combined \n",
       "4 Right - Combined"
      ]
     },
     "metadata": {},
     "output_type": "display_data"
    }
   ],
   "source": [
    "emmeans_plot_2_matched_table"
   ]
  },
  {
   "cell_type": "code",
   "execution_count": 53,
   "id": "6b4c392a",
   "metadata": {},
   "outputs": [
    {
     "data": {
      "text/html": [
       "<strong>png:</strong> 2"
      ],
      "text/latex": [
       "\\textbf{png:} 2"
      ],
      "text/markdown": [
       "**png:** 2"
      ],
      "text/plain": [
       "png \n",
       "  2 "
      ]
     },
     "metadata": {},
     "output_type": "display_data"
    }
   ],
   "source": [
    "pdf(file='model2_matched_coeff_percent_swapped.pdf',width = 6.5, height = 2.0,onefile=F)\n",
    "emmeans_plot_2_matched_table%>%\n",
    "group_by(outlet_category) %>% \n",
    "forestplot(labeltext = party, \n",
    "                mean = emmean,\n",
    "            lower = lower.CL, \n",
    "            upper = upper.CL,\n",
    "           boxsize = .25,\n",
    "                            col = fpColors(box = c(\"royalblue\", \"red\"),\n",
    "                line = c(\"darkblue\", \"red\"),\n",
    "                summary = c(\"royalblue\",\"red\")),\n",
    "                    fn.ci_norm = c(\n",
    "                        rep(\"fpDrawCircleCI\",2)),\n",
    "                        grid=TRUE,\n",
    "                                  graphwidth=unit(12, \"cm\"),\n",
    "                                  lineheight=unit(2.0, \"cm\"),\n",
    "           zero=NA,\n",
    "           #lwd.zero=gpar(lwd = 2),\n",
    "           align=c('r','l'),\n",
    "           xticks = c(3, 3.5,4,4.5,5),\n",
    "        xlab=expression(paste(\"Percentage nonobjective quotative (\",gamma+eta+sigma,\")\")),\n",
    "\n",
    "                 txt_gp = fpTxtGp(label =  gpar(cex=1.5),\n",
    "                              ticks = gpar(cex = 1.5),\n",
    "                              xlab  = gpar(cex = 1.5)))\n",
    "dev.off()"
   ]
  },
  {
   "cell_type": "markdown",
   "id": "3c3453e0",
   "metadata": {},
   "source": [
    "# Generate Plot for Equation 2 (Contrast, Matched) - Figure 7"
   ]
  },
  {
   "cell_type": "code",
   "execution_count": 54,
   "id": "5da38bb8",
   "metadata": {},
   "outputs": [],
   "source": [
    "emmeans_plot_2_matched=emmeans(model2_matched, specs = pairwise ~ outlet_lean_binary:party,vcov = as.matrix(cl_vcov_mat2_matched))\n"
   ]
  },
  {
   "cell_type": "code",
   "execution_count": 55,
   "id": "1afd4c5b",
   "metadata": {},
   "outputs": [
    {
     "data": {
      "text/plain": [
       " contrast                            estimate       SE      df t.ratio p.value\n",
       " left democratic - right democratic  -0.00585 0.002203 1017119  -2.655  0.0396\n",
       " left democratic - left republican   -0.00722 0.000903 1017119  -7.997  <.0001\n",
       " left democratic - right republican  -0.00479 0.001825 1017119  -2.627  0.0427\n",
       " right democratic - left republican  -0.00137 0.002391 1017119  -0.575  0.9397\n",
       " right democratic - right republican  0.00106 0.001441 1017119   0.733  0.8839\n",
       " left republican - right republican   0.00243 0.002048 1017119   1.187  0.6352\n",
       "\n",
       "P value adjustment: tukey method for comparing a family of 4 estimates "
      ]
     },
     "metadata": {},
     "output_type": "display_data"
    }
   ],
   "source": [
    "emmeans_plot_2_matched$contrasts"
   ]
  },
  {
   "cell_type": "code",
   "execution_count": 56,
   "id": "13e28224",
   "metadata": {},
   "outputs": [],
   "source": [
    "emmeans_plot_2_matched_table=as.data.table(emmeans_plot_2_matched$contrasts)\n",
    "emmeans_plot_2_matched_table=emmeans_plot_2_matched_table[c(2,5),]\n",
    "emmeans_plot_2_matched_table$party=c('Left (Combined)','Right (Combined)')\n",
    "emmeans_plot_2_matched_table$estimate=emmeans_plot_2_matched_table$estimate*100\n",
    "conf=confint(emmeans_plot_2_matched$contrasts, adjust = \"tukey\")\n",
    "conf=conf[c(2,5),]\n",
    "emmeans_plot_2_matched_table$lower.CL=conf$lower.CL*100\n",
    "emmeans_plot_2_matched_table$upper.CL=conf$upper.CL*100\n",
    "\n"
   ]
  },
  {
   "cell_type": "code",
   "execution_count": 57,
   "id": "23f8dffc",
   "metadata": {},
   "outputs": [
    {
     "data": {
      "text/html": [
       "<table class=\"dataframe\">\n",
       "<caption>A data.table: 2 × 9</caption>\n",
       "<thead>\n",
       "\t<tr><th scope=col>contrast</th><th scope=col>estimate</th><th scope=col>SE</th><th scope=col>df</th><th scope=col>t.ratio</th><th scope=col>p.value</th><th scope=col>party</th><th scope=col>lower.CL</th><th scope=col>upper.CL</th></tr>\n",
       "\t<tr><th scope=col>&lt;fct&gt;</th><th scope=col>&lt;dbl&gt;</th><th scope=col>&lt;dbl&gt;</th><th scope=col>&lt;dbl&gt;</th><th scope=col>&lt;dbl&gt;</th><th scope=col>&lt;dbl&gt;</th><th scope=col>&lt;chr&gt;</th><th scope=col>&lt;dbl&gt;</th><th scope=col>&lt;dbl&gt;</th></tr>\n",
       "</thead>\n",
       "<tbody>\n",
       "\t<tr><td>left democratic - left republican  </td><td>-0.7223967</td><td>0.0009032911</td><td>1017119</td><td>-7.9973848</td><td>6.095124e-14</td><td>Left (Combined) </td><td>-0.9544550</td><td>-0.4903383</td></tr>\n",
       "\t<tr><td>right democratic - right republican</td><td> 0.1055903</td><td>0.0014406903</td><td>1017119</td><td> 0.7329145</td><td>8.838885e-01</td><td>Right (Combined)</td><td>-0.2645276</td><td> 0.4757082</td></tr>\n",
       "</tbody>\n",
       "</table>\n"
      ],
      "text/latex": [
       "A data.table: 2 × 9\n",
       "\\begin{tabular}{lllllllll}\n",
       " contrast & estimate & SE & df & t.ratio & p.value & party & lower.CL & upper.CL\\\\\n",
       " <fct> & <dbl> & <dbl> & <dbl> & <dbl> & <dbl> & <chr> & <dbl> & <dbl>\\\\\n",
       "\\hline\n",
       "\t left democratic - left republican   & -0.7223967 & 0.0009032911 & 1017119 & -7.9973848 & 6.095124e-14 & Left (Combined)  & -0.9544550 & -0.4903383\\\\\n",
       "\t right democratic - right republican &  0.1055903 & 0.0014406903 & 1017119 &  0.7329145 & 8.838885e-01 & Right (Combined) & -0.2645276 &  0.4757082\\\\\n",
       "\\end{tabular}\n"
      ],
      "text/markdown": [
       "\n",
       "A data.table: 2 × 9\n",
       "\n",
       "| contrast &lt;fct&gt; | estimate &lt;dbl&gt; | SE &lt;dbl&gt; | df &lt;dbl&gt; | t.ratio &lt;dbl&gt; | p.value &lt;dbl&gt; | party &lt;chr&gt; | lower.CL &lt;dbl&gt; | upper.CL &lt;dbl&gt; |\n",
       "|---|---|---|---|---|---|---|---|---|\n",
       "| left democratic - left republican   | -0.7223967 | 0.0009032911 | 1017119 | -7.9973848 | 6.095124e-14 | Left (Combined)  | -0.9544550 | -0.4903383 |\n",
       "| right democratic - right republican |  0.1055903 | 0.0014406903 | 1017119 |  0.7329145 | 8.838885e-01 | Right (Combined) | -0.2645276 |  0.4757082 |\n",
       "\n"
      ],
      "text/plain": [
       "  contrast                            estimate   SE           df     \n",
       "1 left democratic - left republican   -0.7223967 0.0009032911 1017119\n",
       "2 right democratic - right republican  0.1055903 0.0014406903 1017119\n",
       "  t.ratio    p.value      party            lower.CL   upper.CL  \n",
       "1 -7.9973848 6.095124e-14 Left (Combined)  -0.9544550 -0.4903383\n",
       "2  0.7329145 8.838885e-01 Right (Combined) -0.2645276  0.4757082"
      ]
     },
     "metadata": {},
     "output_type": "display_data"
    }
   ],
   "source": [
    "emmeans_plot_2_matched_table"
   ]
  },
  {
   "cell_type": "code",
   "execution_count": 58,
   "id": "712f9c8e",
   "metadata": {},
   "outputs": [
    {
     "data": {
      "text/html": [
       "<strong>png:</strong> 2"
      ],
      "text/latex": [
       "\\textbf{png:} 2"
      ],
      "text/markdown": [
       "**png:** 2"
      ],
      "text/plain": [
       "png \n",
       "  2 "
      ]
     },
     "metadata": {},
     "output_type": "display_data"
    }
   ],
   "source": [
    "pdf(file='model2_matched_coeff_contrast.pdf',width =8.5, height = 2.5,onefile=F)\n",
    "emmeans_plot_2_matched_table%>%forestplot(labeltext = party, \n",
    "                                  ,\n",
    "                    fn.ci_norm = c(\n",
    "                        \"fpDrawCircleCI\",\"fpDrawPointCI\"),\n",
    "                        boxsize = c(0.25,0.25/0.7227),\n",
    "                mean = estimate,\n",
    "            lower = lower.CL, \n",
    "            upper = upper.CL,\n",
    "                col = fpColors(box = \"royalblue\",\n",
    "                line = \"royalblue\",\n",
    "                summary = \"royalblue\"),\n",
    "                                  grid=TRUE,\n",
    "                                  graphwidth=unit(15, \"cm\"),\n",
    "                                  lineheight=unit(2.0, \"cm\"),\n",
    "                lwd.zero=gpar(lwd = 2),\n",
    "                         align=c('r','l'),\n",
    "                xticks = seq(from = -1.25, to = .75, by = 0.5),\n",
    "                xlab = expression(atop(\"Democratic - Republican\",paste(\"Percentage nonobjective quotative (\",sigma,\")\"))),\n",
    "                #xlab=expression(paste(\"Percentage nonobjective quotative (\",gamma+eta+sigma,\")\")),\n",
    "                #xlab= \"Democratic - Republican\",\n",
    "                 txt_gp = fpTxtGp(label =  gpar(cex=1.5),\n",
    "                              ticks = gpar(cex = 1.5),\n",
    "                              xlab  = gpar(cex = 1.5)))\n",
    "dev.off()\n",
    "\n",
    "\n"
   ]
  },
  {
   "cell_type": "markdown",
   "id": "4099d860",
   "metadata": {},
   "source": [
    "# Generate Plot for Equation 3 - Figure 8"
   ]
  },
  {
   "cell_type": "code",
   "execution_count": 59,
   "id": "d960301d",
   "metadata": {},
   "outputs": [],
   "source": [
    "emmeans_plot_3=(emtrends(model3, specs = pairwise ~ outlet_category:party,var = 'relative_time',vcov = as.matrix(cl_vcov_mat3)))"
   ]
  },
  {
   "cell_type": "code",
   "execution_count": 60,
   "id": "de789c0b",
   "metadata": {},
   "outputs": [],
   "source": [
    "emmeans_plot_3_table=as.data.table(emmeans_plot_3$contrasts)\n",
    "emmeans_plot_3_table=emmeans_plot_3_table[c(14,5,22,29,35),]\n",
    "emmeans_plot_3_table$contrast=c('Left','Left-Center','Least-Biased','Right-Center','Right')\n",
    "emmeans_plot_3_table$estimate=emmeans_plot_3_table$estimate*12*100\n",
    "conf=confint(emmeans_plot_3$contrasts, adjust = \"tukey\")\n",
    "conf=conf[c(14,5,22,29,35),]\n",
    "emmeans_plot_3_table$lower.CL=conf$lower.CL*12*100\n",
    "emmeans_plot_3_table$upper.CL=conf$upper.CL*12*100\n",
    "emmeans_plot_3_table$estimate=round(emmeans_plot_3_table$estimate,4)\n"
   ]
  },
  {
   "cell_type": "code",
   "execution_count": 61,
   "id": "fdbc94cd",
   "metadata": {},
   "outputs": [
    {
     "data": {
      "text/html": [
       "<table class=\"dataframe\">\n",
       "<caption>A data.table: 5 × 8</caption>\n",
       "<thead>\n",
       "\t<tr><th scope=col>contrast</th><th scope=col>estimate</th><th scope=col>SE</th><th scope=col>df</th><th scope=col>t.ratio</th><th scope=col>p.value</th><th scope=col>lower.CL</th><th scope=col>upper.CL</th></tr>\n",
       "\t<tr><th scope=col>&lt;chr&gt;</th><th scope=col>&lt;dbl&gt;</th><th scope=col>&lt;dbl&gt;</th><th scope=col>&lt;dbl&gt;</th><th scope=col>&lt;dbl&gt;</th><th scope=col>&lt;dbl&gt;</th><th scope=col>&lt;dbl&gt;</th><th scope=col>&lt;dbl&gt;</th></tr>\n",
       "</thead>\n",
       "<tbody>\n",
       "\t<tr><td>Left        </td><td>-0.4986</td><td>5.419480e-05</td><td>6723238</td><td> -7.666845</td><td>8.523182e-13</td><td>-0.70434999</td><td>-0.2928575</td></tr>\n",
       "\t<tr><td>Left-Center </td><td>-0.3324</td><td>2.215581e-05</td><td>6723238</td><td>-12.503943</td><td>0.000000e+00</td><td>-0.41655477</td><td>-0.2483292</td></tr>\n",
       "\t<tr><td>Least-Biased</td><td>-0.2868</td><td>1.961397e-05</td><td>6723238</td><td>-12.184404</td><td>0.000000e+00</td><td>-0.36124427</td><td>-0.2123185</td></tr>\n",
       "\t<tr><td>Right-Center</td><td>-0.2242</td><td>2.387624e-05</td><td>6723238</td><td> -7.823959</td><td>2.863265e-13</td><td>-0.31481230</td><td>-0.1335238</td></tr>\n",
       "\t<tr><td>Right       </td><td> 0.1733</td><td>5.331160e-05</td><td>6723238</td><td>  2.708716</td><td>1.699217e-01</td><td>-0.02910607</td><td> 0.3756804</td></tr>\n",
       "</tbody>\n",
       "</table>\n"
      ],
      "text/latex": [
       "A data.table: 5 × 8\n",
       "\\begin{tabular}{llllllll}\n",
       " contrast & estimate & SE & df & t.ratio & p.value & lower.CL & upper.CL\\\\\n",
       " <chr> & <dbl> & <dbl> & <dbl> & <dbl> & <dbl> & <dbl> & <dbl>\\\\\n",
       "\\hline\n",
       "\t Left         & -0.4986 & 5.419480e-05 & 6723238 &  -7.666845 & 8.523182e-13 & -0.70434999 & -0.2928575\\\\\n",
       "\t Left-Center  & -0.3324 & 2.215581e-05 & 6723238 & -12.503943 & 0.000000e+00 & -0.41655477 & -0.2483292\\\\\n",
       "\t Least-Biased & -0.2868 & 1.961397e-05 & 6723238 & -12.184404 & 0.000000e+00 & -0.36124427 & -0.2123185\\\\\n",
       "\t Right-Center & -0.2242 & 2.387624e-05 & 6723238 &  -7.823959 & 2.863265e-13 & -0.31481230 & -0.1335238\\\\\n",
       "\t Right        &  0.1733 & 5.331160e-05 & 6723238 &   2.708716 & 1.699217e-01 & -0.02910607 &  0.3756804\\\\\n",
       "\\end{tabular}\n"
      ],
      "text/markdown": [
       "\n",
       "A data.table: 5 × 8\n",
       "\n",
       "| contrast &lt;chr&gt; | estimate &lt;dbl&gt; | SE &lt;dbl&gt; | df &lt;dbl&gt; | t.ratio &lt;dbl&gt; | p.value &lt;dbl&gt; | lower.CL &lt;dbl&gt; | upper.CL &lt;dbl&gt; |\n",
       "|---|---|---|---|---|---|---|---|\n",
       "| Left         | -0.4986 | 5.419480e-05 | 6723238 |  -7.666845 | 8.523182e-13 | -0.70434999 | -0.2928575 |\n",
       "| Left-Center  | -0.3324 | 2.215581e-05 | 6723238 | -12.503943 | 0.000000e+00 | -0.41655477 | -0.2483292 |\n",
       "| Least-Biased | -0.2868 | 1.961397e-05 | 6723238 | -12.184404 | 0.000000e+00 | -0.36124427 | -0.2123185 |\n",
       "| Right-Center | -0.2242 | 2.387624e-05 | 6723238 |  -7.823959 | 2.863265e-13 | -0.31481230 | -0.1335238 |\n",
       "| Right        |  0.1733 | 5.331160e-05 | 6723238 |   2.708716 | 1.699217e-01 | -0.02910607 |  0.3756804 |\n",
       "\n"
      ],
      "text/plain": [
       "  contrast     estimate SE           df      t.ratio    p.value     \n",
       "1 Left         -0.4986  5.419480e-05 6723238  -7.666845 8.523182e-13\n",
       "2 Left-Center  -0.3324  2.215581e-05 6723238 -12.503943 0.000000e+00\n",
       "3 Least-Biased -0.2868  1.961397e-05 6723238 -12.184404 0.000000e+00\n",
       "4 Right-Center -0.2242  2.387624e-05 6723238  -7.823959 2.863265e-13\n",
       "5 Right         0.1733  5.331160e-05 6723238   2.708716 1.699217e-01\n",
       "  lower.CL    upper.CL  \n",
       "1 -0.70434999 -0.2928575\n",
       "2 -0.41655477 -0.2483292\n",
       "3 -0.36124427 -0.2123185\n",
       "4 -0.31481230 -0.1335238\n",
       "5 -0.02910607  0.3756804"
      ]
     },
     "metadata": {},
     "output_type": "display_data"
    }
   ],
   "source": [
    "emmeans_plot_3_table"
   ]
  },
  {
   "cell_type": "code",
   "execution_count": 62,
   "id": "193f7038",
   "metadata": {},
   "outputs": [
    {
     "data": {
      "text/html": [
       "<strong>png:</strong> 2"
      ],
      "text/latex": [
       "\\textbf{png:} 2"
      ],
      "text/markdown": [
       "**png:** 2"
      ],
      "text/plain": [
       "png \n",
       "  2 "
      ]
     },
     "metadata": {},
     "output_type": "display_data"
    }
   ],
   "source": [
    "pdf(file='model3_coeff.pdf',width =8.2, height = 3.5,onefile=F)\n",
    "emmeans_plot_3_table%>%forestplot(labeltext = c(contrast), \n",
    "                                  ,\n",
    "                    fn.ci_norm = c(\n",
    "                        rep(\"fpDrawCircleCI\",4),\n",
    "                                   \"fpDrawPointCI\"),\n",
    "                    boxsize = c(rep(0.25,4),0.25/0.7227),\n",
    "                mean = estimate,\n",
    "            lower = lower.CL, \n",
    "            upper = upper.CL,\n",
    "                col = fpColors(box = \"royalblue\",\n",
    "                line = \"royalblue\",\n",
    "                summary = \"royalblue\"),\n",
    "                                  grid=TRUE,\n",
    "                                  graphwidth=unit(15, \"cm\"),\n",
    "                                  lineheight=unit(1.5, \"cm\"),\n",
    "                lwd.zero=gpar(lwd = 2),\n",
    "                         align=c('r','l'),\n",
    "                xticks = seq(from = -.5, to = .5, by = 0.25),\n",
    "                xlab = expression(atop(\"Democratic - Republican\",paste(\"Percentage rate of change (\",lambda,\")\"))),\n",
    "                #xlab=expression(paste(\"Percentage nonobjective quotative (\",gamma+eta+sigma,\")\")),\n",
    "                #xlab= \"Democratic - Republican\",\n",
    "                 txt_gp = fpTxtGp(label =  gpar(cex=1.5),\n",
    "                              ticks = gpar(cex = 1.5),\n",
    "                              xlab  = gpar(cex = 1.5)))\n",
    "dev.off()\n",
    "\n"
   ]
  }
 ],
 "metadata": {
  "kernelspec": {
   "display_name": "R",
   "language": "R",
   "name": "ir"
  },
  "language_info": {
   "codemirror_mode": "r",
   "file_extension": ".r",
   "mimetype": "text/x-r-source",
   "name": "R",
   "pygments_lexer": "r",
   "version": "3.6.3"
  }
 },
 "nbformat": 4,
 "nbformat_minor": 5
}
